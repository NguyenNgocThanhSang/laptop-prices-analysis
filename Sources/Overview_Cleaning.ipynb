{
 "cells": [
  {
   "cell_type": "markdown",
   "metadata": {},
   "source": [
    "### Import thư viện\n"
   ]
  },
  {
   "cell_type": "code",
   "execution_count": 95,
   "metadata": {},
   "outputs": [],
   "source": [
    "import pandas as pd\n",
    "import numpy as np\n",
    "import matplotlib.pyplot as plt\n",
    "import seaborn as sns\n",
    "import regex as re"
   ]
  },
  {
   "cell_type": "markdown",
   "metadata": {},
   "source": [
    "### Load & Overview dữ liệu\n"
   ]
  },
  {
   "cell_type": "markdown",
   "metadata": {},
   "source": [
    "#### Load dữ liệu\n"
   ]
  },
  {
   "cell_type": "code",
   "execution_count": 96,
   "metadata": {},
   "outputs": [
    {
     "data": {
      "text/html": [
       "<div>\n",
       "<style scoped>\n",
       "    .dataframe tbody tr th:only-of-type {\n",
       "        vertical-align: middle;\n",
       "    }\n",
       "\n",
       "    .dataframe tbody tr th {\n",
       "        vertical-align: top;\n",
       "    }\n",
       "\n",
       "    .dataframe thead th {\n",
       "        text-align: right;\n",
       "    }\n",
       "</style>\n",
       "<table border=\"1\" class=\"dataframe\">\n",
       "  <thead>\n",
       "    <tr style=\"text-align: right;\">\n",
       "      <th></th>\n",
       "      <th>Unnamed: 0</th>\n",
       "      <th>Brand</th>\n",
       "      <th>Name</th>\n",
       "      <th>Price</th>\n",
       "      <th>Processor_Name</th>\n",
       "      <th>Processor_Brand</th>\n",
       "      <th>RAM_Expandable</th>\n",
       "      <th>RAM</th>\n",
       "      <th>RAM_TYPE</th>\n",
       "      <th>Ghz</th>\n",
       "      <th>Display_type</th>\n",
       "      <th>Display</th>\n",
       "      <th>GPU</th>\n",
       "      <th>GPU_Brand</th>\n",
       "      <th>SSD</th>\n",
       "      <th>HDD</th>\n",
       "      <th>Adapter</th>\n",
       "      <th>Battery_Life</th>\n",
       "    </tr>\n",
       "  </thead>\n",
       "  <tbody>\n",
       "    <tr>\n",
       "      <th>0</th>\n",
       "      <td>0</td>\n",
       "      <td>HP</td>\n",
       "      <td>HP Chromebook 11A-NA0002MU (2E4N0PA) Laptop (1...</td>\n",
       "      <td>22990</td>\n",
       "      <td>MediaTek Octa-core</td>\n",
       "      <td>MediaTek</td>\n",
       "      <td>Not Expandable</td>\n",
       "      <td>4 GB</td>\n",
       "      <td>DDR4 RAM</td>\n",
       "      <td>2.0 Ghz Processor</td>\n",
       "      <td>LED</td>\n",
       "      <td>11.6</td>\n",
       "      <td>Integrated Graphics</td>\n",
       "      <td>MediaTek</td>\n",
       "      <td>64 GB SSD Storage</td>\n",
       "      <td>No HDD</td>\n",
       "      <td>45</td>\n",
       "      <td>Upto 12 Hrs Battery Life</td>\n",
       "    </tr>\n",
       "    <tr>\n",
       "      <th>1</th>\n",
       "      <td>1</td>\n",
       "      <td>Lenovo</td>\n",
       "      <td>Lenovo Ideapad Slim 3 (82KU017KIN) Laptop (15....</td>\n",
       "      <td>36289</td>\n",
       "      <td>AMD Hexa-Core Ryzen 5</td>\n",
       "      <td>AMD</td>\n",
       "      <td>12 GB Expandable</td>\n",
       "      <td>8 GB</td>\n",
       "      <td>DDR4 RAM</td>\n",
       "      <td>4.0 Ghz Processor</td>\n",
       "      <td>LCD</td>\n",
       "      <td>15.6</td>\n",
       "      <td>Radeon</td>\n",
       "      <td>AMD</td>\n",
       "      <td>512 GB SSD Storage</td>\n",
       "      <td>No HDD</td>\n",
       "      <td>65</td>\n",
       "      <td>Upto 11 Hrs Battery Life</td>\n",
       "    </tr>\n",
       "    <tr>\n",
       "      <th>2</th>\n",
       "      <td>3</td>\n",
       "      <td>Dell</td>\n",
       "      <td>Dell G15-5520 (D560822WIN9B) Laptop (15.6 Inch...</td>\n",
       "      <td>78500</td>\n",
       "      <td>Intel Core i5 (12th Gen)</td>\n",
       "      <td>Intel</td>\n",
       "      <td>32 GB Expandable</td>\n",
       "      <td>16 GB</td>\n",
       "      <td>DDR5 RAM</td>\n",
       "      <td>3.3 Ghz Processor</td>\n",
       "      <td>LCD</td>\n",
       "      <td>15.6</td>\n",
       "      <td>GeForce RTX 3050 GPU, 4 GB</td>\n",
       "      <td>NVIDIA</td>\n",
       "      <td>512 GB SSD Storage</td>\n",
       "      <td>No HDD</td>\n",
       "      <td>56</td>\n",
       "      <td>Upto 10 Hrs Battery Life</td>\n",
       "    </tr>\n",
       "    <tr>\n",
       "      <th>3</th>\n",
       "      <td>4</td>\n",
       "      <td>HP</td>\n",
       "      <td>HP 15s-fy5007TU (91R03PA) Laptop (15.6 Inch | ...</td>\n",
       "      <td>55490</td>\n",
       "      <td>Intel Core i5 (12th Gen)</td>\n",
       "      <td>Intel</td>\n",
       "      <td>8 GB Expandable</td>\n",
       "      <td>8 GB</td>\n",
       "      <td>DDR4 RAM</td>\n",
       "      <td>4.2 Ghz Processor</td>\n",
       "      <td>LCD</td>\n",
       "      <td>15.6</td>\n",
       "      <td>Iris Xe</td>\n",
       "      <td>Intel</td>\n",
       "      <td>512 GB SSD Storage</td>\n",
       "      <td>No HDD</td>\n",
       "      <td>no</td>\n",
       "      <td>Upto 7.30 Hrs Battery Life</td>\n",
       "    </tr>\n",
       "    <tr>\n",
       "      <th>4</th>\n",
       "      <td>6</td>\n",
       "      <td>Infinix</td>\n",
       "      <td>Infinix Inbook Y2 Plus XL29 Laptop (15.6 Inch ...</td>\n",
       "      <td>21990</td>\n",
       "      <td>Intel Core i3 (11th Gen)</td>\n",
       "      <td>Intel</td>\n",
       "      <td>Not Expandable</td>\n",
       "      <td>8 GB LP</td>\n",
       "      <td>LPDDR4X RAM</td>\n",
       "      <td>1.7 Ghz Processor</td>\n",
       "      <td>LCD</td>\n",
       "      <td>15.6</td>\n",
       "      <td>UHD</td>\n",
       "      <td>Intel</td>\n",
       "      <td>512 GB SSD Storage</td>\n",
       "      <td>No HDD</td>\n",
       "      <td>45</td>\n",
       "      <td>Upto 8 Hrs Battery Life</td>\n",
       "    </tr>\n",
       "  </tbody>\n",
       "</table>\n",
       "</div>"
      ],
      "text/plain": [
       "   Unnamed: 0    Brand                                               Name  \\\n",
       "0           0       HP  HP Chromebook 11A-NA0002MU (2E4N0PA) Laptop (1...   \n",
       "1           1   Lenovo  Lenovo Ideapad Slim 3 (82KU017KIN) Laptop (15....   \n",
       "2           3     Dell  Dell G15-5520 (D560822WIN9B) Laptop (15.6 Inch...   \n",
       "3           4       HP  HP 15s-fy5007TU (91R03PA) Laptop (15.6 Inch | ...   \n",
       "4           6  Infinix  Infinix Inbook Y2 Plus XL29 Laptop (15.6 Inch ...   \n",
       "\n",
       "   Price            Processor_Name Processor_Brand     RAM_Expandable  \\\n",
       "0  22990        MediaTek Octa-core        MediaTek     Not Expandable   \n",
       "1  36289     AMD Hexa-Core Ryzen 5             AMD   12 GB Expandable   \n",
       "2  78500  Intel Core i5 (12th Gen)           Intel   32 GB Expandable   \n",
       "3  55490  Intel Core i5 (12th Gen)           Intel    8 GB Expandable   \n",
       "4  21990  Intel Core i3 (11th Gen)           Intel     Not Expandable   \n",
       "\n",
       "       RAM      RAM_TYPE                 Ghz Display_type Display  \\\n",
       "0    4 GB       DDR4 RAM   2.0 Ghz Processor          LED   11.6    \n",
       "1    8 GB      DDR4 RAM    4.0 Ghz Processor          LCD   15.6    \n",
       "2   16 GB      DDR5 RAM    3.3 Ghz Processor          LCD   15.6    \n",
       "3    8 GB      DDR4 RAM    4.2 Ghz Processor          LCD   15.6    \n",
       "4  8 GB LP   LPDDR4X RAM   1.7 Ghz Processor          LCD   15.6    \n",
       "\n",
       "                          GPU GPU_Brand                 SSD     HDD Adapter  \\\n",
       "0         Integrated Graphics  MediaTek   64 GB SSD Storage  No HDD      45   \n",
       "1                      Radeon       AMD  512 GB SSD Storage  No HDD      65   \n",
       "2  GeForce RTX 3050 GPU, 4 GB    NVIDIA  512 GB SSD Storage  No HDD      56   \n",
       "3                     Iris Xe     Intel  512 GB SSD Storage  No HDD      no   \n",
       "4                         UHD     Intel  512 GB SSD Storage  No HDD      45   \n",
       "\n",
       "                 Battery_Life  \n",
       "0    Upto 12 Hrs Battery Life  \n",
       "1    Upto 11 Hrs Battery Life  \n",
       "2    Upto 10 Hrs Battery Life  \n",
       "3  Upto 7.30 Hrs Battery Life  \n",
       "4     Upto 8 Hrs Battery Life  "
      ]
     },
     "execution_count": 96,
     "metadata": {},
     "output_type": "execute_result"
    }
   ],
   "source": [
    "df = pd.read_csv('../Data/laptop.csv')\n",
    "df.head(5)"
   ]
  },
  {
   "cell_type": "markdown",
   "metadata": {},
   "source": [
    "Xem thông tin tóm tắt của dữ liệu\n"
   ]
  },
  {
   "cell_type": "code",
   "execution_count": 97,
   "metadata": {},
   "outputs": [
    {
     "name": "stdout",
     "output_type": "stream",
     "text": [
      "<class 'pandas.core.frame.DataFrame'>\n",
      "RangeIndex: 3976 entries, 0 to 3975\n",
      "Data columns (total 18 columns):\n",
      " #   Column           Non-Null Count  Dtype \n",
      "---  ------           --------------  ----- \n",
      " 0   Unnamed: 0       3976 non-null   int64 \n",
      " 1   Brand            3976 non-null   object\n",
      " 2   Name             3976 non-null   object\n",
      " 3   Price            3976 non-null   int64 \n",
      " 4   Processor_Name   3976 non-null   object\n",
      " 5   Processor_Brand  3976 non-null   object\n",
      " 6   RAM_Expandable   3976 non-null   object\n",
      " 7   RAM              3976 non-null   object\n",
      " 8   RAM_TYPE         3976 non-null   object\n",
      " 9   Ghz              3976 non-null   object\n",
      " 10  Display_type     3976 non-null   object\n",
      " 11  Display          3976 non-null   object\n",
      " 12  GPU              3968 non-null   object\n",
      " 13  GPU_Brand        3972 non-null   object\n",
      " 14  SSD              3976 non-null   object\n",
      " 15  HDD              3976 non-null   object\n",
      " 16  Adapter          3976 non-null   object\n",
      " 17  Battery_Life     3558 non-null   object\n",
      "dtypes: int64(2), object(16)\n",
      "memory usage: 559.3+ KB\n"
     ]
    }
   ],
   "source": [
    "df.info()"
   ]
  },
  {
   "cell_type": "markdown",
   "metadata": {},
   "source": [
    "Kết quả ban đầu cho thấy bộ dữ liệu có 18 cột, trong đó có 1 cột \"Unnamed: 0\" không có ý nghĩa, còn lại hầu hết là các cột có kiểu dữ liệu chuỗi (object). Còn lại cột \"Price\" có kiểu dữ liệu là int. Vì đề tài đồ án là phân tích giá bán laptop nên trường thông tin \"Price\" sẽ là biến mục tiêu. Nhóm sẽ thực hiện phân tích sự ảnh hưởng của các yếu tố khác tới trường dữ liệu này.\n"
   ]
  },
  {
   "cell_type": "markdown",
   "metadata": {},
   "source": [
    "Ý nghĩa của các trường dữ liệu:\n",
    "\n",
    "- Brand: Thương hiệu máy tính xách tay (ví dụ: HP, Lenovo, Dell).\n",
    "- Name: Tên model cụ thể của máy tính xách tay.\n",
    "- Giá của máy tính xách tay (theo đơn vị tiền tệ).\n",
    "- Processor_Name: Tên bộ xử lý được sử dụng (ví dụ: Intel Core i5, AMD Ryzen 5).\n",
    "- Processor-Brand: Thương hiệu bộ xử lý (ví dụ: Intel, AMD, MediaTek).\n",
    "- RAM_Expandable: Chỉ ra liệu RAM có thể mở rộng hay không và mở rộng đến mức nào (ví dụ: \"12 GB Expandable\").\n",
    "- RAM: Dung lượng RAM được lắp đặt trong máy tính xách tay (ví dụ: 8 GB).\n",
    "- RAM_TYPE: Loại RAM được sử dụng (ví dụ: DDR4, LPDDR4X).\n",
    "- Ghz: Tốc độ xung nhịp của bộ xử lý (tính bằng GHz).\n",
    "- Display_type: Loại màn hình được sử dụng (ví dụ: LCD, LED).\n",
    "- Display: Kích thước màn hình của máy tính xách tay (tính bằng inch).\n",
    "- GPU: Mẫu GPU (nếu có), hoặc là \"Integrated Graphics\" đối với card đồ họa tích hợp vào CPU.\n",
    "- GPU_Brand: Thương hiệu của GPU (ví dụ: NVIDIA, AMD, Intel).\n",
    "- SSD: Dung lượng lưu trữ cho SSD (ví dụ: \"512 GB SSD Storage\").\n",
    "- HDD: Dung lượng lưu trữ của HDD (Ổ đĩa cứng) (nếu có).\n",
    "- Adapter: Công suất của bộ chuyển đổi nguồn (tính bằng watt).\n",
    "- Battery_Life: Tuổi thọ pin dự kiến ​​của máy tính xách tay (ví dụ: \"Up to 12 Hrs Battery Life\").\n"
   ]
  },
  {
   "cell_type": "code",
   "execution_count": 98,
   "metadata": {},
   "outputs": [
    {
     "name": "stdout",
     "output_type": "stream",
     "text": [
      "Bộ dữ liệu có 3976 dòng và 18 cột\n"
     ]
    }
   ],
   "source": [
    "# Xem số dòng và cột của bộ dữ liệu\n",
    "print(\"Bộ dữ liệu có {} dòng và {} cột\".format(df.shape[0], df.shape[1]))"
   ]
  },
  {
   "cell_type": "markdown",
   "metadata": {},
   "source": [
    "#### Thống kê và xử lý giá trị bị khuyết\n"
   ]
  },
  {
   "cell_type": "code",
   "execution_count": 99,
   "metadata": {},
   "outputs": [
    {
     "data": {
      "text/html": [
       "<div>\n",
       "<style scoped>\n",
       "    .dataframe tbody tr th:only-of-type {\n",
       "        vertical-align: middle;\n",
       "    }\n",
       "\n",
       "    .dataframe tbody tr th {\n",
       "        vertical-align: top;\n",
       "    }\n",
       "\n",
       "    .dataframe thead th {\n",
       "        text-align: right;\n",
       "    }\n",
       "</style>\n",
       "<table border=\"1\" class=\"dataframe\">\n",
       "  <thead>\n",
       "    <tr style=\"text-align: right;\">\n",
       "      <th></th>\n",
       "      <th>Count</th>\n",
       "      <th>Percentage (%)</th>\n",
       "    </tr>\n",
       "  </thead>\n",
       "  <tbody>\n",
       "    <tr>\n",
       "      <th>Battery_Life</th>\n",
       "      <td>418</td>\n",
       "      <td>10.513078</td>\n",
       "    </tr>\n",
       "    <tr>\n",
       "      <th>GPU</th>\n",
       "      <td>8</td>\n",
       "      <td>0.201207</td>\n",
       "    </tr>\n",
       "    <tr>\n",
       "      <th>GPU_Brand</th>\n",
       "      <td>4</td>\n",
       "      <td>0.100604</td>\n",
       "    </tr>\n",
       "    <tr>\n",
       "      <th>Unnamed: 0</th>\n",
       "      <td>0</td>\n",
       "      <td>0.000000</td>\n",
       "    </tr>\n",
       "    <tr>\n",
       "      <th>Brand</th>\n",
       "      <td>0</td>\n",
       "      <td>0.000000</td>\n",
       "    </tr>\n",
       "    <tr>\n",
       "      <th>Name</th>\n",
       "      <td>0</td>\n",
       "      <td>0.000000</td>\n",
       "    </tr>\n",
       "    <tr>\n",
       "      <th>RAM_Expandable</th>\n",
       "      <td>0</td>\n",
       "      <td>0.000000</td>\n",
       "    </tr>\n",
       "    <tr>\n",
       "      <th>Price</th>\n",
       "      <td>0</td>\n",
       "      <td>0.000000</td>\n",
       "    </tr>\n",
       "    <tr>\n",
       "      <th>Processor_Name</th>\n",
       "      <td>0</td>\n",
       "      <td>0.000000</td>\n",
       "    </tr>\n",
       "    <tr>\n",
       "      <th>Processor_Brand</th>\n",
       "      <td>0</td>\n",
       "      <td>0.000000</td>\n",
       "    </tr>\n",
       "    <tr>\n",
       "      <th>Ghz</th>\n",
       "      <td>0</td>\n",
       "      <td>0.000000</td>\n",
       "    </tr>\n",
       "    <tr>\n",
       "      <th>RAM_TYPE</th>\n",
       "      <td>0</td>\n",
       "      <td>0.000000</td>\n",
       "    </tr>\n",
       "    <tr>\n",
       "      <th>RAM</th>\n",
       "      <td>0</td>\n",
       "      <td>0.000000</td>\n",
       "    </tr>\n",
       "    <tr>\n",
       "      <th>Display</th>\n",
       "      <td>0</td>\n",
       "      <td>0.000000</td>\n",
       "    </tr>\n",
       "    <tr>\n",
       "      <th>Display_type</th>\n",
       "      <td>0</td>\n",
       "      <td>0.000000</td>\n",
       "    </tr>\n",
       "    <tr>\n",
       "      <th>SSD</th>\n",
       "      <td>0</td>\n",
       "      <td>0.000000</td>\n",
       "    </tr>\n",
       "    <tr>\n",
       "      <th>HDD</th>\n",
       "      <td>0</td>\n",
       "      <td>0.000000</td>\n",
       "    </tr>\n",
       "    <tr>\n",
       "      <th>Adapter</th>\n",
       "      <td>0</td>\n",
       "      <td>0.000000</td>\n",
       "    </tr>\n",
       "  </tbody>\n",
       "</table>\n",
       "</div>"
      ],
      "text/plain": [
       "                 Count  Percentage (%)\n",
       "Battery_Life       418       10.513078\n",
       "GPU                  8        0.201207\n",
       "GPU_Brand            4        0.100604\n",
       "Unnamed: 0           0        0.000000\n",
       "Brand                0        0.000000\n",
       "Name                 0        0.000000\n",
       "RAM_Expandable       0        0.000000\n",
       "Price                0        0.000000\n",
       "Processor_Name       0        0.000000\n",
       "Processor_Brand      0        0.000000\n",
       "Ghz                  0        0.000000\n",
       "RAM_TYPE             0        0.000000\n",
       "RAM                  0        0.000000\n",
       "Display              0        0.000000\n",
       "Display_type         0        0.000000\n",
       "SSD                  0        0.000000\n",
       "HDD                  0        0.000000\n",
       "Adapter              0        0.000000"
      ]
     },
     "execution_count": 99,
     "metadata": {},
     "output_type": "execute_result"
    }
   ],
   "source": [
    "# Thống kê tỉ lệ giá trị khuyết trong các trường thông tin\n",
    "total_null = df.isna().sum()\n",
    "percent = total_null/df.shape[0] * 100.0\n",
    "pd.concat([total_null, percent], axis=1, keys=['Count', 'Percentage (%)']).sort_values(by='Percentage (%)', ascending=False)"
   ]
  },
  {
   "cell_type": "markdown",
   "metadata": {},
   "source": [
    "Bộ dữ liệu ban đầu có 3 trường bị khuyết là GPU, GPU_Brand và Battery_Life. Hiển thị các dòng có giá trị khuyết để kiểm tra.\n"
   ]
  },
  {
   "cell_type": "code",
   "execution_count": 100,
   "metadata": {},
   "outputs": [
    {
     "data": {
      "text/html": [
       "<div>\n",
       "<style scoped>\n",
       "    .dataframe tbody tr th:only-of-type {\n",
       "        vertical-align: middle;\n",
       "    }\n",
       "\n",
       "    .dataframe tbody tr th {\n",
       "        vertical-align: top;\n",
       "    }\n",
       "\n",
       "    .dataframe thead th {\n",
       "        text-align: right;\n",
       "    }\n",
       "</style>\n",
       "<table border=\"1\" class=\"dataframe\">\n",
       "  <thead>\n",
       "    <tr style=\"text-align: right;\">\n",
       "      <th></th>\n",
       "      <th>Unnamed: 0</th>\n",
       "      <th>Brand</th>\n",
       "      <th>Name</th>\n",
       "      <th>Price</th>\n",
       "      <th>Processor_Name</th>\n",
       "      <th>Processor_Brand</th>\n",
       "      <th>RAM_Expandable</th>\n",
       "      <th>RAM</th>\n",
       "      <th>RAM_TYPE</th>\n",
       "      <th>Ghz</th>\n",
       "      <th>Display_type</th>\n",
       "      <th>Display</th>\n",
       "      <th>GPU</th>\n",
       "      <th>GPU_Brand</th>\n",
       "      <th>SSD</th>\n",
       "      <th>HDD</th>\n",
       "      <th>Adapter</th>\n",
       "      <th>Battery_Life</th>\n",
       "    </tr>\n",
       "  </thead>\n",
       "  <tbody>\n",
       "    <tr>\n",
       "      <th>20</th>\n",
       "      <td>23</td>\n",
       "      <td>HP</td>\n",
       "      <td>HP Pavilion 14-dv2153TU (8Y2S3PA) Laptop (14 I...</td>\n",
       "      <td>69999</td>\n",
       "      <td>Intel Core i5 (12th Gen)</td>\n",
       "      <td>Intel</td>\n",
       "      <td>16 GB Expandable</td>\n",
       "      <td>16 GB</td>\n",
       "      <td>DDR4 RAM</td>\n",
       "      <td>4.2 Ghz Processor</td>\n",
       "      <td>LCD</td>\n",
       "      <td>14</td>\n",
       "      <td>Iris Xe</td>\n",
       "      <td>Intel</td>\n",
       "      <td>1024 GB SSD Storage</td>\n",
       "      <td>No HDD</td>\n",
       "      <td>no</td>\n",
       "      <td>NaN</td>\n",
       "    </tr>\n",
       "    <tr>\n",
       "      <th>30</th>\n",
       "      <td>34</td>\n",
       "      <td>HP</td>\n",
       "      <td>HP 15-fc0026AU (7L030PA) Laptop (15.6 Inch | A...</td>\n",
       "      <td>36990</td>\n",
       "      <td>AMD Quad-Core Ryzen 3</td>\n",
       "      <td>AMD</td>\n",
       "      <td>Not Expandable</td>\n",
       "      <td>8 GB LP</td>\n",
       "      <td>LPDDR5 RAM</td>\n",
       "      <td>2.4 Ghz Processor</td>\n",
       "      <td>LCD</td>\n",
       "      <td>15.6</td>\n",
       "      <td>Radeon</td>\n",
       "      <td>AMD</td>\n",
       "      <td>512 GB SSD Storage</td>\n",
       "      <td>No HDD</td>\n",
       "      <td>no</td>\n",
       "      <td>NaN</td>\n",
       "    </tr>\n",
       "    <tr>\n",
       "      <th>37</th>\n",
       "      <td>41</td>\n",
       "      <td>HP</td>\n",
       "      <td>HP 14s-dq3017TU (3Y0H4PA) Laptop (14 Inch | Ce...</td>\n",
       "      <td>27875</td>\n",
       "      <td>Intel Celeron Dual-Core</td>\n",
       "      <td>Intel</td>\n",
       "      <td>Not Expandable</td>\n",
       "      <td>8 GB</td>\n",
       "      <td>DDR4 RAM</td>\n",
       "      <td>2.8 Ghz Processor</td>\n",
       "      <td>LED</td>\n",
       "      <td>14</td>\n",
       "      <td>UHD</td>\n",
       "      <td>Intel</td>\n",
       "      <td>256 GB SSD Storage</td>\n",
       "      <td>No HDD</td>\n",
       "      <td>no</td>\n",
       "      <td>NaN</td>\n",
       "    </tr>\n",
       "    <tr>\n",
       "      <th>62</th>\n",
       "      <td>68</td>\n",
       "      <td>Lenovo</td>\n",
       "      <td>Lenovo Legion 5i (82AU00KLIN) Laptop (15.6 Inc...</td>\n",
       "      <td>53535</td>\n",
       "      <td>Intel Core i5 (10th Gen)</td>\n",
       "      <td>Intel</td>\n",
       "      <td>Not Expandable</td>\n",
       "      <td>8 GB</td>\n",
       "      <td>DDR4 RAM</td>\n",
       "      <td>2.5 Ghz Processor</td>\n",
       "      <td>LED</td>\n",
       "      <td>15.6</td>\n",
       "      <td>Geforce GTX 1650 GPU, 4 GB</td>\n",
       "      <td>NVIDIA</td>\n",
       "      <td>512 GB SSD Storage</td>\n",
       "      <td>No HDD</td>\n",
       "      <td>no</td>\n",
       "      <td>NaN</td>\n",
       "    </tr>\n",
       "    <tr>\n",
       "      <th>122</th>\n",
       "      <td>137</td>\n",
       "      <td>HP</td>\n",
       "      <td>HP 14s-dq5138tu (9D3M7PA) Laptop (14 Inch | Co...</td>\n",
       "      <td>41490</td>\n",
       "      <td>Intel Core i3 (12th Gen)</td>\n",
       "      <td>Intel</td>\n",
       "      <td>16 GB Expandable</td>\n",
       "      <td>8 GB</td>\n",
       "      <td>DDR4 RAM</td>\n",
       "      <td>4.2 Ghz Processor</td>\n",
       "      <td>LCD</td>\n",
       "      <td>14</td>\n",
       "      <td>UHD</td>\n",
       "      <td>Intel</td>\n",
       "      <td>512 GB SSD Storage</td>\n",
       "      <td>No HDD</td>\n",
       "      <td>no</td>\n",
       "      <td>NaN</td>\n",
       "    </tr>\n",
       "  </tbody>\n",
       "</table>\n",
       "</div>"
      ],
      "text/plain": [
       "     Unnamed: 0   Brand                                               Name  \\\n",
       "20           23      HP  HP Pavilion 14-dv2153TU (8Y2S3PA) Laptop (14 I...   \n",
       "30           34      HP  HP 15-fc0026AU (7L030PA) Laptop (15.6 Inch | A...   \n",
       "37           41      HP  HP 14s-dq3017TU (3Y0H4PA) Laptop (14 Inch | Ce...   \n",
       "62           68  Lenovo  Lenovo Legion 5i (82AU00KLIN) Laptop (15.6 Inc...   \n",
       "122         137      HP  HP 14s-dq5138tu (9D3M7PA) Laptop (14 Inch | Co...   \n",
       "\n",
       "     Price            Processor_Name Processor_Brand     RAM_Expandable  \\\n",
       "20   69999  Intel Core i5 (12th Gen)           Intel   16 GB Expandable   \n",
       "30   36990     AMD Quad-Core Ryzen 3             AMD     Not Expandable   \n",
       "37   27875   Intel Celeron Dual-Core           Intel     Not Expandable   \n",
       "62   53535  Intel Core i5 (10th Gen)           Intel     Not Expandable   \n",
       "122  41490  Intel Core i3 (12th Gen)           Intel   16 GB Expandable   \n",
       "\n",
       "         RAM     RAM_TYPE                 Ghz Display_type Display  \\\n",
       "20    16 GB     DDR4 RAM    4.2 Ghz Processor          LCD     14    \n",
       "30   8 GB LP   LPDDR5 RAM   2.4 Ghz Processor          LCD   15.6    \n",
       "37     8 GB      DDR4 RAM   2.8 Ghz Processor          LED     14    \n",
       "62     8 GB      DDR4 RAM   2.5 Ghz Processor          LED   15.6    \n",
       "122    8 GB     DDR4 RAM    4.2 Ghz Processor          LCD     14    \n",
       "\n",
       "                            GPU GPU_Brand                  SSD     HDD  \\\n",
       "20                      Iris Xe     Intel  1024 GB SSD Storage  No HDD   \n",
       "30                       Radeon       AMD   512 GB SSD Storage  No HDD   \n",
       "37                          UHD     Intel   256 GB SSD Storage  No HDD   \n",
       "62   Geforce GTX 1650 GPU, 4 GB    NVIDIA   512 GB SSD Storage  No HDD   \n",
       "122                         UHD     Intel   512 GB SSD Storage  No HDD   \n",
       "\n",
       "    Adapter Battery_Life  \n",
       "20       no          NaN  \n",
       "30       no          NaN  \n",
       "37       no          NaN  \n",
       "62       no          NaN  \n",
       "122      no          NaN  "
      ]
     },
     "execution_count": 100,
     "metadata": {},
     "output_type": "execute_result"
    }
   ],
   "source": [
    "null_data = df[df.isna().any(axis=1)]\n",
    "null_data.head(5)"
   ]
  },
  {
   "cell_type": "markdown",
   "metadata": {},
   "source": [
    "Ta nhận thấy rằng cột Battery_Life có tỉ lệ bị khuyết đáng chú ý nên sẽ thực hiện xem xét các giá trị của cột để quyết định xem có thể dùng các phương pháp điền khuyết hay không.\n"
   ]
  },
  {
   "cell_type": "code",
   "execution_count": 101,
   "metadata": {},
   "outputs": [
    {
     "data": {
      "text/plain": [
       "Battery_Life\n",
       "65W Adapter                    803\n",
       "45W Adapter                    287\n",
       " Upto 6 Hrs Battery Life       199\n",
       " Upto 8 Hrs Battery Life       151\n",
       " Upto 10 Hrs Battery Life      144\n",
       "                              ... \n",
       " Upto 12.5 Hrs Battery Life      1\n",
       " Upto 3.5 Hrs Battery Life       1\n",
       "60.7W Adapter                    1\n",
       "69W Adapter                      1\n",
       "71W Adapter                      1\n",
       "Name: count, Length: 191, dtype: int64"
      ]
     },
     "execution_count": 101,
     "metadata": {},
     "output_type": "execute_result"
    }
   ],
   "source": [
    "df['Battery_Life'].value_counts()"
   ]
  },
  {
   "cell_type": "markdown",
   "metadata": {},
   "source": [
    "Ta thấy rằng giá trị của Battery_Life nên là số giờ, chẳng hạn như \"Upto 6 Hrs Battery Life\" thay vì là \"65W Adapter\" (giá trị này có nghĩa là bộ sạc có công suất 65W) trong khi cột Adapter đã thể hiện ý nghĩa này rồi. Điều này có nghĩa là các giá trị như \"65W Adapter không có ý nghĩa trong cột Battery_Life, nên sẽ không có ý nghĩa cho việc hỗ trợ điền khuyết, các giá trị này sẽ được xem là null.\n"
   ]
  },
  {
   "cell_type": "code",
   "execution_count": 102,
   "metadata": {},
   "outputs": [
    {
     "name": "stdout",
     "output_type": "stream",
     "text": [
      "Số lượng khuyết hiện tại trong cột Battery_Life: 2476\n",
      "Tỉ lệ bị khuyết trong cột Battery_Life: 62.3%\n"
     ]
    }
   ],
   "source": [
    "# Chuyển các giá trị chứa 'Adapter' thành NaN trong cột Battery_Life\n",
    "df['Battery_Life'] = df['Battery_Life'].apply(lambda x: np.nan if 'Adapter' in str(x) else x)\n",
    "# Kiếm tra lại số lượng khuyết trong cột Battery_Life\n",
    "null_count = df['Battery_Life'].isna().sum()\n",
    "print(f\"Số lượng khuyết hiện tại trong cột Battery_Life: {null_count}\")\n",
    "print(f\"Tỉ lệ bị khuyết trong cột Battery_Life: {(null_count/df.shape[0]).round(3)*100.0}%\")"
   ]
  },
  {
   "cell_type": "markdown",
   "metadata": {},
   "source": [
    "Như vậy cột Battery_Life có tỉ lệ bị khuyết đáng kể, không còn ý nghĩa trong việc dự đoán nên sẽ được loại bỏ khỏi dữ liệu\n"
   ]
  },
  {
   "cell_type": "code",
   "execution_count": 103,
   "metadata": {},
   "outputs": [
    {
     "data": {
      "text/html": [
       "<div>\n",
       "<style scoped>\n",
       "    .dataframe tbody tr th:only-of-type {\n",
       "        vertical-align: middle;\n",
       "    }\n",
       "\n",
       "    .dataframe tbody tr th {\n",
       "        vertical-align: top;\n",
       "    }\n",
       "\n",
       "    .dataframe thead th {\n",
       "        text-align: right;\n",
       "    }\n",
       "</style>\n",
       "<table border=\"1\" class=\"dataframe\">\n",
       "  <thead>\n",
       "    <tr style=\"text-align: right;\">\n",
       "      <th></th>\n",
       "      <th>Unnamed: 0</th>\n",
       "      <th>Brand</th>\n",
       "      <th>Name</th>\n",
       "      <th>Price</th>\n",
       "      <th>Processor_Name</th>\n",
       "      <th>Processor_Brand</th>\n",
       "      <th>RAM_Expandable</th>\n",
       "      <th>RAM</th>\n",
       "      <th>RAM_TYPE</th>\n",
       "      <th>Ghz</th>\n",
       "      <th>Display_type</th>\n",
       "      <th>Display</th>\n",
       "      <th>GPU</th>\n",
       "      <th>GPU_Brand</th>\n",
       "      <th>SSD</th>\n",
       "      <th>HDD</th>\n",
       "      <th>Adapter</th>\n",
       "    </tr>\n",
       "  </thead>\n",
       "  <tbody>\n",
       "    <tr>\n",
       "      <th>0</th>\n",
       "      <td>0</td>\n",
       "      <td>HP</td>\n",
       "      <td>HP Chromebook 11A-NA0002MU (2E4N0PA) Laptop (1...</td>\n",
       "      <td>22990</td>\n",
       "      <td>MediaTek Octa-core</td>\n",
       "      <td>MediaTek</td>\n",
       "      <td>Not Expandable</td>\n",
       "      <td>4 GB</td>\n",
       "      <td>DDR4 RAM</td>\n",
       "      <td>2.0 Ghz Processor</td>\n",
       "      <td>LED</td>\n",
       "      <td>11.6</td>\n",
       "      <td>Integrated Graphics</td>\n",
       "      <td>MediaTek</td>\n",
       "      <td>64 GB SSD Storage</td>\n",
       "      <td>No HDD</td>\n",
       "      <td>45</td>\n",
       "    </tr>\n",
       "    <tr>\n",
       "      <th>1</th>\n",
       "      <td>1</td>\n",
       "      <td>Lenovo</td>\n",
       "      <td>Lenovo Ideapad Slim 3 (82KU017KIN) Laptop (15....</td>\n",
       "      <td>36289</td>\n",
       "      <td>AMD Hexa-Core Ryzen 5</td>\n",
       "      <td>AMD</td>\n",
       "      <td>12 GB Expandable</td>\n",
       "      <td>8 GB</td>\n",
       "      <td>DDR4 RAM</td>\n",
       "      <td>4.0 Ghz Processor</td>\n",
       "      <td>LCD</td>\n",
       "      <td>15.6</td>\n",
       "      <td>Radeon</td>\n",
       "      <td>AMD</td>\n",
       "      <td>512 GB SSD Storage</td>\n",
       "      <td>No HDD</td>\n",
       "      <td>65</td>\n",
       "    </tr>\n",
       "    <tr>\n",
       "      <th>2</th>\n",
       "      <td>3</td>\n",
       "      <td>Dell</td>\n",
       "      <td>Dell G15-5520 (D560822WIN9B) Laptop (15.6 Inch...</td>\n",
       "      <td>78500</td>\n",
       "      <td>Intel Core i5 (12th Gen)</td>\n",
       "      <td>Intel</td>\n",
       "      <td>32 GB Expandable</td>\n",
       "      <td>16 GB</td>\n",
       "      <td>DDR5 RAM</td>\n",
       "      <td>3.3 Ghz Processor</td>\n",
       "      <td>LCD</td>\n",
       "      <td>15.6</td>\n",
       "      <td>GeForce RTX 3050 GPU, 4 GB</td>\n",
       "      <td>NVIDIA</td>\n",
       "      <td>512 GB SSD Storage</td>\n",
       "      <td>No HDD</td>\n",
       "      <td>56</td>\n",
       "    </tr>\n",
       "    <tr>\n",
       "      <th>3</th>\n",
       "      <td>4</td>\n",
       "      <td>HP</td>\n",
       "      <td>HP 15s-fy5007TU (91R03PA) Laptop (15.6 Inch | ...</td>\n",
       "      <td>55490</td>\n",
       "      <td>Intel Core i5 (12th Gen)</td>\n",
       "      <td>Intel</td>\n",
       "      <td>8 GB Expandable</td>\n",
       "      <td>8 GB</td>\n",
       "      <td>DDR4 RAM</td>\n",
       "      <td>4.2 Ghz Processor</td>\n",
       "      <td>LCD</td>\n",
       "      <td>15.6</td>\n",
       "      <td>Iris Xe</td>\n",
       "      <td>Intel</td>\n",
       "      <td>512 GB SSD Storage</td>\n",
       "      <td>No HDD</td>\n",
       "      <td>no</td>\n",
       "    </tr>\n",
       "    <tr>\n",
       "      <th>4</th>\n",
       "      <td>6</td>\n",
       "      <td>Infinix</td>\n",
       "      <td>Infinix Inbook Y2 Plus XL29 Laptop (15.6 Inch ...</td>\n",
       "      <td>21990</td>\n",
       "      <td>Intel Core i3 (11th Gen)</td>\n",
       "      <td>Intel</td>\n",
       "      <td>Not Expandable</td>\n",
       "      <td>8 GB LP</td>\n",
       "      <td>LPDDR4X RAM</td>\n",
       "      <td>1.7 Ghz Processor</td>\n",
       "      <td>LCD</td>\n",
       "      <td>15.6</td>\n",
       "      <td>UHD</td>\n",
       "      <td>Intel</td>\n",
       "      <td>512 GB SSD Storage</td>\n",
       "      <td>No HDD</td>\n",
       "      <td>45</td>\n",
       "    </tr>\n",
       "  </tbody>\n",
       "</table>\n",
       "</div>"
      ],
      "text/plain": [
       "   Unnamed: 0    Brand                                               Name  \\\n",
       "0           0       HP  HP Chromebook 11A-NA0002MU (2E4N0PA) Laptop (1...   \n",
       "1           1   Lenovo  Lenovo Ideapad Slim 3 (82KU017KIN) Laptop (15....   \n",
       "2           3     Dell  Dell G15-5520 (D560822WIN9B) Laptop (15.6 Inch...   \n",
       "3           4       HP  HP 15s-fy5007TU (91R03PA) Laptop (15.6 Inch | ...   \n",
       "4           6  Infinix  Infinix Inbook Y2 Plus XL29 Laptop (15.6 Inch ...   \n",
       "\n",
       "   Price            Processor_Name Processor_Brand     RAM_Expandable  \\\n",
       "0  22990        MediaTek Octa-core        MediaTek     Not Expandable   \n",
       "1  36289     AMD Hexa-Core Ryzen 5             AMD   12 GB Expandable   \n",
       "2  78500  Intel Core i5 (12th Gen)           Intel   32 GB Expandable   \n",
       "3  55490  Intel Core i5 (12th Gen)           Intel    8 GB Expandable   \n",
       "4  21990  Intel Core i3 (11th Gen)           Intel     Not Expandable   \n",
       "\n",
       "       RAM      RAM_TYPE                 Ghz Display_type Display  \\\n",
       "0    4 GB       DDR4 RAM   2.0 Ghz Processor          LED   11.6    \n",
       "1    8 GB      DDR4 RAM    4.0 Ghz Processor          LCD   15.6    \n",
       "2   16 GB      DDR5 RAM    3.3 Ghz Processor          LCD   15.6    \n",
       "3    8 GB      DDR4 RAM    4.2 Ghz Processor          LCD   15.6    \n",
       "4  8 GB LP   LPDDR4X RAM   1.7 Ghz Processor          LCD   15.6    \n",
       "\n",
       "                          GPU GPU_Brand                 SSD     HDD Adapter  \n",
       "0         Integrated Graphics  MediaTek   64 GB SSD Storage  No HDD      45  \n",
       "1                      Radeon       AMD  512 GB SSD Storage  No HDD      65  \n",
       "2  GeForce RTX 3050 GPU, 4 GB    NVIDIA  512 GB SSD Storage  No HDD      56  \n",
       "3                     Iris Xe     Intel  512 GB SSD Storage  No HDD      no  \n",
       "4                         UHD     Intel  512 GB SSD Storage  No HDD      45  "
      ]
     },
     "execution_count": 103,
     "metadata": {},
     "output_type": "execute_result"
    }
   ],
   "source": [
    "# loại bỏ cột Battery_Life khỏi dataframe\n",
    "df = df.drop(columns=['Battery_Life'], axis=1)\n",
    "df.head(5)"
   ]
  },
  {
   "cell_type": "markdown",
   "metadata": {},
   "source": [
    "Các trường thông tin còn (GPU và GPU_Brand) có số lượng bị khuyết không đáng kể nên sẽ tiến hành các ký thuật điền khuyết hoặc chỉ loại bỏ các dòng bị khuyết\n"
   ]
  },
  {
   "cell_type": "code",
   "execution_count": 104,
   "metadata": {},
   "outputs": [
    {
     "data": {
      "text/plain": [
       "array(['Integrated Graphics', 'Radeon', 'GeForce RTX 3050 GPU, 4 GB',\n",
       "       'Iris Xe', 'UHD', 'UHD 620', 'GeForce RTX 2050 GPU, 4 GB',\n",
       "       'GeForce RTX 4050 GPU, 6 GB', 'Arc', 'GeForce GTX 1650 GPU, 4 GB',\n",
       "       'UHD 605', 'GeForce RTX 3060 GPU, 6 GB',\n",
       "       'GeForce GTX 1650 Max Q GPU, 4 GB',\n",
       "       'GeForce RTX 3050 Ti GPU, 4 GB', 'Integrated',\n",
       "       'Geforce GTX 1650 GPU, 4 GB', 'Radeon Vega 3', 'UHD Graphics',\n",
       "       'UHD GPU, 128 MB', 'M1', 'HD 6000', 'UHD 600', 'Radeon Vega 6',\n",
       "       'M2 Integrated', 'HD 620', 'Geforce MX150 GPU, 2 GB',\n",
       "       'Radeon Vega 8', 'Geforce GTX 1650 Max-Q GPU, 4 GB',\n",
       "       'GeForce GTX 1650 Ti GPU, 4 GB', 'Radeon RX Vega 10', 'HD 520',\n",
       "       'Radeon RX 5500M GPU, 4 GB', 'GeForce GTX 3050 GPU, 4 GB',\n",
       "       'Radeon 610M', 'Radeon RX6500M GPU, 4 GB',\n",
       "       'GeForce GTX 1650 MAX Q GPU, 4 GB', 'GeForce RTX 2050', 'HD 500',\n",
       "       'Radeon Graphics', 'GeForce RTX 3070 Ti GPU, 8 GB',\n",
       "       'GeForce GTX 1050 GPU, 4 GB', 'Geforce RTX 3050 GPU, 4 GB', 'M2',\n",
       "       'Radeon RX 6500M GPU, 4 GB', 'Radeon RX 5600M GPU, 6 GB',\n",
       "       'GeForce MX450 GPU, 2 GB', 'GeForce RTX 4060 GPU, 8 GB', 'Adreno',\n",
       "       'GeForce GTX 1060 GPU, 6 GB', 'GeForce MX330 GPU, 2 GB',\n",
       "       'Radeon R2', 'Iris X', 'Radeon Vega 7', 'Radeon R4',\n",
       "       'Integrated UHD', 'Iris Xe Graphics', 'Iris Plus 655',\n",
       "       'GeForce RTX 3050 Ti  GPU, 4 GB', 'GeForce RTX 3050 GPU, 6 GB',\n",
       "       'GeForce MX350 GPU, 2 GB', 'Radeon RX 6800M GPU, 12 GB',\n",
       "       'Iris Plus', 'GeForce MX250 GPU, 2 GB',\n",
       "       'GeForce RTX 3070 GPU, 8 GB', 'GeForce RTX 3050 GPU, 4 ',\n",
       "       'Radeon R5', 'GeForce RTX 3050', 'MX350 GPU, 2 GB',\n",
       "       'GeForce MX550 GPU, 2 GB', 'Integrated Arm Mali',\n",
       "       'Integrated Iris Xe', 'Geforce GTX 1650 Ti GPU, 4 GB',\n",
       "       'Radeon 610M Vega 2', '18-core GPU', 'UHD Graphics 600',\n",
       "       'GEFORCE RTX 3050 Ti GPU, 4 GB', 'Radeon RX 6700S GPU, 8 GB',\n",
       "       'M2 Max', 'HD', 'UHD ', 'GeForce RTX 3080 GPU, 16 GB',\n",
       "       'GeForce RTX 3050Ti GPU, 4 GB', 'GeForce MX570 GPU, 2 GB',\n",
       "       'GeForce 940MX GPU, 2 GB', 'Radeon RX 6700S GPU, 8 ',\n",
       "       'GeForce RTX 4080 GPU, 12 GB', 'GeForce GTX 1650Ti GPU, 4 GB',\n",
       "       'Intel Iris Xe', 'GeForce RTX 4070 GPU, 8 GB', 'GeForce MX250',\n",
       "       'GeForce RTX 2070 GPU, 8 GB', 'HD 615', 'GeForce MX550  GPU, 2 GB',\n",
       "       'GeForce N16V-GMR1 GPU, 2 GB', 'Arc A370M GPU, 4 GB', 'UMA',\n",
       "       'Radeon RX6550M GPU, 4 GB', 'GeForce RTX 3080 GPU, 8 GB',\n",
       "       'GeForce RTX 3080 Ti GPU, 16 GB', 'Radeon GPU, 6 GB',\n",
       "       'Radeon 680M GPU, 6 GB', 'GeForce RTX 4090 GPU, 16 GB',\n",
       "       'Radeon 780M', 'GeForce RTX 4060 GPU, 6 GB', nan, 'Radeon 760M',\n",
       "       'GeForce RTX 4060 GPU, 8 ', 'GeForce RTX 4080 GPU, 8 GB',\n",
       "       'RTX A500 GPU, 4 GB', 'Integrated Arc', 'Radeon 680M', 'Graphics',\n",
       "       'GeForce RTX 4050 GPU, 8 GB', 'GeForce RTX 4070',\n",
       "       'T1200 GPU, 4 GB', 'GeForce RTX 2080 GPU, 8 GB',\n",
       "       'GeForce RTX 3070 Ti GPU, 8 ', 'Quadro T2000  GPU, 4 GB',\n",
       "       'Integrated HD', 'GeForce RTX 3070 GPU, 8 ', 'UHD Graphics 620',\n",
       "       'Geoforce RTX3050 GPU, 4 GB', 'Quadro T50 GPU, 4 GB',\n",
       "       'RTX 3050 Ti GPU, 4 GB', 'GeForce P620 GPU, 4 GB',\n",
       "       'Quadro T1200 GPU, 4 GB', 'UHD 617', 'Geforce MX250 GPU, 2 GB',\n",
       "       'GeForce GT 940MX GPU, 4 GB', 'Geforce GTX 1050Ti GPU, 4 GB',\n",
       "       'Geforce MX150 GPU, 4 GB', 'GeForce GTX 1050 Ti  GPU, 4 GB',\n",
       "       'GeForce GTX 1050Ti GPU, 4 GB', 'Geforce GTX 1060 GPU, 6 GB',\n",
       "       'Geforce GTX 1650 Ti GPU, 6 GB', 'Radeon RX Vega 8', 'HD 405',\n",
       "       'Radeon R16M-M1-30 GPU, 2 GB', 'GeForce GTX 1050T GPU, 4 GB',\n",
       "       'Radeon 520 GPU, 2 GB', 'GeForce MX130 GPU, 2 GB', 'HD 400',\n",
       "       'Radeon 530 GPU, 2 GB', 'Geforce GTX 1650Ti GPU, 6 GB',\n",
       "       'R17M-M1-70 GPU, 2 GB', 'Geforce MX130 GPU, 2 GB',\n",
       "       'GeForce MX150 GPU, 2 GB', 'Radeon HD 520 GPU, 2 GB',\n",
       "       'GeForce GTX 1660 Ti GPU, 6 GB', 'GeForce 920MX GPU, 2 GB',\n",
       "       'HD 610', 'Radeon HD 8210 GPU, 2 GB',\n",
       "       'Geforce GTX 1050Ti GPU, 8 GB', 'Radeon RX 560X GPU, 4 GB',\n",
       "       'HD 505', 'GeForce GTX 1050 GPU, 3 GB',\n",
       "       'Geforce GTX 1050 GPU, 3 GB', 'Radeon R3',\n",
       "       'Geforce GTX 1050 Ti GPU, 4 GB', 'Geforce RTX 2060 GPU, 6 GB',\n",
       "       'M1 Integrated', 'Geforce 940MX GPU, 4 GB',\n",
       "       'Geforce GTX 1660 Ti GPU, 6 GB', 'GeForce GTX 1050 GPU, 2 GB',\n",
       "       'Geforce MX350 GPU, 2 GB', 'GeForce MX110 GPU, 2 GB',\n",
       "       'Radeon Vega', 'HD 5500', 'GeForce GTX 1650 Ti GPU, 6 GB',\n",
       "       'Radeon R5 M430 GPU, 2 GB', 'GeForce GTX 1050 Ti GPU, 4 GB',\n",
       "       'Geforce MX330 GPU, 2 GB', 'GeForce 940MX  GPU, 4 GB',\n",
       "       'Geforce GTX 1050 GPU, 2 GB', 'Geforce RTX 2070 GPU, 8 GB',\n",
       "       'HD Graphics', 'GeForce GPU, 2 GB', 'Radeon R5 M430  GPU, 2 GB',\n",
       "       'Radeon RX 5500M', 'Radeon RX 6500M  GPU, 4 GB',\n",
       "       'RTX 3050 GPU, 4 GB', 'Radeon Vega 8 Mobile',\n",
       "       'GeForce RTX 1650 GPU, 4 GB', 'GeForce MX 450 GPU, 2 GB',\n",
       "       'GeForce MX550', 'M2 Pro',\n",
       "       'Geforce RTX 2060 with Max-Q Design GPU, 6 GB',\n",
       "       'Geforce MX230 GPU, 2 GB', 'Radeon Athlon 3000G',\n",
       "       'Radeon RX 6600M GPU, 8 GB', 'Radeon RX6700M',\n",
       "       'GeForce RTX 3070 GPU, 16 GB', 'Arc A530M GPU, 4 GB',\n",
       "       'Quadro T550 GPU, 4 GB', 'UHD GPU, 2 GB', 'Integrated GPU, 512 MB',\n",
       "       'Radeon RX 6650M GPU, 8 GB', 'GeForce RTX 3060 GPU GPU, 6 GB',\n",
       "       'GeForce RTX 3060 GPU, 6 ', 'Quadro T600 GPU, 4 GB',\n",
       "       'GeForce GTX 1070 GPU, 8 GB', 'Radeon RX 7600S GPU, 8 GB',\n",
       "       'GeForce RTX 4080 GPU, 16 GB', 'RTX 3000 Ada GPU, 8 GB',\n",
       "       'RTX A1000 GPU, 6 GB', 'GeForce MX 350 GPU, 2 GB',\n",
       "       'GeForce MX550 GPU, 2 ', 'GeForce RTX A2000 GPU, 8 GB',\n",
       "       'MX450 GPU, 2 GB', 'Mali-G72', 'Geforce MX110 GPU, 2 GB',\n",
       "       'T600 GPU, 4 GB', 'GeForce MX230 GPU, 2 GB',\n",
       "       'Geforce 940MX GPU, 2 GB', 'GeForce GTX 940MX GPU, 4 GB',\n",
       "       'Radeon R7', 'Radeon R4 ', 'GeForce MX150 GPU, 4 GB',\n",
       "       'Geforce GTX 1650 Ti` GPU, 4 GB', 'Radeon R5 M430 GPU, 4 GB',\n",
       "       'Iris Pro', 'GeForce GT 940MX GPU, 2 GB',\n",
       "       'GeForce RTX 2060 GPU, 6 GB', 'Geforce MX 150 GPU, 2 GB',\n",
       "       'Radeon 530 GPU, 4 GB', 'GeForce GTX 1650 Ti Max Q GPU, 4 GB',\n",
       "       'GeForce RTX 3060 GPU, 4 GB', 'GeForce 820M GPU, 2 GB',\n",
       "       'GeForce 940MX GPU, 4 GB', 'Radeon R7 M260 GPU, 2 GB',\n",
       "       'Geforce GTX 1650 Ti with Max-Q GPU, 4 GB',\n",
       "       'GeForce GTX 940MX GPU, 2 GB', 'Geforce GTX 1650Ti GPU, 4 GB',\n",
       "       'GeForce GTX 960M GPU, 2 GB', 'Geforce GT 820M GPU, 2 GB',\n",
       "       'R5 M230 GPU, 2 GB', 'GeForce MX150  GPU, 2 GB',\n",
       "       'Geforce GTX 1050 GPU, 4 GB', 'GeForce 920M', 'HD 515',\n",
       "       'Iris Plus Graphics 645', 'Iris Plus 640',\n",
       "       'Radeon Pro 5500M GPU, 4 GB', 'GeForce GTX 1050  GPU, 2 GB',\n",
       "       'GeForce GTX 960M GPU, 4 GB', 'HD 5300', 'UHD 605 ',\n",
       "       'Radeon RX Vega 6', 'Iris Plus Graphics 655', 'HD ',\n",
       "       'Radeon R7 M440 GPU, 2 GB', 'Geforce 940M GPU, 2 GB',\n",
       "       'GeForce 930M GPU, 2 GB', 'GeForce 920M GPU, 2 GB',\n",
       "       'Iris graphics', 'Radeon HD 8570M GPU, 2 GB', 'R5',\n",
       "       'Radeon Pro 450 GPU, 2 GB', 'Radeon HD 8670M GPU, 2 GB',\n",
       "       'GeForce 840M GPU, 2 GB', 'HD 4400', 'Radeon HD R7 M265 GPU, 2 GB',\n",
       "       'GeForce 830M GPU, 2 GB', 'Radeon HD 8670M GPU, 1 GB', 'HD 4000',\n",
       "       'GeForce 940M GPU, 4 GB', 'GeForce 930MX GPU, 2 GB',\n",
       "       'GeForce GT 740M GPU, 2 GB', 'GeForce GTX 850M GPU, 4 GB',\n",
       "       'GeForce GT 820M GPU, 1 GB', 'Radeon RX 580 GPU, 4 GB',\n",
       "       'Pro 555X GPU, 4 GB', 'Iris Xe Max GPU, 4 GB',\n",
       "       'GeForce GTX 1050TI GPU, 4 GB', 'GeForce 920MX  GPU, 2 GB',\n",
       "       'GeForce 1650 Ti GPU, 4 GB', 'GeForce 940 MX GPU, 2 GB',\n",
       "       'SQ1 Adreno 685 GPU', 'Geforce GTX 860M GPU, 2 GB',\n",
       "       'Iris Xe GPU, 4 GB', 'GeForce MX130 GPU, 4 GB',\n",
       "       'GeForce RTX 2060 GPU, 8 GB', 'GeForce RTX A1000 GPU, 4 GB',\n",
       "       'Geforce GTX 1070 GPU, 8 GB', 'Geforce RTX 2070 Super GPU, 8 GB',\n",
       "       'Radeon R5 M330 GPU, 2 GB', 'HD Graphics 620',\n",
       "       'Radeon 535 GPU, 2 GB', 'GeForce GTX 1660 GPU, 6 GB',\n",
       "       'Geforce GT 940MX GPU, 2 GB', 'Geforce GTX MX330 GPU, 2 GB',\n",
       "       'Geforce RTX 2080 with Max-Q GPU, 8 GB', 'Radeon RX640 GPU, 2 GB',\n",
       "       'Radeon RX 640 GPU, 2 GB', 'Radeon RX Vega 5',\n",
       "       'Geforce RTX 2080 GPU, 8 GB', 'Radeon RX Vega 7 ',\n",
       "       'EXO PRO R5 M330 GPU, 2 GB', 'GeForce MX230',\n",
       "       'Geforce Gt 940MX GPU, 2 GB', 'Geforce RTX 2080 Super GPU, 8 GB'],\n",
       "      dtype=object)"
      ]
     },
     "execution_count": 104,
     "metadata": {},
     "output_type": "execute_result"
    }
   ],
   "source": [
    "# xem các giá trị của cột GPU\n",
    "df['GPU'].unique()"
   ]
  },
  {
   "cell_type": "code",
   "execution_count": 105,
   "metadata": {},
   "outputs": [
    {
     "data": {
      "text/html": [
       "<div>\n",
       "<style scoped>\n",
       "    .dataframe tbody tr th:only-of-type {\n",
       "        vertical-align: middle;\n",
       "    }\n",
       "\n",
       "    .dataframe tbody tr th {\n",
       "        vertical-align: top;\n",
       "    }\n",
       "\n",
       "    .dataframe thead th {\n",
       "        text-align: right;\n",
       "    }\n",
       "</style>\n",
       "<table border=\"1\" class=\"dataframe\">\n",
       "  <thead>\n",
       "    <tr style=\"text-align: right;\">\n",
       "      <th></th>\n",
       "      <th>Unnamed: 0</th>\n",
       "      <th>Brand</th>\n",
       "      <th>Name</th>\n",
       "      <th>Price</th>\n",
       "      <th>Processor_Name</th>\n",
       "      <th>Processor_Brand</th>\n",
       "      <th>RAM_Expandable</th>\n",
       "      <th>RAM</th>\n",
       "      <th>RAM_TYPE</th>\n",
       "      <th>Ghz</th>\n",
       "      <th>Display_type</th>\n",
       "      <th>Display</th>\n",
       "      <th>GPU</th>\n",
       "      <th>GPU_Brand</th>\n",
       "      <th>SSD</th>\n",
       "      <th>HDD</th>\n",
       "      <th>Adapter</th>\n",
       "    </tr>\n",
       "  </thead>\n",
       "  <tbody>\n",
       "    <tr>\n",
       "      <th>1008</th>\n",
       "      <td>1073</td>\n",
       "      <td>Samsung</td>\n",
       "      <td>Samsung Galaxy Book 4 NP750XGK-LG3IN Laptop (1...</td>\n",
       "      <td>79999</td>\n",
       "      <td>Intel Core 7 (Series 1)</td>\n",
       "      <td>Intel</td>\n",
       "      <td>Not Expandable</td>\n",
       "      <td>16 GB LP</td>\n",
       "      <td>LPDDR4X RAM</td>\n",
       "      <td>1.8 Ghz Processor</td>\n",
       "      <td>LCD</td>\n",
       "      <td>15.6</td>\n",
       "      <td>NaN</td>\n",
       "      <td>Intel</td>\n",
       "      <td>512 GB SSD Storage</td>\n",
       "      <td>No HDD</td>\n",
       "      <td>45</td>\n",
       "    </tr>\n",
       "    <tr>\n",
       "      <th>1052</th>\n",
       "      <td>1118</td>\n",
       "      <td>HP</td>\n",
       "      <td>HP 15-fd1096TU (A03CJPA) Laptop (15.6 Inch | C...</td>\n",
       "      <td>64990</td>\n",
       "      <td>Intel Core 5 (Series 1)</td>\n",
       "      <td>Intel</td>\n",
       "      <td>Not Expandable</td>\n",
       "      <td>8 GB</td>\n",
       "      <td>DDR4 RAM</td>\n",
       "      <td>4.8 Ghz Processor</td>\n",
       "      <td>LCD</td>\n",
       "      <td>15.6</td>\n",
       "      <td>NaN</td>\n",
       "      <td>Intel</td>\n",
       "      <td>512 GB SSD Storage</td>\n",
       "      <td>No HDD</td>\n",
       "      <td>65</td>\n",
       "    </tr>\n",
       "    <tr>\n",
       "      <th>1117</th>\n",
       "      <td>1185</td>\n",
       "      <td>Samsung</td>\n",
       "      <td>Samsung Galaxy Book 4 NP750XGK-KS2IN Laptop (1...</td>\n",
       "      <td>72990</td>\n",
       "      <td>Intel Core 5 (Series 1)</td>\n",
       "      <td>Intel</td>\n",
       "      <td>Not Expandable</td>\n",
       "      <td>16 GB LP</td>\n",
       "      <td>LPDDR4X RAM</td>\n",
       "      <td>1.4 Ghz Processor</td>\n",
       "      <td>LCD</td>\n",
       "      <td>15.6</td>\n",
       "      <td>NaN</td>\n",
       "      <td>Intel</td>\n",
       "      <td>512 GB SSD Storage</td>\n",
       "      <td>No HDD</td>\n",
       "      <td>45</td>\n",
       "    </tr>\n",
       "    <tr>\n",
       "      <th>2147</th>\n",
       "      <td>2303</td>\n",
       "      <td>Samsung</td>\n",
       "      <td>Samsung Galaxy Book 4 NP750XGK-KG1IN Laptop (1...</td>\n",
       "      <td>70990</td>\n",
       "      <td>Intel Core 5 (Series 1)</td>\n",
       "      <td>Intel</td>\n",
       "      <td>Not Expandable</td>\n",
       "      <td>8 GB LP</td>\n",
       "      <td>LPDDR4X RAM</td>\n",
       "      <td>1.4 Ghz Processor</td>\n",
       "      <td>LCD</td>\n",
       "      <td>15.6</td>\n",
       "      <td>NaN</td>\n",
       "      <td>Intel</td>\n",
       "      <td>512 GB SSD Storage</td>\n",
       "      <td>No HDD</td>\n",
       "      <td>45</td>\n",
       "    </tr>\n",
       "    <tr>\n",
       "      <th>2153</th>\n",
       "      <td>2309</td>\n",
       "      <td>Samsung</td>\n",
       "      <td>Samsung Galaxy Book 4 NP750XGK-KG2IN Laptop (1...</td>\n",
       "      <td>75990</td>\n",
       "      <td>Intel Core 5 (Series 1)</td>\n",
       "      <td>Intel</td>\n",
       "      <td>Not Expandable</td>\n",
       "      <td>16 GB LP</td>\n",
       "      <td>LPDDR4X RAM</td>\n",
       "      <td>1.4 Ghz Processor</td>\n",
       "      <td>LCD</td>\n",
       "      <td>15.6</td>\n",
       "      <td>NaN</td>\n",
       "      <td>Intel</td>\n",
       "      <td>512 GB SSD Storage</td>\n",
       "      <td>No HDD</td>\n",
       "      <td>45</td>\n",
       "    </tr>\n",
       "  </tbody>\n",
       "</table>\n",
       "</div>"
      ],
      "text/plain": [
       "      Unnamed: 0    Brand                                               Name  \\\n",
       "1008        1073  Samsung  Samsung Galaxy Book 4 NP750XGK-LG3IN Laptop (1...   \n",
       "1052        1118       HP  HP 15-fd1096TU (A03CJPA) Laptop (15.6 Inch | C...   \n",
       "1117        1185  Samsung  Samsung Galaxy Book 4 NP750XGK-KS2IN Laptop (1...   \n",
       "2147        2303  Samsung  Samsung Galaxy Book 4 NP750XGK-KG1IN Laptop (1...   \n",
       "2153        2309  Samsung  Samsung Galaxy Book 4 NP750XGK-KG2IN Laptop (1...   \n",
       "\n",
       "      Price           Processor_Name Processor_Brand  RAM_Expandable  \\\n",
       "1008  79999  Intel Core 7 (Series 1)           Intel  Not Expandable   \n",
       "1052  64990  Intel Core 5 (Series 1)           Intel  Not Expandable   \n",
       "1117  72990  Intel Core 5 (Series 1)           Intel  Not Expandable   \n",
       "2147  70990  Intel Core 5 (Series 1)           Intel  Not Expandable   \n",
       "2153  75990  Intel Core 5 (Series 1)           Intel  Not Expandable   \n",
       "\n",
       "           RAM      RAM_TYPE                 Ghz Display_type Display  GPU  \\\n",
       "1008  16 GB LP   LPDDR4X RAM   1.8 Ghz Processor          LCD   15.6   NaN   \n",
       "1052     8 GB       DDR4 RAM   4.8 Ghz Processor          LCD   15.6   NaN   \n",
       "1117  16 GB LP   LPDDR4X RAM   1.4 Ghz Processor          LCD   15.6   NaN   \n",
       "2147   8 GB LP   LPDDR4X RAM   1.4 Ghz Processor          LCD   15.6   NaN   \n",
       "2153  16 GB LP   LPDDR4X RAM   1.4 Ghz Processor          LCD   15.6   NaN   \n",
       "\n",
       "     GPU_Brand                 SSD     HDD Adapter  \n",
       "1008     Intel  512 GB SSD Storage  No HDD      45  \n",
       "1052     Intel  512 GB SSD Storage  No HDD      65  \n",
       "1117     Intel  512 GB SSD Storage  No HDD      45  \n",
       "2147     Intel  512 GB SSD Storage  No HDD      45  \n",
       "2153     Intel  512 GB SSD Storage  No HDD      45  "
      ]
     },
     "execution_count": 105,
     "metadata": {},
     "output_type": "execute_result"
    }
   ],
   "source": [
    "null_data = df[df.isna().any(axis=1)]\n",
    "null_data.head(5)"
   ]
  },
  {
   "cell_type": "markdown",
   "metadata": {},
   "source": [
    "Đối với các giá trị bị khuyết của trường GPU, tuy không có giá trị nhưng trường GPU_Brand tương ứng, chủ yếu là 'Intel', nên sẽ xem đó là card tích hợp, điền khuyết bằng giá trị 'Integrated Graphics'\n"
   ]
  },
  {
   "cell_type": "code",
   "execution_count": 106,
   "metadata": {},
   "outputs": [
    {
     "name": "stdout",
     "output_type": "stream",
     "text": [
      "Số lượng khuyết hiện tại trong cột GPU: 0\n"
     ]
    }
   ],
   "source": [
    "# Điền giá trị 'Integrated Graphics' vào cột GPU nếu GPU bị khuyết và GPU_Brand là 'Intel'\n",
    "df.loc[df['GPU'].isnull() & (df['GPU_Brand'] == 'Intel'), 'GPU'] = 'Integrated Graphics'\n",
    "# Kiểm tra giá trị khuyết còn lại trong cột GPU\n",
    "null_count = df['GPU'].isna().sum()\n",
    "print(f\"Số lượng khuyết hiện tại trong cột GPU: {null_count}\")"
   ]
  },
  {
   "cell_type": "code",
   "execution_count": 107,
   "metadata": {},
   "outputs": [
    {
     "data": {
      "text/html": [
       "<div>\n",
       "<style scoped>\n",
       "    .dataframe tbody tr th:only-of-type {\n",
       "        vertical-align: middle;\n",
       "    }\n",
       "\n",
       "    .dataframe tbody tr th {\n",
       "        vertical-align: top;\n",
       "    }\n",
       "\n",
       "    .dataframe thead th {\n",
       "        text-align: right;\n",
       "    }\n",
       "</style>\n",
       "<table border=\"1\" class=\"dataframe\">\n",
       "  <thead>\n",
       "    <tr style=\"text-align: right;\">\n",
       "      <th></th>\n",
       "      <th>Unnamed: 0</th>\n",
       "      <th>Brand</th>\n",
       "      <th>Name</th>\n",
       "      <th>Price</th>\n",
       "      <th>Processor_Name</th>\n",
       "      <th>Processor_Brand</th>\n",
       "      <th>RAM_Expandable</th>\n",
       "      <th>RAM</th>\n",
       "      <th>RAM_TYPE</th>\n",
       "      <th>Ghz</th>\n",
       "      <th>Display_type</th>\n",
       "      <th>Display</th>\n",
       "      <th>GPU</th>\n",
       "      <th>GPU_Brand</th>\n",
       "      <th>SSD</th>\n",
       "      <th>HDD</th>\n",
       "      <th>Adapter</th>\n",
       "    </tr>\n",
       "  </thead>\n",
       "  <tbody>\n",
       "    <tr>\n",
       "      <th>3275</th>\n",
       "      <td>3671</td>\n",
       "      <td>Lenovo</td>\n",
       "      <td>Lenovo essential G50-45 (80E300RGIN) Laptop (1...</td>\n",
       "      <td>32500</td>\n",
       "      <td>2.0 Ghz Processor</td>\n",
       "      <td>2.0</td>\n",
       "      <td>16 GB Expandable</td>\n",
       "      <td>8 GB</td>\n",
       "      <td>DDR3 RAM</td>\n",
       "      <td>0</td>\n",
       "      <td>LED</td>\n",
       "      <td>15.6</td>\n",
       "      <td>R5 M230 GPU, 2 GB</td>\n",
       "      <td>NaN</td>\n",
       "      <td>NO SSD</td>\n",
       "      <td>1024 GB HDD Storage</td>\n",
       "      <td>65</td>\n",
       "    </tr>\n",
       "    <tr>\n",
       "      <th>3491</th>\n",
       "      <td>3901</td>\n",
       "      <td>Lenovo</td>\n",
       "      <td>Lenovo essential G50-45 (80E3014FIN) Laptop (1...</td>\n",
       "      <td>25890</td>\n",
       "      <td>AMD Quad-Core A8 APU</td>\n",
       "      <td>AMD</td>\n",
       "      <td>16 GB Expandable</td>\n",
       "      <td>4 GB</td>\n",
       "      <td>DDR3 RAM</td>\n",
       "      <td>2.0 Ghz Processor</td>\n",
       "      <td>LED</td>\n",
       "      <td>15.6</td>\n",
       "      <td>R5</td>\n",
       "      <td>NaN</td>\n",
       "      <td>NO SSD</td>\n",
       "      <td>500 GB HDD Storage</td>\n",
       "      <td>65</td>\n",
       "    </tr>\n",
       "    <tr>\n",
       "      <th>3599</th>\n",
       "      <td>4016</td>\n",
       "      <td>Apple</td>\n",
       "      <td>Apple MacBook Pro MR932HN/A Ultrabook (15.4 In...</td>\n",
       "      <td>187990</td>\n",
       "      <td>Intel Core i7 (8th Gen)</td>\n",
       "      <td>Intel</td>\n",
       "      <td>32 GB Expandable</td>\n",
       "      <td>16 GB</td>\n",
       "      <td>DDR4 RAM</td>\n",
       "      <td>2.2 Ghz Processor</td>\n",
       "      <td>LED</td>\n",
       "      <td>15.4</td>\n",
       "      <td>Pro 555X GPU, 4 GB</td>\n",
       "      <td>NaN</td>\n",
       "      <td>256 GB SSD Storage</td>\n",
       "      <td>No HDD</td>\n",
       "      <td>no</td>\n",
       "    </tr>\n",
       "    <tr>\n",
       "      <th>3699</th>\n",
       "      <td>4121</td>\n",
       "      <td>Apple</td>\n",
       "      <td>Apple MacBook Pro MR962HN/A Ultrabook (15.4 In...</td>\n",
       "      <td>199900</td>\n",
       "      <td>Intel Core i7 (8th Gen)</td>\n",
       "      <td>Intel</td>\n",
       "      <td>32 GB Expandable</td>\n",
       "      <td>16 GB</td>\n",
       "      <td>DDR4 RAM</td>\n",
       "      <td>2.2 Ghz Processor</td>\n",
       "      <td>LED</td>\n",
       "      <td>15.4</td>\n",
       "      <td>Pro 555X GPU, 4 GB</td>\n",
       "      <td>NaN</td>\n",
       "      <td>256 GB SSD Storage</td>\n",
       "      <td>No HDD</td>\n",
       "      <td>no</td>\n",
       "    </tr>\n",
       "  </tbody>\n",
       "</table>\n",
       "</div>"
      ],
      "text/plain": [
       "      Unnamed: 0   Brand                                               Name  \\\n",
       "3275        3671  Lenovo  Lenovo essential G50-45 (80E300RGIN) Laptop (1...   \n",
       "3491        3901  Lenovo  Lenovo essential G50-45 (80E3014FIN) Laptop (1...   \n",
       "3599        4016   Apple  Apple MacBook Pro MR932HN/A Ultrabook (15.4 In...   \n",
       "3699        4121   Apple  Apple MacBook Pro MR962HN/A Ultrabook (15.4 In...   \n",
       "\n",
       "       Price           Processor_Name Processor_Brand     RAM_Expandable  \\\n",
       "3275   32500        2.0 Ghz Processor             2.0   16 GB Expandable   \n",
       "3491   25890     AMD Quad-Core A8 APU             AMD   16 GB Expandable   \n",
       "3599  187990  Intel Core i7 (8th Gen)           Intel   32 GB Expandable   \n",
       "3699  199900  Intel Core i7 (8th Gen)           Intel   32 GB Expandable   \n",
       "\n",
       "         RAM    RAM_TYPE                 Ghz Display_type Display  \\\n",
       "3275   8 GB    DDR3 RAM                    0          LED   15.6    \n",
       "3491   4 GB    DDR3 RAM    2.0 Ghz Processor          LED   15.6    \n",
       "3599  16 GB    DDR4 RAM    2.2 Ghz Processor          LED   15.4    \n",
       "3699  16 GB    DDR4 RAM    2.2 Ghz Processor          LED   15.4    \n",
       "\n",
       "                     GPU GPU_Brand                 SSD                  HDD  \\\n",
       "3275   R5 M230 GPU, 2 GB       NaN              NO SSD  1024 GB HDD Storage   \n",
       "3491                  R5       NaN              NO SSD   500 GB HDD Storage   \n",
       "3599  Pro 555X GPU, 4 GB       NaN  256 GB SSD Storage               No HDD   \n",
       "3699  Pro 555X GPU, 4 GB       NaN  256 GB SSD Storage               No HDD   \n",
       "\n",
       "     Adapter  \n",
       "3275      65  \n",
       "3491      65  \n",
       "3599      no  \n",
       "3699      no  "
      ]
     },
     "execution_count": 107,
     "metadata": {},
     "output_type": "execute_result"
    }
   ],
   "source": [
    "# Kiểm tra giá trị khuyết còn lại trong cột GPU_Brand\n",
    "null_data = df[df.isna().any(axis=1)]\n",
    "null_data.head(5)"
   ]
  },
  {
   "cell_type": "code",
   "execution_count": 108,
   "metadata": {},
   "outputs": [
    {
     "data": {
      "text/plain": [
       "GPU_Brand\n",
       "Intel        1939\n",
       "NVIDIA       1380\n",
       "AMD           616\n",
       "Apple          21\n",
       "Nvidia          8\n",
       "MediaTek        3\n",
       "Qualcomm        1\n",
       "NIVIDIA         1\n",
       "ARM             1\n",
       "Microsoft       1\n",
       "ATI             1\n",
       "Name: count, dtype: int64"
      ]
     },
     "execution_count": 108,
     "metadata": {},
     "output_type": "execute_result"
    }
   ],
   "source": [
    "# Xem các brand hiện có của GPU\n",
    "df['GPU_Brand'].value_counts()"
   ]
  },
  {
   "cell_type": "markdown",
   "metadata": {},
   "source": [
    "Theo kết quả tìm kiếm trên 2 trang web https://pc-builds.com/vi/gpu/0MN/amd-radeon-r5-m230 và https://www.thegioididong.com/hoi-dap/danh-gia-suc-manh-cua-card-amd-radeon-pro-555x-1225183 thì 2 dòng GPU R5 và Pro 555X thuộc về hãng AMD, nên sẽ điền các giá trị khuyết này là 'AMD'\n"
   ]
  },
  {
   "cell_type": "code",
   "execution_count": 109,
   "metadata": {},
   "outputs": [],
   "source": [
    "# Điền các giá trị khuyết trong GPU_Brand bằng 'AMD'\n",
    "df['GPU_Brand'] = df['GPU_Brand'].fillna('AMD')"
   ]
  },
  {
   "cell_type": "code",
   "execution_count": 110,
   "metadata": {},
   "outputs": [
    {
     "data": {
      "text/plain": [
       "Unnamed: 0         0\n",
       "Brand              0\n",
       "Name               0\n",
       "Price              0\n",
       "Processor_Name     0\n",
       "Processor_Brand    0\n",
       "RAM_Expandable     0\n",
       "RAM                0\n",
       "RAM_TYPE           0\n",
       "Ghz                0\n",
       "Display_type       0\n",
       "Display            0\n",
       "GPU                0\n",
       "GPU_Brand          0\n",
       "SSD                0\n",
       "HDD                0\n",
       "Adapter            0\n",
       "dtype: int64"
      ]
     },
     "execution_count": 110,
     "metadata": {},
     "output_type": "execute_result"
    }
   ],
   "source": [
    "# Thống kê số lượng giá trị khuyết còn lại trong toàn bộ dữ liệu\n",
    "df.isna().sum()"
   ]
  },
  {
   "cell_type": "markdown",
   "metadata": {},
   "source": [
    "#### Xử lý định dạng của giá trị của các trường cần thiết\n"
   ]
  },
  {
   "cell_type": "markdown",
   "metadata": {},
   "source": [
    "Do dữ liệu được crawl về và chưa được xử lý nên vẫn còn ở dạng chuỗi, trong khi một số trường nên ở kiểu số như RAM_Expandable, RAM, Ghz... Phần này sẽ xử lý các trường về đúng định dạng của nó.\n"
   ]
  },
  {
   "cell_type": "code",
   "execution_count": 111,
   "metadata": {},
   "outputs": [
    {
     "data": {
      "text/plain": [
       "array(['HP', 'Lenovo', 'Dell', 'Infinix', 'Acer', 'ASUS', 'Tecno',\n",
       "       'Xiaomi', 'MSI', 'Samsung', 'Apple', 'Realme', 'AVITA',\n",
       "       'Zebronics', 'Honor', 'Fujitsu', 'Wings', 'LG', 'Gigabyte',\n",
       "       'Microsoft', 'Razer', 'Coconics', 'Huawei', 'Micromax', 'iball',\n",
       "       'Lava', 'VAIO', 'Smartron', 'Colorful', 'Nokia', 'RDP'],\n",
       "      dtype=object)"
      ]
     },
     "execution_count": 111,
     "metadata": {},
     "output_type": "execute_result"
    }
   ],
   "source": [
    "# Kiểm tra giá trị hiện có của cột Brand\n",
    "df['Brand'].unique()"
   ]
  },
  {
   "cell_type": "markdown",
   "metadata": {},
   "source": [
    "Do Brand có ý nghĩa là thương hiệu của laptop, nên giá trị của nó sẽ là các tên thương hiệu và ở dạng chuỗi\n"
   ]
  },
  {
   "cell_type": "code",
   "execution_count": 112,
   "metadata": {},
   "outputs": [
    {
     "data": {
      "text/plain": [
       "array(['HP Chromebook 11A-NA0002MU (2E4N0PA) Laptop (11.6 Inch | MediaTek Octa Core | 4 GB | Google Chrome |)::585119::computer::laptops',\n",
       "       'Lenovo Ideapad Slim 3 (82KU017KIN) Laptop (15.6 Inch | AMD Hexa Core Ryzen 5 | 8 GB | Windows 11 | 512 GB SSD)::594497::computer::laptops',\n",
       "       'Dell G15-5520 (D560822WIN9B) Laptop (15.6 Inch | Core i5 12th Gen | 16 GB | Windows 11 | 512 GB SSD)::595299::computer::laptops',\n",
       "       ...,\n",
       "       'ASUS VivoBook Pro 15 OLED M3500QC-L1711WS Laptop (15.6 Inch | AMD Octa Core Ryzen 7 | 16 GB | Windows 11 | 1 TB SSD)::615984::computer::laptops',\n",
       "       'ASUS TUF FX505DT-AL118T Laptop (15.6 Inch | AMD Quad core Ryzen 5 | 8 GB | Windows 10 | 512 GB SSD)::575591::computer::laptops',\n",
       "       'Lenovo Legion 5i (82AU00CFIN) Laptop (15.6 Inch | Core i5 10th Gen | 8 GB | Windows 10 | 512 GB SSD)::581543::computer::laptops'],\n",
       "      shape=(3941,), dtype=object)"
      ]
     },
     "execution_count": 112,
     "metadata": {},
     "output_type": "execute_result"
    }
   ],
   "source": [
    "# Kiểm tra giá trị hiện có của cột Name\n",
    "df['Name'].unique()"
   ]
  },
  {
   "cell_type": "markdown",
   "metadata": {},
   "source": [
    "Ngoài việc loại bỏ các chuỗi dư thừa trong các giá trị trên thì vẫn có thể tách một thông tin khác thành một cột riêng biệt là hệ điều hành. Như vậy, các công việc sẽ được thực hiện để định dạng giá trị cột Name như sau:\n",
    "\n",
    "- Loại bỏ các chuỗi dư thừa, như là '::585119::computer::laptops'\n",
    "- Tách chuỗi hệ điều hành sang cột mới là OS.\n",
    "- Loại bỏ Model Number và Part Number, chẳng hạn như 82KU017KIN hay 11A-NA0002MU, các chuỗi này thường có ý nghĩa cụ thể về cấu hình hoặc phiên bản sản phẩm. Vì ý nghĩa của chuỗi này phụ thuộc vào cách mã hóa mà nhà sản xuất áp dụng, nên sẽ không có nhiều ý nghĩa hoặc ảnh hưởng tới giá bán của laptop.\n"
   ]
  },
  {
   "cell_type": "code",
   "execution_count": 113,
   "metadata": {},
   "outputs": [],
   "source": [
    "# Hàm loại bỏ chuỗi dư thừa ::585119::computer::laptops\n",
    "def remove_extra_text(df: pd.DataFrame, column: str):\n",
    "    \"\"\"Loại bỏ chuỗi dư thừa sau dấu '::' trong cột Name.\"\"\"\n",
    "    # sử dụng regex để loại bỏ chuỗi bắt đầu bằng \"::\" đết hết\n",
    "    df[column] = df[column].str.replace(r'::.*$', '', regex=True)\n",
    "    return df"
   ]
  },
  {
   "cell_type": "code",
   "execution_count": 114,
   "metadata": {},
   "outputs": [],
   "source": [
    "def extract_os(df: pd.DataFrame, column: str):\n",
    "    \"\"\"\n",
    "    Tách thông tin cấu hình từ cột Name, lấy hệ điều hành (thông tin thứ 4) để tạo cột OS.\n",
    "\n",
    "    Parameters:\n",
    "        df (pd.DataFrame): Dữ liệu chứa cột Name.\n",
    "        column (str): Tên cột chứa dữ liệu cần xử lý.\n",
    "\n",
    "    Returns:\n",
    "        pd.DataFrame: DataFrame với cột mới 'OS'.\n",
    "    \"\"\"\n",
    "    \n",
    "    # Tách tất cả các phần nằm trong ngoặc ()\n",
    "    df['Temp'] = df[column].str.findall(r'\\((.*?)\\)')\n",
    "    \n",
    "    # Lấy cặp ngoặc cuối cùng nếu có nhiều cặp\n",
    "    df['Temp'] = df['Temp'].apply(lambda x: x[-1] if len(x) > 1 else x[0] if x else None)\n",
    "    \n",
    "    # loại bỏ chuỗi trong cặp () cuối cùng ra khỏi df[column]\n",
    "    df[column] = df[column].str.replace(r'\\((.*?)\\)', '', regex=True)\n",
    "\n",
    "    # Tách thông tin cấu hình theo dấu '|' và lấy hệ điều hành (thứ 4 trong danh sách)\n",
    "    df['OS'] = df['Temp'].str.split('|').apply(lambda x: x[3].strip() if len(x) > 3 else None)\n",
    "\n",
    "    # Loại bỏ cột Temp\n",
    "    df.drop(columns=['Temp'], inplace=True)\n",
    "    \n",
    "    return df"
   ]
  },
  {
   "cell_type": "code",
   "execution_count": 115,
   "metadata": {},
   "outputs": [],
   "source": [
    "def extract_model_name(df: pd.DataFrame, column: str):\n",
    "    \"\"\"\n",
    "    Tách tên dòng máy từ cột dữ liệu bằng cách loại bỏ từ 'Laptop' và chuỗi có dấu '-'.\n",
    "\n",
    "    Parameters:\n",
    "        df (pd.DataFrame): Dữ liệu chứa cột cần xử lý.\n",
    "        column (str): Tên cột chứa thông tin cần trích xuất.\n",
    "\n",
    "    Returns:\n",
    "        pd.DataFrame: DataFrame với cột 'Model Name' chứa tên dòng máy.\n",
    "    \"\"\"\n",
    "    # Loại bỏ từ 'Laptop'\n",
    "    df[column] = df[column].str.replace(r'\\bLaptop\\b', '', regex=True).str.strip()\n",
    "\n",
    "    # Loại bỏ chuỗi có dấu '-'\n",
    "    # df['Name'] = df['Temp'].str.replace(r'\\b\\w+-\\w+\\b', '', regex=True).str.strip()\n",
    "\n",
    "    # Loại bỏ cột tạm thời\n",
    "    # df.drop(columns=['Temp'], inplace=True)\n",
    "    \n",
    "    return df"
   ]
  },
  {
   "cell_type": "code",
   "execution_count": 116,
   "metadata": {},
   "outputs": [],
   "source": [
    "# hàm trích xuất hệ điều hành và mẫu máy\n",
    "def get_os_and_model(df: pd.DataFrame, column: str):\n",
    "    \"\"\"\n",
    "    Tách hệ điều hành và tên dòng máy từ cột Name.\n",
    "    \n",
    "    Parameters:\n",
    "        df (pd.DataFrame): Dữ liệu chứa cột Name.\n",
    "        name_col (str): Tên cột chứa dữ liệu như 'Name'.\n",
    "\n",
    "    Returns:\n",
    "        pd.DataFrame: DataFrame với hai cột mới 'OS' và 'Model'.\n",
    "    \"\"\"\n",
    "    df = remove_extra_text(df, column)\n",
    "    df = extract_os(df, column) \n",
    "    df = extract_model_name(df, column)\n",
    "    \n",
    "    return df  \n",
    "    "
   ]
  },
  {
   "cell_type": "code",
   "execution_count": 117,
   "metadata": {},
   "outputs": [
    {
     "data": {
      "text/html": [
       "<div>\n",
       "<style scoped>\n",
       "    .dataframe tbody tr th:only-of-type {\n",
       "        vertical-align: middle;\n",
       "    }\n",
       "\n",
       "    .dataframe tbody tr th {\n",
       "        vertical-align: top;\n",
       "    }\n",
       "\n",
       "    .dataframe thead th {\n",
       "        text-align: right;\n",
       "    }\n",
       "</style>\n",
       "<table border=\"1\" class=\"dataframe\">\n",
       "  <thead>\n",
       "    <tr style=\"text-align: right;\">\n",
       "      <th></th>\n",
       "      <th>Unnamed: 0</th>\n",
       "      <th>Brand</th>\n",
       "      <th>Name</th>\n",
       "      <th>Price</th>\n",
       "      <th>Processor_Name</th>\n",
       "      <th>Processor_Brand</th>\n",
       "      <th>RAM_Expandable</th>\n",
       "      <th>RAM</th>\n",
       "      <th>RAM_TYPE</th>\n",
       "      <th>Ghz</th>\n",
       "      <th>Display_type</th>\n",
       "      <th>Display</th>\n",
       "      <th>GPU</th>\n",
       "      <th>GPU_Brand</th>\n",
       "      <th>SSD</th>\n",
       "      <th>HDD</th>\n",
       "      <th>Adapter</th>\n",
       "      <th>OS</th>\n",
       "    </tr>\n",
       "  </thead>\n",
       "  <tbody>\n",
       "    <tr>\n",
       "      <th>0</th>\n",
       "      <td>0</td>\n",
       "      <td>HP</td>\n",
       "      <td>HP Chromebook 11A-NA0002MU</td>\n",
       "      <td>22990</td>\n",
       "      <td>MediaTek Octa-core</td>\n",
       "      <td>MediaTek</td>\n",
       "      <td>Not Expandable</td>\n",
       "      <td>4 GB</td>\n",
       "      <td>DDR4 RAM</td>\n",
       "      <td>2.0 Ghz Processor</td>\n",
       "      <td>LED</td>\n",
       "      <td>11.6</td>\n",
       "      <td>Integrated Graphics</td>\n",
       "      <td>MediaTek</td>\n",
       "      <td>64 GB SSD Storage</td>\n",
       "      <td>No HDD</td>\n",
       "      <td>45</td>\n",
       "      <td>Google Chrome</td>\n",
       "    </tr>\n",
       "    <tr>\n",
       "      <th>1</th>\n",
       "      <td>1</td>\n",
       "      <td>Lenovo</td>\n",
       "      <td>Lenovo Ideapad Slim 3</td>\n",
       "      <td>36289</td>\n",
       "      <td>AMD Hexa-Core Ryzen 5</td>\n",
       "      <td>AMD</td>\n",
       "      <td>12 GB Expandable</td>\n",
       "      <td>8 GB</td>\n",
       "      <td>DDR4 RAM</td>\n",
       "      <td>4.0 Ghz Processor</td>\n",
       "      <td>LCD</td>\n",
       "      <td>15.6</td>\n",
       "      <td>Radeon</td>\n",
       "      <td>AMD</td>\n",
       "      <td>512 GB SSD Storage</td>\n",
       "      <td>No HDD</td>\n",
       "      <td>65</td>\n",
       "      <td>Windows 11</td>\n",
       "    </tr>\n",
       "    <tr>\n",
       "      <th>2</th>\n",
       "      <td>3</td>\n",
       "      <td>Dell</td>\n",
       "      <td>Dell G15-5520</td>\n",
       "      <td>78500</td>\n",
       "      <td>Intel Core i5 (12th Gen)</td>\n",
       "      <td>Intel</td>\n",
       "      <td>32 GB Expandable</td>\n",
       "      <td>16 GB</td>\n",
       "      <td>DDR5 RAM</td>\n",
       "      <td>3.3 Ghz Processor</td>\n",
       "      <td>LCD</td>\n",
       "      <td>15.6</td>\n",
       "      <td>GeForce RTX 3050 GPU, 4 GB</td>\n",
       "      <td>NVIDIA</td>\n",
       "      <td>512 GB SSD Storage</td>\n",
       "      <td>No HDD</td>\n",
       "      <td>56</td>\n",
       "      <td>Windows 11</td>\n",
       "    </tr>\n",
       "    <tr>\n",
       "      <th>3</th>\n",
       "      <td>4</td>\n",
       "      <td>HP</td>\n",
       "      <td>HP 15s-fy5007TU</td>\n",
       "      <td>55490</td>\n",
       "      <td>Intel Core i5 (12th Gen)</td>\n",
       "      <td>Intel</td>\n",
       "      <td>8 GB Expandable</td>\n",
       "      <td>8 GB</td>\n",
       "      <td>DDR4 RAM</td>\n",
       "      <td>4.2 Ghz Processor</td>\n",
       "      <td>LCD</td>\n",
       "      <td>15.6</td>\n",
       "      <td>Iris Xe</td>\n",
       "      <td>Intel</td>\n",
       "      <td>512 GB SSD Storage</td>\n",
       "      <td>No HDD</td>\n",
       "      <td>no</td>\n",
       "      <td>Windows 11</td>\n",
       "    </tr>\n",
       "    <tr>\n",
       "      <th>4</th>\n",
       "      <td>6</td>\n",
       "      <td>Infinix</td>\n",
       "      <td>Infinix Inbook Y2 Plus XL29</td>\n",
       "      <td>21990</td>\n",
       "      <td>Intel Core i3 (11th Gen)</td>\n",
       "      <td>Intel</td>\n",
       "      <td>Not Expandable</td>\n",
       "      <td>8 GB LP</td>\n",
       "      <td>LPDDR4X RAM</td>\n",
       "      <td>1.7 Ghz Processor</td>\n",
       "      <td>LCD</td>\n",
       "      <td>15.6</td>\n",
       "      <td>UHD</td>\n",
       "      <td>Intel</td>\n",
       "      <td>512 GB SSD Storage</td>\n",
       "      <td>No HDD</td>\n",
       "      <td>45</td>\n",
       "      <td>Windows 11</td>\n",
       "    </tr>\n",
       "    <tr>\n",
       "      <th>...</th>\n",
       "      <td>...</td>\n",
       "      <td>...</td>\n",
       "      <td>...</td>\n",
       "      <td>...</td>\n",
       "      <td>...</td>\n",
       "      <td>...</td>\n",
       "      <td>...</td>\n",
       "      <td>...</td>\n",
       "      <td>...</td>\n",
       "      <td>...</td>\n",
       "      <td>...</td>\n",
       "      <td>...</td>\n",
       "      <td>...</td>\n",
       "      <td>...</td>\n",
       "      <td>...</td>\n",
       "      <td>...</td>\n",
       "      <td>...</td>\n",
       "      <td>...</td>\n",
       "    </tr>\n",
       "    <tr>\n",
       "      <th>3971</th>\n",
       "      <td>4403</td>\n",
       "      <td>ASUS</td>\n",
       "      <td>ASUS Zenbook UX430UN-GV022T</td>\n",
       "      <td>84990</td>\n",
       "      <td>Intel Core i5 (8th Gen)</td>\n",
       "      <td>Intel</td>\n",
       "      <td>32 GB Expandable</td>\n",
       "      <td>8 GB</td>\n",
       "      <td>DDR4 RAM</td>\n",
       "      <td>1.6 Ghz Processor</td>\n",
       "      <td>LED</td>\n",
       "      <td>14</td>\n",
       "      <td>Geforce MX150 GPU, 2 GB</td>\n",
       "      <td>NVIDIA</td>\n",
       "      <td>512 GB SSD Storage</td>\n",
       "      <td>No HDD</td>\n",
       "      <td>65</td>\n",
       "      <td>Windows 10</td>\n",
       "    </tr>\n",
       "    <tr>\n",
       "      <th>3972</th>\n",
       "      <td>4404</td>\n",
       "      <td>ASUS</td>\n",
       "      <td>ASUS Vivobook K15 OLED K513EA-L301WS</td>\n",
       "      <td>40031</td>\n",
       "      <td>Intel Core i3 (11th Gen)</td>\n",
       "      <td>Intel</td>\n",
       "      <td>Not Expandable</td>\n",
       "      <td>8 GB</td>\n",
       "      <td>DDR4 RAM</td>\n",
       "      <td>4.0 Ghz Processor</td>\n",
       "      <td>LED</td>\n",
       "      <td>15.6</td>\n",
       "      <td>UHD</td>\n",
       "      <td>Intel</td>\n",
       "      <td>256 GB SSD Storage</td>\n",
       "      <td>No HDD</td>\n",
       "      <td>65</td>\n",
       "      <td>Windows 11</td>\n",
       "    </tr>\n",
       "    <tr>\n",
       "      <th>3973</th>\n",
       "      <td>4405</td>\n",
       "      <td>ASUS</td>\n",
       "      <td>ASUS VivoBook Pro 15 OLED M3500QC-L1711WS</td>\n",
       "      <td>75990</td>\n",
       "      <td>AMD Octa-Core Ryzen 7</td>\n",
       "      <td>AMD</td>\n",
       "      <td>Not Expandable</td>\n",
       "      <td>16 GB</td>\n",
       "      <td>DDR4 RAM</td>\n",
       "      <td>3.1 Ghz Processor</td>\n",
       "      <td>LED</td>\n",
       "      <td>15.6</td>\n",
       "      <td>GeForce RTX 3050 GPU, 4 GB</td>\n",
       "      <td>NVIDIA</td>\n",
       "      <td>1024 GB SSD Storage</td>\n",
       "      <td>No HDD</td>\n",
       "      <td>120</td>\n",
       "      <td>Windows 11</td>\n",
       "    </tr>\n",
       "    <tr>\n",
       "      <th>3974</th>\n",
       "      <td>4407</td>\n",
       "      <td>ASUS</td>\n",
       "      <td>ASUS TUF FX505DT-AL118T</td>\n",
       "      <td>71909</td>\n",
       "      <td>AMD Quad-Core Ryzen 5</td>\n",
       "      <td>AMD</td>\n",
       "      <td>32 GB Expandable</td>\n",
       "      <td>8 GB</td>\n",
       "      <td>DDR4 RAM</td>\n",
       "      <td>2.1 Ghz Processor</td>\n",
       "      <td>LED</td>\n",
       "      <td>15.6</td>\n",
       "      <td>GeForce GTX 1650 GPU, 4 GB</td>\n",
       "      <td>NVIDIA</td>\n",
       "      <td>512 GB SSD Storage</td>\n",
       "      <td>No HDD</td>\n",
       "      <td>150</td>\n",
       "      <td>Windows 10</td>\n",
       "    </tr>\n",
       "    <tr>\n",
       "      <th>3975</th>\n",
       "      <td>4408</td>\n",
       "      <td>Lenovo</td>\n",
       "      <td>Lenovo Legion 5i</td>\n",
       "      <td>69990</td>\n",
       "      <td>Intel Core i5 (10th Gen)</td>\n",
       "      <td>Intel</td>\n",
       "      <td>Not Expandable</td>\n",
       "      <td>8 GB</td>\n",
       "      <td>DDR4 RAM</td>\n",
       "      <td>2.5 Ghz Processor</td>\n",
       "      <td>LED</td>\n",
       "      <td>15.6</td>\n",
       "      <td>Geforce GTX 1650 GPU, 4 GB</td>\n",
       "      <td>NVIDIA</td>\n",
       "      <td>512 GB SSD Storage</td>\n",
       "      <td>No HDD</td>\n",
       "      <td>60</td>\n",
       "      <td>Windows 10</td>\n",
       "    </tr>\n",
       "  </tbody>\n",
       "</table>\n",
       "<p>3976 rows × 18 columns</p>\n",
       "</div>"
      ],
      "text/plain": [
       "      Unnamed: 0    Brand                                       Name  Price  \\\n",
       "0              0       HP                 HP Chromebook 11A-NA0002MU  22990   \n",
       "1              1   Lenovo                      Lenovo Ideapad Slim 3  36289   \n",
       "2              3     Dell                              Dell G15-5520  78500   \n",
       "3              4       HP                            HP 15s-fy5007TU  55490   \n",
       "4              6  Infinix                Infinix Inbook Y2 Plus XL29  21990   \n",
       "...          ...      ...                                        ...    ...   \n",
       "3971        4403     ASUS                ASUS Zenbook UX430UN-GV022T  84990   \n",
       "3972        4404     ASUS       ASUS Vivobook K15 OLED K513EA-L301WS  40031   \n",
       "3973        4405     ASUS  ASUS VivoBook Pro 15 OLED M3500QC-L1711WS  75990   \n",
       "3974        4407     ASUS                    ASUS TUF FX505DT-AL118T  71909   \n",
       "3975        4408   Lenovo                           Lenovo Legion 5i  69990   \n",
       "\n",
       "                Processor_Name Processor_Brand     RAM_Expandable      RAM  \\\n",
       "0           MediaTek Octa-core        MediaTek     Not Expandable    4 GB    \n",
       "1        AMD Hexa-Core Ryzen 5             AMD   12 GB Expandable    8 GB    \n",
       "2     Intel Core i5 (12th Gen)           Intel   32 GB Expandable   16 GB    \n",
       "3     Intel Core i5 (12th Gen)           Intel    8 GB Expandable    8 GB    \n",
       "4     Intel Core i3 (11th Gen)           Intel     Not Expandable  8 GB LP   \n",
       "...                        ...             ...                ...      ...   \n",
       "3971   Intel Core i5 (8th Gen)           Intel   32 GB Expandable    8 GB    \n",
       "3972  Intel Core i3 (11th Gen)           Intel     Not Expandable    8 GB    \n",
       "3973     AMD Octa-Core Ryzen 7             AMD     Not Expandable   16 GB    \n",
       "3974     AMD Quad-Core Ryzen 5             AMD   32 GB Expandable    8 GB    \n",
       "3975  Intel Core i5 (10th Gen)           Intel     Not Expandable    8 GB    \n",
       "\n",
       "          RAM_TYPE                 Ghz Display_type Display  \\\n",
       "0         DDR4 RAM   2.0 Ghz Processor          LED   11.6    \n",
       "1        DDR4 RAM    4.0 Ghz Processor          LCD   15.6    \n",
       "2        DDR5 RAM    3.3 Ghz Processor          LCD   15.6    \n",
       "3        DDR4 RAM    4.2 Ghz Processor          LCD   15.6    \n",
       "4      LPDDR4X RAM   1.7 Ghz Processor          LCD   15.6    \n",
       "...            ...                 ...          ...     ...   \n",
       "3971     DDR4 RAM    1.6 Ghz Processor          LED     14    \n",
       "3972      DDR4 RAM   4.0 Ghz Processor          LED   15.6    \n",
       "3973      DDR4 RAM   3.1 Ghz Processor          LED   15.6    \n",
       "3974     DDR4 RAM    2.1 Ghz Processor          LED   15.6    \n",
       "3975      DDR4 RAM   2.5 Ghz Processor          LED   15.6    \n",
       "\n",
       "                             GPU GPU_Brand                  SSD     HDD  \\\n",
       "0            Integrated Graphics  MediaTek    64 GB SSD Storage  No HDD   \n",
       "1                         Radeon       AMD   512 GB SSD Storage  No HDD   \n",
       "2     GeForce RTX 3050 GPU, 4 GB    NVIDIA   512 GB SSD Storage  No HDD   \n",
       "3                        Iris Xe     Intel   512 GB SSD Storage  No HDD   \n",
       "4                            UHD     Intel   512 GB SSD Storage  No HDD   \n",
       "...                          ...       ...                  ...     ...   \n",
       "3971     Geforce MX150 GPU, 2 GB    NVIDIA   512 GB SSD Storage  No HDD   \n",
       "3972                         UHD     Intel   256 GB SSD Storage  No HDD   \n",
       "3973  GeForce RTX 3050 GPU, 4 GB    NVIDIA  1024 GB SSD Storage  No HDD   \n",
       "3974  GeForce GTX 1650 GPU, 4 GB    NVIDIA   512 GB SSD Storage  No HDD   \n",
       "3975  Geforce GTX 1650 GPU, 4 GB    NVIDIA   512 GB SSD Storage  No HDD   \n",
       "\n",
       "     Adapter             OS  \n",
       "0         45  Google Chrome  \n",
       "1         65     Windows 11  \n",
       "2         56     Windows 11  \n",
       "3         no     Windows 11  \n",
       "4         45     Windows 11  \n",
       "...      ...            ...  \n",
       "3971      65     Windows 10  \n",
       "3972      65     Windows 11  \n",
       "3973     120     Windows 11  \n",
       "3974     150     Windows 10  \n",
       "3975      60     Windows 10  \n",
       "\n",
       "[3976 rows x 18 columns]"
      ]
     },
     "execution_count": 117,
     "metadata": {},
     "output_type": "execute_result"
    }
   ],
   "source": [
    "df = get_os_and_model(df, 'Name')\n",
    "df"
   ]
  },
  {
   "cell_type": "markdown",
   "metadata": {},
   "source": [
    "Sau khi xử lý cột Name ta có được cột OS chứa hệ điều hành và cột Name chứa Tên dòng máy\n"
   ]
  },
  {
   "cell_type": "markdown",
   "metadata": {},
   "source": [
    "Ta có cột Price_VND thay cho Price\n"
   ]
  },
  {
   "cell_type": "code",
   "execution_count": 118,
   "metadata": {},
   "outputs": [],
   "source": [
    "# chuyển đổi cột Price từ đơn vị Rupee sang VND\n",
    "df['Price_VND'] = df['Price'] * 300 # 1 rupee gần bằng 300 vnd\n",
    "# Loại bỏ cột Price\n",
    "df = df.drop('Price', axis=1)"
   ]
  },
  {
   "cell_type": "code",
   "execution_count": 119,
   "metadata": {},
   "outputs": [
    {
     "data": {
      "text/plain": [
       "Processor_Name\n",
       "Intel Core i5 (11th Gen)           316\n",
       "Intel Core i5 (12th Gen)           294\n",
       "AMD Hexa-Core Ryzen 5              245\n",
       "AMD Octa-Core Ryzen 7              239\n",
       "Intel Core i3 (11th Gen)           189\n",
       "                                  ... \n",
       "Microsoft SQ1 Processor              1\n",
       "AMD Dual-Core A9 APU Processor       1\n",
       "AMD Octa-Core Ryzen 9 Processor      1\n",
       "1.9 Ghz Processor                    1\n",
       "2.6 Ghz Processor                    1\n",
       "Name: count, Length: 125, dtype: int64"
      ]
     },
     "execution_count": 119,
     "metadata": {},
     "output_type": "execute_result"
    }
   ],
   "source": [
    "# Xem xét các giá trị hiện có của trường Processor_Name\n",
    "df['Processor_Name'].value_counts()"
   ]
  },
  {
   "cell_type": "code",
   "execution_count": 120,
   "metadata": {},
   "outputs": [
    {
     "data": {
      "text/plain": [
       "Processor_Name\n",
       "False    3955\n",
       "True       21\n",
       "Name: count, dtype: int64"
      ]
     },
     "execution_count": 120,
     "metadata": {},
     "output_type": "execute_result"
    }
   ],
   "source": [
    "# đếm số lượng các dòng có chứa 'Ghz' trong cột Processor_Name\n",
    "df['Processor_Name'].str.contains('Ghz').value_counts()"
   ]
  },
  {
   "cell_type": "markdown",
   "metadata": {},
   "source": [
    "Tương tự như cách xử lý của cột Battery_Life, ở cột Processor_Name này, có một số dòng có giá trị như là 1.6 Ghz Processor...Những giá trị này không thể hiện được sự khác biệt giữa các dòng vi xử lý, nên sẽ xem nó như giá trị null và loại bỏ.\n"
   ]
  },
  {
   "cell_type": "code",
   "execution_count": 121,
   "metadata": {},
   "outputs": [
    {
     "data": {
      "text/plain": [
       "np.int64(0)"
      ]
     },
     "execution_count": 121,
     "metadata": {},
     "output_type": "execute_result"
    }
   ],
   "source": [
    "# Chuyển các giá trị chứa 'Ghz Processor' thành NaN trong cột Processor_Name\n",
    "df['Processor_Name'] = df['Processor_Name'].apply(lambda x: np.nan if 'Ghz Processor' in str(x) else x)\n",
    "\n",
    "# lọc bỏ các dòng đã chuyển thành null\n",
    "df = df.dropna(subset=['Processor_Name'])\n",
    "\n",
    "# kiểm tra giá trị khuyết còn lại trong cột\n",
    "df['Processor_Name'].isna().sum()\n"
   ]
  },
  {
   "cell_type": "code",
   "execution_count": 122,
   "metadata": {},
   "outputs": [
    {
     "data": {
      "text/plain": [
       "array(['MediaTek', 'AMD', 'Intel', 'Apple', 'Qualcomm', 'Microsoft'],\n",
       "      dtype=object)"
      ]
     },
     "execution_count": 122,
     "metadata": {},
     "output_type": "execute_result"
    }
   ],
   "source": [
    "# kiểm tra giá trị của cột Processor_Brand\n",
    "df['Processor_Brand'].unique()"
   ]
  },
  {
   "cell_type": "code",
   "execution_count": 123,
   "metadata": {},
   "outputs": [
    {
     "data": {
      "text/plain": [
       "array(['Not Expandable', ' 12 GB Expandable', ' 32 GB Expandable',\n",
       "       ' 8 GB Expandable', ' 16 GB Expandable', ' 4 GB Expandable',\n",
       "       ' 64 GB Expandable', ' 48 GB Expandable', ' 2 GB Expandable',\n",
       "       ' 10 GB Expandable'], dtype=object)"
      ]
     },
     "execution_count": 123,
     "metadata": {},
     "output_type": "execute_result"
    }
   ],
   "source": [
    "# Kiểm tra giá trị của cột RAM_Expandable\n",
    "df['RAM_Expandable'].unique()"
   ]
  },
  {
   "cell_type": "markdown",
   "metadata": {},
   "source": [
    "Giá trị của cột này nên là kiểu int. Giá trị Not Expandable sẽ được dán là 0\n"
   ]
  },
  {
   "cell_type": "code",
   "execution_count": 124,
   "metadata": {},
   "outputs": [
    {
     "data": {
      "text/plain": [
       "Unnamed: 0          int64\n",
       "Brand              object\n",
       "Name               object\n",
       "Processor_Name     object\n",
       "Processor_Brand    object\n",
       "RAM_Expandable      int64\n",
       "RAM                object\n",
       "RAM_TYPE           object\n",
       "Ghz                object\n",
       "Display_type       object\n",
       "Display            object\n",
       "GPU                object\n",
       "GPU_Brand          object\n",
       "SSD                object\n",
       "HDD                object\n",
       "Adapter            object\n",
       "OS                 object\n",
       "Price_VND           int64\n",
       "dtype: object"
      ]
     },
     "execution_count": 124,
     "metadata": {},
     "output_type": "execute_result"
    }
   ],
   "source": [
    "# Định dạng giá trị của RAM_Expandable bằng cách loại bỏ chuỗi 'GB Expandable'\n",
    "df['RAM_Expandable'] = df['RAM_Expandable'].str.replace(r'GB Expandable|Expandable', '', regex=True).str.strip()\n",
    "\n",
    "# Chuyển các giá trị 'Not' thành 0 \n",
    "df['RAM_Expandable'] = df['RAM_Expandable'].replace('Not', '0')\n",
    "\n",
    "# chuyển kiếu dữ liệu từ chuỗi thành số\n",
    "df['RAM_Expandable'] = df['RAM_Expandable'].astype(int)\n",
    "df.dtypes\n"
   ]
  },
  {
   "cell_type": "code",
   "execution_count": 125,
   "metadata": {},
   "outputs": [
    {
     "data": {
      "text/plain": [
       "array(['4 GB ', '8 GB ', '16 GB ', '8 GB LP', '16 GB LP', '4 GB LP',\n",
       "       '32 GB LP', '8 GB RAM', '32 GB ', '16 GB RAM', '16 GB RAM ',\n",
       "       '18 GB RAM', '32 GB RAM', '64 GB ', '12 GB ', '36 GB RAM', '2 GB ',\n",
       "       '24 GB ', '6 GB ', '3 GB '], dtype=object)"
      ]
     },
     "execution_count": 125,
     "metadata": {},
     "output_type": "execute_result"
    }
   ],
   "source": [
    "# Kiểm tra giá trị của cột RAM\n",
    "df['RAM'].unique()"
   ]
  },
  {
   "cell_type": "markdown",
   "metadata": {},
   "source": [
    "Xử lý cột RAM tương tự như cột RAM_Expandable\n"
   ]
  },
  {
   "cell_type": "code",
   "execution_count": 126,
   "metadata": {},
   "outputs": [
    {
     "data": {
      "text/plain": [
       "Unnamed: 0          int64\n",
       "Brand              object\n",
       "Name               object\n",
       "Processor_Name     object\n",
       "Processor_Brand    object\n",
       "RAM_Expandable      int64\n",
       "RAM                 int64\n",
       "RAM_TYPE           object\n",
       "Ghz                object\n",
       "Display_type       object\n",
       "Display            object\n",
       "GPU                object\n",
       "GPU_Brand          object\n",
       "SSD                object\n",
       "HDD                object\n",
       "Adapter            object\n",
       "OS                 object\n",
       "Price_VND           int64\n",
       "dtype: object"
      ]
     },
     "execution_count": 126,
     "metadata": {},
     "output_type": "execute_result"
    }
   ],
   "source": [
    "# loại bỏ đi các ký tự không phải số\n",
    "df['RAM'] = df['RAM'].str.replace(r'GB RAM|GB LP|GB|', '', regex=True).str.strip()\n",
    "\n",
    "# Chuyển kiểu dữ liệu thành int\n",
    "df['RAM'] = df['RAM'].astype(int)\n",
    "df.dtypes"
   ]
  },
  {
   "cell_type": "code",
   "execution_count": 127,
   "metadata": {},
   "outputs": [
    {
     "data": {
      "text/plain": [
       "array([' DDR4 RAM', ' DDR4 RAM ', ' DDR5 RAM ', ' LPDDR4X RAM',\n",
       "       ' LPDDR5X RAM ', ' LPDDR5 RAM', ' LPDDR4 RAM', ' DDR5 RAM',\n",
       "       ' LPDDR5X RAM', ' LPDDR5 RAM ', ' LPDDR4X RAM ', ' LPDDR3 RAM',\n",
       "       ' RAM', ' LPDDR4 RAM ', ' DDR3 RAM', ' RAM ', ' DDR3 RAM ',\n",
       "       ' LPDDR3 RAM ', ' DDR2 RAM'], dtype=object)"
      ]
     },
     "execution_count": 127,
     "metadata": {},
     "output_type": "execute_result"
    }
   ],
   "source": [
    "# kiểm tra giá trị của cột RAM_TYPE\n",
    "df['RAM_TYPE'].unique()"
   ]
  },
  {
   "cell_type": "markdown",
   "metadata": {},
   "source": [
    "Ta thấy xuất hiện giá trị chỉ có RAM, không thể hiện được là loại RAM nào, vì vậy phải xem số lượng dòng chỉ có mỗi 'RAM' để quyết định xem là loại bỏ hay là điền khuyết\n"
   ]
  },
  {
   "cell_type": "code",
   "execution_count": 128,
   "metadata": {},
   "outputs": [
    {
     "name": "stdout",
     "output_type": "stream",
     "text": [
      "Tỷ lệ 'RAM' trong cột RAM_TYPE: 0.99%\n"
     ]
    }
   ],
   "source": [
    "# Đếm số lượng giá trị \"RAM\" trong cột RAM_TYPE\n",
    "ram_count = df[df['RAM_TYPE'].str.strip() == 'RAM'].shape[0]\n",
    "\n",
    "# Đếm tổng số dòng trong cột RAM_TYPE\n",
    "total_count = df['RAM_TYPE'].shape[0]\n",
    "\n",
    "# Tính tỷ lệ \"RAM\"\n",
    "ram_ratio = ram_count / total_count * 100\n",
    "\n",
    "# In ra tỷ lệ\n",
    "print(f\"Tỷ lệ 'RAM' trong cột RAM_TYPE: {ram_ratio:.2f}%\")\n"
   ]
  },
  {
   "cell_type": "markdown",
   "metadata": {},
   "source": [
    "Với kết quả trên, ta có thể xem các giá trị chỉ có 'RAM' là giá trị null và lọc bỏ\n"
   ]
  },
  {
   "cell_type": "code",
   "execution_count": 129,
   "metadata": {},
   "outputs": [
    {
     "data": {
      "text/plain": [
       "np.int64(0)"
      ]
     },
     "execution_count": 129,
     "metadata": {},
     "output_type": "execute_result"
    }
   ],
   "source": [
    "# Chuyển các giá trị chỉ chứa 'RAM' thành NaN trong cột RAM_TYPE\n",
    "df['RAM_TYPE'] = df['RAM_TYPE'].apply(lambda x: np.nan if x.strip()=='RAM' else x)\n",
    "\n",
    "# lọc bỏ giá trị null\n",
    "df = df.dropna(subset=['RAM_TYPE'])\n",
    "\n",
    "# kiểm tra giá trị khuyết còn lại trong cột\n",
    "df['RAM_TYPE'].isna().sum()"
   ]
  },
  {
   "cell_type": "code",
   "execution_count": 130,
   "metadata": {},
   "outputs": [
    {
     "data": {
      "text/plain": [
       "array([' 2.0 Ghz Processor', ' 4.0 Ghz Processor', ' 3.3 Ghz Processor',\n",
       "       ' 4.2 Ghz Processor', ' 1.7 Ghz Processor', '0',\n",
       "       ' 2.5 Ghz Processor', ' 2.2 Ghz Processor', ' 2.9 Ghz Processor',\n",
       "       ' 3.4 Ghz Processor', ' 2.6 Ghz Processor', ' 3.0 Ghz Processor',\n",
       "       ' 4.7 Ghz Processor', ' 3.1 Ghz Processor', ' 2.7 Ghz Processor',\n",
       "       ' 2.8 Ghz Processor', ' 2.4 Ghz Processor', ' 2.1 Ghz Processor',\n",
       "       ' 4.8 Ghz Processor', ' 1.2 Ghz Processor', ' 1.0 Ghz Processor',\n",
       "       ' 1.8 Ghz Processor', ' 1.1 Ghz Processor', ' 2.3 Ghz Processor',\n",
       "       ' 1.6 Ghz Processor', ' 0.8 Ghz Processor', ' 1.3 Ghz Processor',\n",
       "       ' 1.5 Ghz Processor', ' 1.9 Ghz Processor', ' 5.5 Ghz Processor',\n",
       "       ' 1.4 Ghz Processor'], dtype=object)"
      ]
     },
     "execution_count": 130,
     "metadata": {},
     "output_type": "execute_result"
    }
   ],
   "source": [
    "# kiểm tra giá trị của cột Ghz\n",
    "df['Ghz'].unique()"
   ]
  },
  {
   "cell_type": "markdown",
   "metadata": {},
   "source": [
    "Cột Ghz trông có vẻ là biến phân loại vì có số lượng giá trị riêng biệt nhất định, nhưng các giá trị lại rời rạc và không có quy tắc nào, nên có thể xem như đây là một biến số chứa các giá trị liên tục. Ta sẽ xử lý cột này bằng cách xóa bỏ chuỗi 'Ghz Processor' và chuyển các giá trị số thành float.\n"
   ]
  },
  {
   "cell_type": "code",
   "execution_count": 131,
   "metadata": {},
   "outputs": [
    {
     "data": {
      "text/plain": [
       "Unnamed: 0           int64\n",
       "Brand               object\n",
       "Name                object\n",
       "Processor_Name      object\n",
       "Processor_Brand     object\n",
       "RAM_Expandable       int64\n",
       "RAM                  int64\n",
       "RAM_TYPE            object\n",
       "Ghz                float64\n",
       "Display_type        object\n",
       "Display             object\n",
       "GPU                 object\n",
       "GPU_Brand           object\n",
       "SSD                 object\n",
       "HDD                 object\n",
       "Adapter             object\n",
       "OS                  object\n",
       "Price_VND            int64\n",
       "dtype: object"
      ]
     },
     "execution_count": 131,
     "metadata": {},
     "output_type": "execute_result"
    }
   ],
   "source": [
    "# loại bỏ đi chuỗi 'Ghz Processor'\n",
    "df['Ghz'] = df['Ghz'].str.replace('Ghz Processor', '', regex=False).str.strip()\n",
    "\n",
    "# Chuyển kiểu dữ liệu thành int\n",
    "df['Ghz'] = df['Ghz'].astype(float)\n",
    "df.dtypes"
   ]
  },
  {
   "cell_type": "code",
   "execution_count": 132,
   "metadata": {},
   "outputs": [
    {
     "data": {
      "text/plain": [
       "count    3916.000000\n",
       "mean        2.626456\n",
       "std         1.255342\n",
       "min         0.000000\n",
       "25%         1.800000\n",
       "50%         2.400000\n",
       "75%         3.400000\n",
       "max         5.500000\n",
       "Name: Ghz, dtype: float64"
      ]
     },
     "execution_count": 132,
     "metadata": {},
     "output_type": "execute_result"
    }
   ],
   "source": [
    "# Kiểm tra thống kê mô tả hiện tại của Ghz\n",
    "df['Ghz'].describe()"
   ]
  },
  {
   "cell_type": "markdown",
   "metadata": {},
   "source": [
    "Ta thấy giá trị min là 0.0. Tuy nhiên, xung nhịp của vi xử lý không thể nào là 0. nên ta sẽ xem đây là giá trị không hợp lệ và xem nó là giá trị khuyết. Sau đó ta sẽ tiến hành điền lại giá trị này. Ta thấy rằng giá trị trung bình là là 2.6 và trung vị là 2.4, vì vậy phân phối của biến này có xu hướng lệch phải nhẹ, nhưng không quá lớn, vì vậy có thể điền bằng 1 trong 2 giá trị là mean và median.\n"
   ]
  },
  {
   "cell_type": "code",
   "execution_count": 133,
   "metadata": {},
   "outputs": [],
   "source": [
    "# chuyển giá trị 0 thành nan\n",
    "df['Ghz'] = df['Ghz'].replace(0.0, np.nan)"
   ]
  },
  {
   "cell_type": "code",
   "execution_count": 134,
   "metadata": {},
   "outputs": [
    {
     "data": {
      "text/plain": [
       "count    3724.000000\n",
       "mean        2.761869\n",
       "std         1.132722\n",
       "min         0.800000\n",
       "25%         2.000000\n",
       "50%         2.500000\n",
       "75%         3.400000\n",
       "max         5.500000\n",
       "Name: Ghz, dtype: float64"
      ]
     },
     "execution_count": 134,
     "metadata": {},
     "output_type": "execute_result"
    }
   ],
   "source": [
    "# Kiểm tra lại thống kê mô tả của Ghz\n",
    "df['Ghz'].describe()"
   ]
  },
  {
   "cell_type": "code",
   "execution_count": 135,
   "metadata": {},
   "outputs": [
    {
     "name": "stdout",
     "output_type": "stream",
     "text": [
      "Tỉ lệ khuyết hiện tại của biến Ghz: 4.902962206332993\n"
     ]
    }
   ],
   "source": [
    "print(f\"Tỉ lệ khuyết hiện tại của biến Ghz: {(df['Ghz'].isna().sum()/df.shape[0])*100.0}\")"
   ]
  },
  {
   "cell_type": "markdown",
   "metadata": {},
   "source": [
    "Ta thấy tỉ lệ khuyết hiện tại không quá đáng kể, nên dù điền bằng giá trị nào thì cũng sẽ không ảnh hưởng nhiều tới hiệu quả dự đoán. Hơn nữa, xung nhịp có thể thay đổi với nhiều giá trị trong quá trình sử dụng, nhưng chỉ nằm trong khoảng thông dụng như là khoảng 2.5 - 3.6 như laptop được sản xuất hiện nay, nên việc sử dụng giá trị median để điền khuyết sẽ là hợp lý trong trường hợp này.\n"
   ]
  },
  {
   "cell_type": "code",
   "execution_count": 136,
   "metadata": {},
   "outputs": [
    {
     "name": "stdout",
     "output_type": "stream",
     "text": [
      "0\n"
     ]
    }
   ],
   "source": [
    "# điền khuyết bằng median của Ghz\n",
    "df['Ghz'] = df['Ghz'].fillna(df['Ghz'].median())\n",
    "\n",
    "# Kiểm tra giá trị khuyết còn lại của Ghz\n",
    "print(df['Ghz'].isnull().sum())  # Output: 0"
   ]
  },
  {
   "cell_type": "code",
   "execution_count": 137,
   "metadata": {},
   "outputs": [
    {
     "data": {
      "text/plain": [
       "array(['LED', 'LCD'], dtype=object)"
      ]
     },
     "execution_count": 137,
     "metadata": {},
     "output_type": "execute_result"
    }
   ],
   "source": [
    "# Xem giá trị của cột Display_type\n",
    "df['Display_type'].unique()"
   ]
  },
  {
   "cell_type": "code",
   "execution_count": 138,
   "metadata": {},
   "outputs": [
    {
     "data": {
      "text/plain": [
       "array(['11.6 ', '15.6 ', '14 ', '16 ', '17.3 ', '13.3 ', '16.1 ', '14.1 ',\n",
       "       '15.3 ', '13.4 ', '15 ', '10.5 ', '13.5 ', '13 ', '12.4 ',\n",
       "       'OLED Display With Touchscreen', '14.0 ', '17 ', '18 ', '14.5 ',\n",
       "       '12 ', '10.1 ', '15. ', '14.9 ', '11 ', '12.3 ', '16.6 ', '12.2 ',\n",
       "       '12.5 ', '15.4 ', '13.6 ', '12.0 ', '16.2 '], dtype=object)"
      ]
     },
     "execution_count": 138,
     "metadata": {},
     "output_type": "execute_result"
    }
   ],
   "source": [
    "# Xem giá trị của cột Display\n",
    "df['Display'].unique()"
   ]
  },
  {
   "cell_type": "markdown",
   "metadata": {},
   "source": [
    "Cột Display thể hiện kích thước màn hình hiển thị, ta thấy có một giá trị không hợp lệ ở đây là 'OLED Display With Touchscreen'. Ta sẽ thay thể trị này\n"
   ]
  },
  {
   "cell_type": "code",
   "execution_count": 139,
   "metadata": {},
   "outputs": [
    {
     "data": {
      "text/html": [
       "<div>\n",
       "<style scoped>\n",
       "    .dataframe tbody tr th:only-of-type {\n",
       "        vertical-align: middle;\n",
       "    }\n",
       "\n",
       "    .dataframe tbody tr th {\n",
       "        vertical-align: top;\n",
       "    }\n",
       "\n",
       "    .dataframe thead th {\n",
       "        text-align: right;\n",
       "    }\n",
       "</style>\n",
       "<table border=\"1\" class=\"dataframe\">\n",
       "  <thead>\n",
       "    <tr style=\"text-align: right;\">\n",
       "      <th></th>\n",
       "      <th>Unnamed: 0</th>\n",
       "      <th>Brand</th>\n",
       "      <th>Name</th>\n",
       "      <th>Processor_Name</th>\n",
       "      <th>Processor_Brand</th>\n",
       "      <th>RAM_Expandable</th>\n",
       "      <th>RAM</th>\n",
       "      <th>RAM_TYPE</th>\n",
       "      <th>Ghz</th>\n",
       "      <th>Display_type</th>\n",
       "      <th>Display</th>\n",
       "      <th>GPU</th>\n",
       "      <th>GPU_Brand</th>\n",
       "      <th>SSD</th>\n",
       "      <th>HDD</th>\n",
       "      <th>Adapter</th>\n",
       "      <th>OS</th>\n",
       "      <th>Price_VND</th>\n",
       "    </tr>\n",
       "  </thead>\n",
       "  <tbody>\n",
       "    <tr>\n",
       "      <th>774</th>\n",
       "      <td>817</td>\n",
       "      <td>HP</td>\n",
       "      <td>HP ENVY 15 ep1087TX</td>\n",
       "      <td>Intel Core i9 (11th Gen)</td>\n",
       "      <td>Intel</td>\n",
       "      <td>0</td>\n",
       "      <td>32</td>\n",
       "      <td>DDR4 RAM</td>\n",
       "      <td>4.8</td>\n",
       "      <td>LED</td>\n",
       "      <td>OLED Display With Touchscreen</td>\n",
       "      <td>GeForce RTX 3060 GPU, 6 GB</td>\n",
       "      <td>NVIDIA</td>\n",
       "      <td>1024 GB SSD Storage</td>\n",
       "      <td>No HDD</td>\n",
       "      <td>83</td>\n",
       "      <td>Windows 11</td>\n",
       "      <td>56820000</td>\n",
       "    </tr>\n",
       "  </tbody>\n",
       "</table>\n",
       "</div>"
      ],
      "text/plain": [
       "     Unnamed: 0 Brand                 Name            Processor_Name  \\\n",
       "774         817    HP  HP ENVY 15 ep1087TX  Intel Core i9 (11th Gen)   \n",
       "\n",
       "    Processor_Brand  RAM_Expandable  RAM   RAM_TYPE  Ghz Display_type  \\\n",
       "774           Intel               0   32   DDR4 RAM  4.8          LED   \n",
       "\n",
       "                           Display                         GPU GPU_Brand  \\\n",
       "774  OLED Display With Touchscreen  GeForce RTX 3060 GPU, 6 GB    NVIDIA   \n",
       "\n",
       "                     SSD     HDD Adapter          OS  Price_VND  \n",
       "774  1024 GB SSD Storage  No HDD      83  Windows 11   56820000  "
      ]
     },
     "execution_count": 139,
     "metadata": {},
     "output_type": "execute_result"
    }
   ],
   "source": [
    "df[df['Display']=='OLED Display With Touchscreen']"
   ]
  },
  {
   "cell_type": "markdown",
   "metadata": {},
   "source": [
    "Ta có duy nhất 1 mẫu chứa giá trị 'OLED Display With Touchscreen'. Theo trang web https://hpworldkbm.com/product/hp-envy-laptop-15-ep1087tx/ thì máy tính này có kích thước màn hình là 15.6 inch, vì vậy ta sẽ điền bằng giá trị này\n"
   ]
  },
  {
   "cell_type": "code",
   "execution_count": 140,
   "metadata": {},
   "outputs": [],
   "source": [
    "# điền lại giá trị khuyết\n",
    "df['Display'] = df['Display'].str.replace('OLED Display With Touchscreen', '15.6').str.strip()\n",
    "\n",
    "# chuyển lại thành giá trị float\n",
    "df['Display'] = df['Display'].astype(float)"
   ]
  },
  {
   "cell_type": "code",
   "execution_count": 141,
   "metadata": {},
   "outputs": [
    {
     "data": {
      "text/plain": [
       "array(['Integrated Graphics', 'Radeon', 'GeForce RTX 3050 GPU, 4 GB',\n",
       "       'Iris Xe', 'UHD', 'UHD 620', 'GeForce RTX 2050 GPU, 4 GB',\n",
       "       'GeForce RTX 4050 GPU, 6 GB', 'Arc', 'GeForce GTX 1650 GPU, 4 GB',\n",
       "       'UHD 605', 'GeForce RTX 3060 GPU, 6 GB',\n",
       "       'GeForce GTX 1650 Max Q GPU, 4 GB',\n",
       "       'GeForce RTX 3050 Ti GPU, 4 GB', 'Integrated',\n",
       "       'Geforce GTX 1650 GPU, 4 GB', 'Radeon Vega 3', 'UHD Graphics',\n",
       "       'UHD GPU, 128 MB', 'M1', 'HD 6000', 'UHD 600', 'Radeon Vega 6',\n",
       "       'HD 620', 'Geforce MX150 GPU, 2 GB', 'Radeon Vega 8',\n",
       "       'Geforce GTX 1650 Max-Q GPU, 4 GB',\n",
       "       'GeForce GTX 1650 Ti GPU, 4 GB', 'Radeon RX Vega 10', 'HD 520',\n",
       "       'Radeon RX 5500M GPU, 4 GB', 'GeForce GTX 3050 GPU, 4 GB',\n",
       "       'Radeon 610M', 'Radeon RX6500M GPU, 4 GB',\n",
       "       'GeForce GTX 1650 MAX Q GPU, 4 GB', 'GeForce RTX 2050', 'HD 500',\n",
       "       'Radeon Graphics', 'GeForce RTX 3070 Ti GPU, 8 GB',\n",
       "       'GeForce GTX 1050 GPU, 4 GB', 'Geforce RTX 3050 GPU, 4 GB', 'M2',\n",
       "       'Radeon RX 6500M GPU, 4 GB', 'Radeon RX 5600M GPU, 6 GB',\n",
       "       'GeForce MX450 GPU, 2 GB', 'GeForce RTX 4060 GPU, 8 GB', 'Adreno',\n",
       "       'GeForce GTX 1060 GPU, 6 GB', 'GeForce MX330 GPU, 2 GB',\n",
       "       'Radeon R2', 'Iris X', 'Radeon Vega 7', 'Radeon R4',\n",
       "       'Iris Xe Graphics', 'Iris Plus 655',\n",
       "       'GeForce RTX 3050 Ti  GPU, 4 GB', 'GeForce RTX 3050 GPU, 6 GB',\n",
       "       'GeForce MX350 GPU, 2 GB', 'Radeon RX 6800M GPU, 12 GB',\n",
       "       'Iris Plus', 'GeForce MX250 GPU, 2 GB',\n",
       "       'GeForce RTX 3070 GPU, 8 GB', 'GeForce RTX 3050 GPU, 4 ',\n",
       "       'Radeon R5', 'GeForce RTX 3050', 'MX350 GPU, 2 GB',\n",
       "       'GeForce MX550 GPU, 2 GB', 'Integrated Arm Mali',\n",
       "       'Integrated Iris Xe', 'Geforce GTX 1650 Ti GPU, 4 GB',\n",
       "       'Radeon 610M Vega 2', 'UHD Graphics 600',\n",
       "       'GEFORCE RTX 3050 Ti GPU, 4 GB', 'Radeon RX 6700S GPU, 8 GB', 'HD',\n",
       "       'UHD ', 'GeForce RTX 3080 GPU, 16 GB',\n",
       "       'GeForce RTX 3050Ti GPU, 4 GB', 'GeForce MX570 GPU, 2 GB',\n",
       "       'GeForce 940MX GPU, 2 GB', 'Radeon RX 6700S GPU, 8 ',\n",
       "       'GeForce RTX 4080 GPU, 12 GB', 'GeForce GTX 1650Ti GPU, 4 GB',\n",
       "       'Intel Iris Xe', 'GeForce RTX 4070 GPU, 8 GB', 'GeForce MX250',\n",
       "       'GeForce RTX 2070 GPU, 8 GB', 'HD 615', 'GeForce MX550  GPU, 2 GB',\n",
       "       'GeForce N16V-GMR1 GPU, 2 GB', 'Arc A370M GPU, 4 GB', 'UMA',\n",
       "       'Radeon RX6550M GPU, 4 GB', 'GeForce RTX 3080 GPU, 8 GB',\n",
       "       'GeForce RTX 3080 Ti GPU, 16 GB', 'Radeon GPU, 6 GB',\n",
       "       'Radeon 680M GPU, 6 GB', 'GeForce RTX 4090 GPU, 16 GB',\n",
       "       'Radeon 780M', 'GeForce RTX 4060 GPU, 6 GB', 'Radeon 760M',\n",
       "       'GeForce RTX 4060 GPU, 8 ', 'GeForce RTX 4080 GPU, 8 GB',\n",
       "       'RTX A500 GPU, 4 GB', 'Integrated Arc', 'Radeon 680M', 'Graphics',\n",
       "       'T1200 GPU, 4 GB', 'GeForce RTX 2080 GPU, 8 GB',\n",
       "       'GeForce RTX 3070 Ti GPU, 8 ', 'Quadro T2000  GPU, 4 GB',\n",
       "       'Integrated HD', 'GeForce RTX 3070 GPU, 8 ', 'UHD Graphics 620',\n",
       "       'Geoforce RTX3050 GPU, 4 GB', 'Quadro T50 GPU, 4 GB',\n",
       "       'RTX 3050 Ti GPU, 4 GB', 'GeForce P620 GPU, 4 GB',\n",
       "       'Quadro T1200 GPU, 4 GB', 'UHD 617', 'Geforce MX250 GPU, 2 GB',\n",
       "       'GeForce GT 940MX GPU, 4 GB', 'Geforce GTX 1050Ti GPU, 4 GB',\n",
       "       'Geforce MX150 GPU, 4 GB', 'GeForce GTX 1050 Ti  GPU, 4 GB',\n",
       "       'GeForce GTX 1050Ti GPU, 4 GB', 'Geforce GTX 1060 GPU, 6 GB',\n",
       "       'Geforce GTX 1650 Ti GPU, 6 GB', 'Radeon RX Vega 8', 'HD 405',\n",
       "       'Radeon R16M-M1-30 GPU, 2 GB', 'GeForce GTX 1050T GPU, 4 GB',\n",
       "       'Radeon 520 GPU, 2 GB', 'GeForce MX130 GPU, 2 GB', 'HD 400',\n",
       "       'Radeon 530 GPU, 2 GB', 'Geforce GTX 1650Ti GPU, 6 GB',\n",
       "       'R17M-M1-70 GPU, 2 GB', 'Geforce MX130 GPU, 2 GB',\n",
       "       'GeForce MX150 GPU, 2 GB', 'Radeon HD 520 GPU, 2 GB',\n",
       "       'GeForce GTX 1660 Ti GPU, 6 GB', 'GeForce 920MX GPU, 2 GB',\n",
       "       'HD 610', 'Radeon HD 8210 GPU, 2 GB',\n",
       "       'Geforce GTX 1050Ti GPU, 8 GB', 'Radeon RX 560X GPU, 4 GB',\n",
       "       'Integrated UHD', 'HD 505', 'GeForce GTX 1050 GPU, 3 GB',\n",
       "       'Geforce GTX 1050 GPU, 3 GB', 'Radeon R3',\n",
       "       'Geforce GTX 1050 Ti GPU, 4 GB', 'Geforce RTX 2060 GPU, 6 GB',\n",
       "       'M1 Integrated', 'Geforce 940MX GPU, 4 GB',\n",
       "       'Geforce GTX 1660 Ti GPU, 6 GB', 'GeForce GTX 1050 GPU, 2 GB',\n",
       "       'Geforce MX350 GPU, 2 GB', 'GeForce MX110 GPU, 2 GB',\n",
       "       'Radeon Vega', 'HD 5500', 'GeForce GTX 1650 Ti GPU, 6 GB',\n",
       "       'Radeon R5 M430 GPU, 2 GB', 'GeForce GTX 1050 Ti GPU, 4 GB',\n",
       "       'Geforce MX330 GPU, 2 GB', 'GeForce 940MX  GPU, 4 GB',\n",
       "       'Geforce GTX 1050 GPU, 2 GB', 'Geforce RTX 2070 GPU, 8 GB',\n",
       "       'HD Graphics', 'GeForce GPU, 2 GB', 'Radeon R5 M430  GPU, 2 GB',\n",
       "       'Radeon RX 5500M', 'Radeon RX 6500M  GPU, 4 GB',\n",
       "       'RTX 3050 GPU, 4 GB', 'Radeon Vega 8 Mobile',\n",
       "       'GeForce RTX 1650 GPU, 4 GB', 'GeForce MX 450 GPU, 2 GB',\n",
       "       'GeForce MX550', 'Geforce MX230 GPU, 2 GB', 'Radeon Athlon 3000G',\n",
       "       'Radeon RX 6600M GPU, 8 GB', 'Radeon RX6700M',\n",
       "       'GeForce RTX 3070 GPU, 16 GB', 'Arc A530M GPU, 4 GB',\n",
       "       'Quadro T550 GPU, 4 GB', 'UHD GPU, 2 GB', 'Integrated GPU, 512 MB',\n",
       "       'Radeon RX 6650M GPU, 8 GB', 'GeForce RTX 3060 GPU GPU, 6 GB',\n",
       "       'GeForce RTX 3060 GPU, 6 ', 'Quadro T600 GPU, 4 GB',\n",
       "       'GeForce GTX 1070 GPU, 8 GB', 'Radeon RX 7600S GPU, 8 GB',\n",
       "       'GeForce RTX 4080 GPU, 16 GB', 'RTX 3000 Ada GPU, 8 GB',\n",
       "       'RTX A1000 GPU, 6 GB', 'GeForce MX 350 GPU, 2 GB',\n",
       "       'GeForce MX550 GPU, 2 ', 'GeForce RTX A2000 GPU, 8 GB',\n",
       "       'MX450 GPU, 2 GB', 'Mali-G72', 'Geforce MX110 GPU, 2 GB',\n",
       "       'T600 GPU, 4 GB', 'GeForce MX230 GPU, 2 GB',\n",
       "       'Geforce 940MX GPU, 2 GB', 'GeForce GTX 940MX GPU, 4 GB',\n",
       "       'Radeon R7', 'Radeon R4 ', 'GeForce MX150 GPU, 4 GB',\n",
       "       'Geforce GTX 1650 Ti` GPU, 4 GB', 'Radeon R5 M430 GPU, 4 GB',\n",
       "       'Iris Pro', 'GeForce GT 940MX GPU, 2 GB',\n",
       "       'GeForce RTX 2060 GPU, 6 GB', 'Geforce MX 150 GPU, 2 GB',\n",
       "       'Radeon 530 GPU, 4 GB', 'GeForce GTX 1650 Ti Max Q GPU, 4 GB',\n",
       "       'GeForce RTX 3060 GPU, 4 GB', 'GeForce 940MX GPU, 4 GB',\n",
       "       'Radeon R7 M260 GPU, 2 GB',\n",
       "       'Geforce GTX 1650 Ti with Max-Q GPU, 4 GB',\n",
       "       'GeForce GTX 940MX GPU, 2 GB', 'Geforce GTX 1650Ti GPU, 4 GB',\n",
       "       'GeForce GTX 960M GPU, 2 GB', 'GeForce MX150  GPU, 2 GB',\n",
       "       'Geforce GTX 1050 GPU, 4 GB', 'GeForce 920M', 'HD 515',\n",
       "       'Iris Plus Graphics 645', 'Iris Plus 640',\n",
       "       'Radeon Pro 5500M GPU, 4 GB', 'GeForce GTX 1050  GPU, 2 GB',\n",
       "       'GeForce GTX 960M GPU, 4 GB', 'HD 5300', 'UHD 605 ',\n",
       "       'Radeon RX Vega 6', 'Iris Plus Graphics 655', 'HD ',\n",
       "       'Radeon R7 M440 GPU, 2 GB', 'Geforce 940M GPU, 2 GB',\n",
       "       'GeForce 930M GPU, 2 GB', 'GeForce 920M GPU, 2 GB',\n",
       "       'Iris graphics', 'R5', 'Radeon Pro 450 GPU, 2 GB',\n",
       "       'Radeon HD 8670M GPU, 2 GB', 'GeForce 820M GPU, 2 GB', 'HD 4400',\n",
       "       'Radeon HD R7 M265 GPU, 2 GB', 'GeForce 830M GPU, 2 GB',\n",
       "       'Radeon HD 8670M GPU, 1 GB', 'HD 4000', 'GeForce 940M GPU, 4 GB',\n",
       "       'GeForce 930MX GPU, 2 GB', 'GeForce GT 740M GPU, 2 GB',\n",
       "       'GeForce GTX 850M GPU, 4 GB', 'GeForce GT 820M GPU, 1 GB',\n",
       "       'Radeon RX 580 GPU, 4 GB', 'Pro 555X GPU, 4 GB',\n",
       "       'Iris Xe Max GPU, 4 GB', 'GeForce GTX 1050TI GPU, 4 GB',\n",
       "       'GeForce 920MX  GPU, 2 GB', 'GeForce 1650 Ti GPU, 4 GB',\n",
       "       'GeForce 940 MX GPU, 2 GB', 'SQ1 Adreno 685 GPU',\n",
       "       'Geforce GTX 860M GPU, 2 GB', 'Iris Xe GPU, 4 GB',\n",
       "       'GeForce MX130 GPU, 4 GB', 'GeForce RTX 2060 GPU, 8 GB',\n",
       "       'GeForce RTX A1000 GPU, 4 GB', 'Geforce GTX 1070 GPU, 8 GB',\n",
       "       'Geforce RTX 2070 Super GPU, 8 GB', 'Radeon R5 M330 GPU, 2 GB',\n",
       "       'HD Graphics 620', 'Radeon 535 GPU, 2 GB',\n",
       "       'GeForce GTX 1660 GPU, 6 GB', 'Geforce GT 940MX GPU, 2 GB',\n",
       "       'Geforce GTX MX330 GPU, 2 GB',\n",
       "       'Geforce RTX 2080 with Max-Q GPU, 8 GB', 'Radeon RX640 GPU, 2 GB',\n",
       "       'Radeon RX 640 GPU, 2 GB', 'Radeon RX Vega 5',\n",
       "       'Geforce RTX 2080 GPU, 8 GB', 'Radeon RX Vega 7 ',\n",
       "       'EXO PRO R5 M330 GPU, 2 GB', 'GeForce MX230',\n",
       "       'Geforce Gt 940MX GPU, 2 GB', 'Geforce RTX 2080 Super GPU, 8 GB'],\n",
       "      dtype=object)"
      ]
     },
     "execution_count": 141,
     "metadata": {},
     "output_type": "execute_result"
    }
   ],
   "source": [
    "# xem giá trị của cột GPU\n",
    "df['GPU'].unique()"
   ]
  },
  {
   "cell_type": "markdown",
   "metadata": {},
   "source": [
    "Ta sẽ có thêm 1 cột mới được tách ra từ cột GPU là VRAM. VRAM sẽ chứa các giá trị RAM ảo mà GPU đó hỗ trợ. loại GPU tích hợp sẽ không có VRAM, sẽ được gán giá trị là 0.\n"
   ]
  },
  {
   "cell_type": "code",
   "execution_count": 142,
   "metadata": {},
   "outputs": [
    {
     "data": {
      "text/plain": [
       "0       0 GB\n",
       "1       0 GB\n",
       "2       4 GB\n",
       "3       0 GB\n",
       "4       0 GB\n",
       "        ... \n",
       "3971    2 GB\n",
       "3972    0 GB\n",
       "3973    4 GB\n",
       "3974    4 GB\n",
       "3975    4 GB\n",
       "Name: VRAM, Length: 3916, dtype: object"
      ]
     },
     "execution_count": 142,
     "metadata": {},
     "output_type": "execute_result"
    }
   ],
   "source": [
    "# Tách thông tin VRAM (GB) bằng regex\n",
    "df['VRAM'] = df['GPU'].str.extract(r'(\\d+\\s?GB)')\n",
    "\n",
    "# Chuẩn hóa giá trị VRAM để loại bỏ khoảng trắng\n",
    "df['VRAM'] = df['VRAM'].str.strip()\n",
    "\n",
    "# thay giá trị nan là 0 GB\n",
    "df['VRAM'] = df['VRAM'].fillna('0 GB')\n",
    "df['VRAM']"
   ]
  },
  {
   "cell_type": "code",
   "execution_count": 143,
   "metadata": {},
   "outputs": [
    {
     "data": {
      "text/plain": [
       "array(['0 GB', '4 GB', '6 GB', '2 GB', '8 GB', '12 GB', '16 GB', '3 GB',\n",
       "       '1 GB'], dtype=object)"
      ]
     },
     "execution_count": 143,
     "metadata": {},
     "output_type": "execute_result"
    }
   ],
   "source": [
    "df['VRAM'].unique()"
   ]
  },
  {
   "cell_type": "code",
   "execution_count": 144,
   "metadata": {},
   "outputs": [],
   "source": [
    "# Loại bỏ chuỗi 'GB'\n",
    "df['VRAM'] = df['VRAM'].str.replace(r'GB', '', regex=True).str.strip()\n",
    "\n",
    "# Chuyển sang dạng số\n",
    "df['VRAM'] = df['VRAM'].astype(int)"
   ]
  },
  {
   "cell_type": "code",
   "execution_count": 145,
   "metadata": {},
   "outputs": [],
   "source": [
    "# Tách tên GPU\n",
    "import re\n",
    "\n",
    "# Điền giá trị mặc định nếu cột có NaN\n",
    "df['GPU'] = df['GPU'].fillna('Unknown')\n",
    "\n",
    "# Tách và thay đổi trực tiếp trên cột GPU\n",
    "df['GPU'] = df['GPU'].str.extract(r'^(.*?\\bGPU\\b)', flags=re.IGNORECASE).fillna(df['GPU'])\n"
   ]
  },
  {
   "cell_type": "code",
   "execution_count": 146,
   "metadata": {},
   "outputs": [],
   "source": [
    "# Xử lý định dạng tên GPU\n",
    "# df['GPU'] = df['GPU'].str.replace('Integrated GPU', 'Integrated Graphics')\n",
    "# df['GPU'] = df['GPU'].str.replace(r'GPU', '', regex=True).str.strip()\n",
    "# df['GPU'] = df['GPU'].str.replace('Geforce GTX 1050Ti', 'GeForce GTX 1050Ti').str.replace('GeForce GTX 1050Ti', 'GeForce GTX 1050 Ti')\n",
    "# df['GPU'] = df['GPU'].str.replace('geforce gtx 1650 max q', 'geforce gtx 1650 max-q')\n",
    "# df['GPU'] = df['GPU'].str.replace('geforce gtx 1650ti', 'geforce gtx 1650 ti')\n",
    "# df['GPU'] = df['GPU'].str.replace('radeon rx6500m', 'radeon rx 6500m')\n",
    "# df['GPU'] = df['GPU'].str.replace('geforce rtx 3050ti', 'geforce rtx 3050 ti')\n",
    "# df['GPU'] = df['GPU'].str.replace('geoforce rtx3050', 'geforce rtx 3050')\n",
    "# df['GPU'] = df['GPU'].str.replace(' geforce mx350', 'mx350')\n",
    "# df['GPU'] = df['GPU'].str.replace('geforce geforce geforce geforce geforce geforce geforce geforce rtx a500', 'rtx a500')\n",
    "\n",
    "\n"
   ]
  },
  {
   "cell_type": "code",
   "execution_count": 147,
   "metadata": {},
   "outputs": [
    {
     "data": {
      "text/plain": [
       "array(['Integrated Graphics', 'GeForce RTX 3050 GPU',\n",
       "       'GeForce RTX 2050 GPU', 'GeForce RTX 4050 GPU',\n",
       "       'GeForce GTX 1650 GPU', 'GeForce RTX 3060 GPU',\n",
       "       'GeForce GTX 1650 Max Q GPU', 'GeForce RTX 3050 Ti GPU',\n",
       "       'Geforce GTX 1650 GPU', 'UHD GPU', 'Geforce MX150 GPU',\n",
       "       'Geforce GTX 1650 Max-Q GPU', 'GeForce GTX 1650 Ti GPU',\n",
       "       'Radeon RX 5500M GPU', 'GeForce GTX 3050 GPU',\n",
       "       'Radeon RX6500M GPU', 'GeForce GTX 1650 MAX Q GPU',\n",
       "       'GeForce RTX 3070 Ti GPU', 'GeForce GTX 1050 GPU',\n",
       "       'Geforce RTX 3050 GPU', 'Radeon RX 6500M GPU',\n",
       "       'Radeon RX 5600M GPU', 'GeForce MX450 GPU', 'GeForce RTX 4060 GPU',\n",
       "       'GeForce GTX 1060 GPU', 'GeForce MX330 GPU',\n",
       "       'GeForce RTX 3050 Ti  GPU', 'GeForce MX350 GPU',\n",
       "       'Radeon RX 6800M GPU', 'GeForce MX250 GPU', 'GeForce RTX 3070 GPU',\n",
       "       'MX350 GPU', 'GeForce MX550 GPU', 'Geforce GTX 1650 Ti GPU',\n",
       "       'GEFORCE RTX 3050 Ti GPU', 'Radeon RX 6700S GPU',\n",
       "       'GeForce RTX 3080 GPU', 'GeForce RTX 3050Ti GPU',\n",
       "       'GeForce MX570 GPU', 'GeForce 940MX GPU', 'GeForce RTX 4080 GPU',\n",
       "       'GeForce GTX 1650Ti GPU', 'GeForce RTX 4070 GPU',\n",
       "       'GeForce RTX 2070 GPU', 'GeForce MX550  GPU',\n",
       "       'GeForce N16V-GMR1 GPU', 'Arc A370M GPU', 'Radeon RX6550M GPU',\n",
       "       'GeForce RTX 3080 Ti GPU', 'Radeon GPU', 'Radeon 680M GPU',\n",
       "       'GeForce RTX 4090 GPU', 'RTX A500 GPU', 'T1200 GPU',\n",
       "       'GeForce RTX 2080 GPU', 'Quadro T2000  GPU',\n",
       "       'Geoforce RTX3050 GPU', 'Quadro T50 GPU', 'RTX 3050 Ti GPU',\n",
       "       'GeForce P620 GPU', 'Quadro T1200 GPU', 'Geforce MX250 GPU',\n",
       "       'GeForce GT 940MX GPU', 'Geforce GTX 1050Ti GPU',\n",
       "       'GeForce GTX 1050 Ti  GPU', 'GeForce GTX 1050Ti GPU',\n",
       "       'Geforce GTX 1060 GPU', 'Radeon R16M-M1-30 GPU',\n",
       "       'GeForce GTX 1050T GPU', 'Radeon 520 GPU', 'GeForce MX130 GPU',\n",
       "       'Radeon 530 GPU', 'Geforce GTX 1650Ti GPU', 'R17M-M1-70 GPU',\n",
       "       'Geforce MX130 GPU', 'GeForce MX150 GPU', 'Radeon HD 520 GPU',\n",
       "       'GeForce GTX 1660 Ti GPU', 'GeForce 920MX GPU',\n",
       "       'Radeon HD 8210 GPU', 'Radeon RX 560X GPU', 'Geforce GTX 1050 GPU',\n",
       "       'Geforce GTX 1050 Ti GPU', 'Geforce RTX 2060 GPU',\n",
       "       'Geforce 940MX GPU', 'Geforce GTX 1660 Ti GPU',\n",
       "       'Geforce MX350 GPU', 'GeForce MX110 GPU', 'Radeon R5 M430 GPU',\n",
       "       'GeForce GTX 1050 Ti GPU', 'Geforce MX330 GPU',\n",
       "       'GeForce 940MX  GPU', 'Geforce RTX 2070 GPU', 'GeForce GPU',\n",
       "       'Radeon R5 M430  GPU', 'Radeon RX 6500M  GPU', 'RTX 3050 GPU',\n",
       "       'GeForce RTX 1650 GPU', 'GeForce MX 450 GPU', 'Geforce MX230 GPU',\n",
       "       'Radeon RX 6600M GPU', 'Arc A530M GPU', 'Quadro T550 GPU',\n",
       "       'Integrated GPU', 'Radeon RX 6650M GPU', 'Quadro T600 GPU',\n",
       "       'GeForce GTX 1070 GPU', 'Radeon RX 7600S GPU', 'RTX 3000 Ada GPU',\n",
       "       'RTX A1000 GPU', 'GeForce MX 350 GPU', 'GeForce RTX A2000 GPU',\n",
       "       'MX450 GPU', 'Geforce MX110 GPU', 'T600 GPU', 'GeForce MX230 GPU',\n",
       "       'GeForce GTX 940MX GPU', 'Geforce GTX 1650 Ti` GPU',\n",
       "       'GeForce RTX 2060 GPU', 'Geforce MX 150 GPU',\n",
       "       'GeForce GTX 1650 Ti Max Q GPU', 'Radeon R7 M260 GPU',\n",
       "       'Geforce GTX 1650 Ti with Max-Q GPU', 'GeForce GTX 960M GPU',\n",
       "       'GeForce MX150  GPU', 'Radeon Pro 5500M GPU',\n",
       "       'GeForce GTX 1050  GPU', 'Radeon R7 M440 GPU', 'Geforce 940M GPU',\n",
       "       'GeForce 930M GPU', 'GeForce 920M GPU', 'Radeon Pro 450 GPU',\n",
       "       'Radeon HD 8670M GPU', 'GeForce 820M GPU', 'Radeon HD R7 M265 GPU',\n",
       "       'GeForce 830M GPU', 'GeForce 940M GPU', 'GeForce 930MX GPU',\n",
       "       'GeForce GT 740M GPU', 'GeForce GTX 850M GPU',\n",
       "       'GeForce GT 820M GPU', 'Radeon RX 580 GPU', 'Pro 555X GPU',\n",
       "       'Iris Xe Max GPU', 'GeForce GTX 1050TI GPU', 'GeForce 920MX  GPU',\n",
       "       'GeForce 1650 Ti GPU', 'GeForce 940 MX GPU', 'SQ1 Adreno 685 GPU',\n",
       "       'Geforce GTX 860M GPU', 'Iris Xe GPU', 'GeForce RTX A1000 GPU',\n",
       "       'Geforce GTX 1070 GPU', 'Geforce RTX 2070 Super GPU',\n",
       "       'Radeon R5 M330 GPU', 'Radeon 535 GPU', 'GeForce GTX 1660 GPU',\n",
       "       'Geforce GT 940MX GPU', 'Geforce GTX MX330 GPU',\n",
       "       'Geforce RTX 2080 with Max-Q GPU', 'Radeon RX640 GPU',\n",
       "       'Radeon RX 640 GPU', 'Geforce RTX 2080 GPU', 'EXO PRO R5 M330 GPU',\n",
       "       'Geforce Gt 940MX GPU', 'Geforce RTX 2080 Super GPU'], dtype=object)"
      ]
     },
     "execution_count": 147,
     "metadata": {},
     "output_type": "execute_result"
    }
   ],
   "source": [
    "df['GPU'].unique()"
   ]
  },
  {
   "cell_type": "markdown",
   "metadata": {},
   "source": [
    "Vì giá trị của cột này có quà nhiều giá trị khác biệt, đồng thời cũng chứa rất nhiều chuỗi bị sai định dạng, nên nhóm sẽ xuất ra file txt để tiến hành chỉnh sửa thủ công.\n"
   ]
  },
  {
   "cell_type": "code",
   "execution_count": 148,
   "metadata": {},
   "outputs": [],
   "source": [
    "# xuất file txt\n",
    "# gpu = df['GPU'].to_csv(\"gpu.txt\", index=False, header=False)"
   ]
  },
  {
   "cell_type": "code",
   "execution_count": 149,
   "metadata": {},
   "outputs": [],
   "source": [
    "# đọc lại file gpu đã xử lý \n",
    "gpu_data = pd.read_csv(\"gpu.txt\", header=None, names=['GPU'])\n",
    "# reset index để tránh bị lệch\n",
    "df = df.reset_index(drop=True)\n",
    "df['GPU'] = gpu_data['GPU']"
   ]
  },
  {
   "cell_type": "code",
   "execution_count": 150,
   "metadata": {},
   "outputs": [],
   "source": [
    "# Loại bỏ chuỗi 'GPU'\n",
    "df['GPU'] = df['GPU'].str.replace(r'GPU', '', regex=True).str.strip()"
   ]
  },
  {
   "cell_type": "code",
   "execution_count": 151,
   "metadata": {},
   "outputs": [
    {
     "data": {
      "text/plain": [
       "Unnamed: 0         0\n",
       "Brand              0\n",
       "Name               0\n",
       "Processor_Name     0\n",
       "Processor_Brand    0\n",
       "RAM_Expandable     0\n",
       "RAM                0\n",
       "RAM_TYPE           0\n",
       "Ghz                0\n",
       "Display_type       0\n",
       "Display            0\n",
       "GPU                0\n",
       "GPU_Brand          0\n",
       "SSD                0\n",
       "HDD                0\n",
       "Adapter            0\n",
       "OS                 0\n",
       "Price_VND          0\n",
       "VRAM               0\n",
       "dtype: int64"
      ]
     },
     "execution_count": 151,
     "metadata": {},
     "output_type": "execute_result"
    }
   ],
   "source": [
    "df.isna().sum()"
   ]
  },
  {
   "cell_type": "code",
   "execution_count": 152,
   "metadata": {},
   "outputs": [
    {
     "data": {
      "text/plain": [
       "array(['Integrated Graphics', 'GeForce RTX 3050', 'GeForce RTX 2050',\n",
       "       'GeForce RTX 4050', 'GeForce GTX 1650', 'GeForce RTX 3060',\n",
       "       'GeForce GTX 1650 Max Q', 'GeForce RTX 3050 Ti', 'UHD',\n",
       "       'GeForce MX150', 'GeForce GTX 1650 Ti', 'Radeon RX 5500M',\n",
       "       'GeForce GTX 3050', 'Radeon RX6500M', 'GeForce GTX 1650 MAX Q',\n",
       "       'GeForce RTX 3070 Ti', 'GeForce GTX 1050', 'Radeon RX 6500M',\n",
       "       'Radeon RX 5600M', 'GeForce MX450', 'GeForce RTX 4060',\n",
       "       'GeForce GTX 1060', 'GeForce MX330', 'GeForce MX350',\n",
       "       'Radeon RX 6800M', 'GeForce MX250', 'GeForce RTX 3070',\n",
       "       'GeForce MX550', 'Radeon RX 6700S', 'GeForce RTX 3080',\n",
       "       'GeForce MX570', 'GeForce 940MX', 'GeForce RTX 4080',\n",
       "       'GeForce RTX 4070', 'GeForce RTX 2070', 'GeForce N16V-GMR1',\n",
       "       'Arc A370M', 'Radeon RX6550M', 'GeForce RTX 3080 Ti', 'Radeon',\n",
       "       'Radeon 680M', 'GeForce RTX 4090', 'RTX A500', 'Quadro T1200',\n",
       "       'GeForce RTX 2080', 'Quadro T2000', 'Quadro T50', 'GeForce P620',\n",
       "       'GeForce GTX 1050 Ti', 'Radeon R16M-M1-30', 'Radeon HD 520',\n",
       "       'GeForce MX130', 'Radeon HD 530', 'Radeon R17M-M1-70',\n",
       "       'GeForce GTX 1660 Ti', 'GeForce 920MX', 'Radeon HD 8210',\n",
       "       'Radeon 520', 'Radeon RX 560X', 'GeForce RTX 2060',\n",
       "       'GeForce MX110', 'Radeon R5 M430', 'GeForce GTX 1050Ti', 'GeForce',\n",
       "       'GeForce RTX 1650', 'GeForce MX230', 'Radeon RX 6600M',\n",
       "       'Arc A530M', 'Quadro T550', 'Radeon RX 6650M', 'Quadro T600',\n",
       "       'GeForce GTX 1070', 'Radeon RX 7600S', 'RTX 3000 Ada', 'RTX A1000',\n",
       "       'GeForce GTX 1650Ti', 'GeForce MX 350', 'GeForce RTX A2000',\n",
       "       'GeForce GTX 940MX', 'GeForce GT 940MX', 'Radeon 530',\n",
       "       'GeForce MX 150', 'GeForce GTX 1650 Ti Max Q', 'Radeon R7 M260',\n",
       "       'GeForce GTX 960M', 'Radeon Pro 5500M', 'Radeon R7 M440',\n",
       "       'GeForce 940M', 'GeForce 930M', 'GeForce 920M', 'Radeon Pro 450',\n",
       "       'Radeon HD 8670M', 'GeForce 820M', 'Radeon HD R7 M265',\n",
       "       'GeForce 830M', 'GeForce 930MX', 'GeForce GT 740M',\n",
       "       'GeForce GTX 850M', 'GeForce GT 820M', 'Radeon RX 580', 'Pro 555X',\n",
       "       'Iris Xe Max', 'GeForce 940 MX', 'SQ1 Adreno 685',\n",
       "       'GeForce GTX 860M', 'Iris Xe', 'GeForce RTX A1000',\n",
       "       'GeForce RTX 2070 Super', 'Radeon R5 M330', 'Radeon 535',\n",
       "       'GeForce GTX 1660', 'GeForce GTX MX330', 'GeForce RTX 2080 Max Q',\n",
       "       'Radeon RX640', 'Radeon RX 640', 'EXO PRO R5 M330',\n",
       "       'GeForce RTX 2080 Super'], dtype=object)"
      ]
     },
     "execution_count": 152,
     "metadata": {},
     "output_type": "execute_result"
    }
   ],
   "source": [
    "df['GPU'].unique()"
   ]
  },
  {
   "cell_type": "code",
   "execution_count": 153,
   "metadata": {},
   "outputs": [
    {
     "data": {
      "text/plain": [
       "array(['MediaTek', 'AMD', 'NVIDIA', 'Intel', 'Apple', 'Qualcomm',\n",
       "       'NIVIDIA', 'Nvidia', 'ARM', 'Microsoft', 'ATI'], dtype=object)"
      ]
     },
     "execution_count": 153,
     "metadata": {},
     "output_type": "execute_result"
    }
   ],
   "source": [
    "# Xem dữ liệu cốt GPU_Brand\n",
    "df['GPU_Brand'].unique()"
   ]
  },
  {
   "cell_type": "code",
   "execution_count": 154,
   "metadata": {},
   "outputs": [],
   "source": [
    "df['GPU_Brand'] = df['GPU_Brand'].replace(['Nvidia', 'NIVIDIA'], 'NVIDIA')"
   ]
  },
  {
   "cell_type": "code",
   "execution_count": 155,
   "metadata": {},
   "outputs": [
    {
     "data": {
      "text/plain": [
       "SSD\n",
       "512 GB SSD Storage     1907\n",
       "NO SSD                  652\n",
       "1024 GB SSD Storage     576\n",
       "256 GB SSD Storage      349\n",
       "256 GB SSD Storage      205\n",
       "128 GB SSD Storage       57\n",
       "128 GB SSD Storage       47\n",
       "2048 GB SSD Storage      34\n",
       "32 GB SSD Storage        25\n",
       "64 GB SSD Storage        23\n",
       "512 GB SSD Storage       16\n",
       "16 GB SSD Storage        12\n",
       "8 GB SSD Storage          4\n",
       "512  SSD Storage          2\n",
       "16 GB SSD Storage         2\n",
       "256  SSD Storage          2\n",
       "1 GB SSD Storage          1\n",
       "4098 GB SSD Storage       1\n",
       "32 GB SSD Storage         1\n",
       "Name: count, dtype: int64"
      ]
     },
     "execution_count": 155,
     "metadata": {},
     "output_type": "execute_result"
    }
   ],
   "source": [
    "# xem giá trị của SSD\n",
    "df['SSD'].value_counts()"
   ]
  },
  {
   "cell_type": "code",
   "execution_count": 156,
   "metadata": {},
   "outputs": [
    {
     "data": {
      "text/plain": [
       "SSD\n",
       "512     1925\n",
       "0        652\n",
       "1024     576\n",
       "256      556\n",
       "128      104\n",
       "2048      34\n",
       "32        26\n",
       "64        23\n",
       "16        14\n",
       "8          4\n",
       "1          1\n",
       "4098       1\n",
       "Name: count, dtype: int64"
      ]
     },
     "execution_count": 156,
     "metadata": {},
     "output_type": "execute_result"
    }
   ],
   "source": [
    "# Loại bỏ chuỗi 'GB SSD Storage'\n",
    "df['SSD'] = df['SSD'].str.replace(r'GB SSD Storage', '', regex=True).str.strip()\n",
    "\n",
    "# Loại bỏ chuỗi 'SSD Storage còn lại'\n",
    "df['SSD'] = df['SSD'].str.replace(r' SSD Storage', '', regex=True).str.strip()\n",
    "\n",
    "# Chuyển 'NO SSD' thành 0\n",
    "df['SSD'] = df['SSD'].replace('NO SSD', '0').str.strip()\n",
    "\n",
    "# chuyển về kiểu int\n",
    "df['SSD'] = df['SSD'].astype(int)\n",
    "\n",
    "df['SSD'].value_counts()"
   ]
  },
  {
   "cell_type": "code",
   "execution_count": 157,
   "metadata": {},
   "outputs": [
    {
     "data": {
      "text/plain": [
       "array(['ASUS ROG Flow X13 GV301QH-K5460TS', 'HP Pavilion x360 14-ba073TX',\n",
       "       'Lenovo Ideapad 330-15ICH',\n",
       "       'HP Pavilion TouchSmart 14 X360 14-cd0051TU',\n",
       "       'Acer Nitro 5 AN515-52-76VR', 'Acer Aspire Switch One SW110-1CT',\n",
       "       'Samsung Chromebook XE500C13-K04US',\n",
       "       'Micromax Canvas Lapbook   L1161 Netbook',\n",
       "       'Micromax Canvas Lapbook L1160', 'Acer Chromebook CB3-431-C5FM',\n",
       "       'iball Excelance CompBook', 'iball CompBook M500',\n",
       "       'Acer Nitro 5 AN515-52-593F', 'Samsung Chromebook XE500C13-K05US',\n",
       "       'ASUS Vivobook L402WA-EH21', 'iball CompBook Merit G9',\n",
       "       'ASUS Chromebook C223NA-GJ0074', 'Lava Helium 14',\n",
       "       'Acer Swift 3 SF315-52G-52XD', 'Acer Swift 3 SF315-52G',\n",
       "       'ASUS Vivobook E402NA-GA022T',\n",
       "       'HP Pavilion TouchSmart 14 x360 14-cd0053TX',\n",
       "       'ASUS EeeBook E203MA-FD014T', 'Micromax Canvas Laptab II LT777W',\n",
       "       'iball Compbook Excelance-OHD', 'ASUS Chromebook C423NA-DH02',\n",
       "       'ASUS VivoBook E12 E203NA-FD087T', 'iball CompBook Marvel 6 V3.0',\n",
       "       'iball CompBook Premio v3.0', 'Dell 15 G3-3579',\n",
       "       'HP Chromebook 14a-na0061dx', 'iball Compbook Marvel 6',\n",
       "       'Acer Nitro 5 AN515-52-54GU', 'ASUS VivoBook 15 X510UF-EJ610T',\n",
       "       'iball Slide WQ191C', 'iball CompBook i360',\n",
       "       'RDP ThinBook 1130 Netbook', 'Lenovo Ideapad Yoga 300',\n",
       "       'Lenovo Ideapad Yoga 500', 'ASUS Transformer book T100TA-DK066H',\n",
       "       'iball Exemplaire Plus CompBook',\n",
       "       'ASUS VivoBook 15 X510UA-EJ1223T', 'Acer Aspire 5 A515-52G-5628',\n",
       "       'iball Slide PenBook'], dtype=object)"
      ]
     },
     "execution_count": 157,
     "metadata": {},
     "output_type": "execute_result"
    }
   ],
   "source": [
    "# Lọc ra các cột có SSD < 128 \n",
    "df_filtered = df[(df['SSD'] < 64) & (df['SSD'] > 0)]\n",
    "df_filtered['Name'].unique()"
   ]
  },
  {
   "cell_type": "markdown",
   "metadata": {},
   "source": [
    "Ta thấy rằng ở cột SSD có một số giá trị khá nhỏ như là 1. Đó là điều bất hợp lý vì laptop không thể chỉ có 1GB lưu trữ. Khi xem xét tên các dòng máy có dung lượng lưu trữ thấp dưới 64 GB thì ta nhận thấy rằng chủ yếu là các dòng tablet lai laptop. nên bộ nhớ thấp là điều chấp nhận được. Vì vậy, ta sẽ điền lại các giá trị nhỏ bằng dung lượng lưu trữ tối thiểu nhất là 64 GB.\n"
   ]
  },
  {
   "cell_type": "code",
   "execution_count": 158,
   "metadata": {},
   "outputs": [
    {
     "data": {
      "text/plain": [
       "SSD\n",
       "512     1925\n",
       "64       720\n",
       "1024     576\n",
       "256      556\n",
       "128      104\n",
       "2048      34\n",
       "4098       1\n",
       "Name: count, dtype: int64"
      ]
     },
     "execution_count": 158,
     "metadata": {},
     "output_type": "execute_result"
    }
   ],
   "source": [
    "df['SSD'] = df['SSD'].apply(lambda x: x if x >=64 else 64)\n",
    "df['SSD'].value_counts()"
   ]
  },
  {
   "cell_type": "code",
   "execution_count": 159,
   "metadata": {},
   "outputs": [
    {
     "data": {
      "text/plain": [
       "HDD\n",
       "No HDD                  2967\n",
       "1024 GB HDD Storage      593\n",
       " 1024 GB HDD Storage     293\n",
       "500 GB HDD Storage        40\n",
       "2048 GB HDD Storage       18\n",
       " 500 GB HDD Storage        3\n",
       " 2048 GB HDD Storage       1\n",
       "1 GB HDD Storage           1\n",
       "Name: count, dtype: int64"
      ]
     },
     "execution_count": 159,
     "metadata": {},
     "output_type": "execute_result"
    }
   ],
   "source": [
    "# xem giá trị của biến hdd\n",
    "df['HDD'].value_counts()"
   ]
  },
  {
   "cell_type": "code",
   "execution_count": 160,
   "metadata": {},
   "outputs": [
    {
     "data": {
      "text/plain": [
       "HDD\n",
       "0       2967\n",
       "1024     886\n",
       "500       43\n",
       "2048      19\n",
       "1          1\n",
       "Name: count, dtype: int64"
      ]
     },
     "execution_count": 160,
     "metadata": {},
     "output_type": "execute_result"
    }
   ],
   "source": [
    "# xử lý giá trị của biến HDD\n",
    "# loại bỏ chuỗi GB HDD Storage\n",
    "df['HDD'] = df['HDD'].str.replace(r'GB HDD Storage', '', regex=True).str.strip()\n",
    "\n",
    "# chuyển NO HDD thành 0\n",
    "df['HDD'] = df['HDD'].str.replace('No HDD', '0').str.strip()\n",
    "\n",
    "# chuyển giá trị thành số\n",
    "df['HDD'] = df['HDD'].astype(int)\n",
    "df['HDD'].value_counts()"
   ]
  },
  {
   "cell_type": "code",
   "execution_count": 161,
   "metadata": {},
   "outputs": [
    {
     "data": {
      "text/html": [
       "<div>\n",
       "<style scoped>\n",
       "    .dataframe tbody tr th:only-of-type {\n",
       "        vertical-align: middle;\n",
       "    }\n",
       "\n",
       "    .dataframe tbody tr th {\n",
       "        vertical-align: top;\n",
       "    }\n",
       "\n",
       "    .dataframe thead th {\n",
       "        text-align: right;\n",
       "    }\n",
       "</style>\n",
       "<table border=\"1\" class=\"dataframe\">\n",
       "  <thead>\n",
       "    <tr style=\"text-align: right;\">\n",
       "      <th></th>\n",
       "      <th>Unnamed: 0</th>\n",
       "      <th>Brand</th>\n",
       "      <th>Name</th>\n",
       "      <th>Processor_Name</th>\n",
       "      <th>Processor_Brand</th>\n",
       "      <th>RAM_Expandable</th>\n",
       "      <th>RAM</th>\n",
       "      <th>RAM_TYPE</th>\n",
       "      <th>Ghz</th>\n",
       "      <th>Display_type</th>\n",
       "      <th>Display</th>\n",
       "      <th>GPU</th>\n",
       "      <th>GPU_Brand</th>\n",
       "      <th>SSD</th>\n",
       "      <th>HDD</th>\n",
       "      <th>Adapter</th>\n",
       "      <th>OS</th>\n",
       "      <th>Price_VND</th>\n",
       "      <th>VRAM</th>\n",
       "    </tr>\n",
       "  </thead>\n",
       "  <tbody>\n",
       "    <tr>\n",
       "      <th>3599</th>\n",
       "      <td>4076</td>\n",
       "      <td>Lenovo</td>\n",
       "      <td>Lenovo ThinkBook 14</td>\n",
       "      <td>Intel Core i3 (10th Gen)</td>\n",
       "      <td>Intel</td>\n",
       "      <td>0</td>\n",
       "      <td>4</td>\n",
       "      <td>DDR4 RAM</td>\n",
       "      <td>2.1</td>\n",
       "      <td>LED</td>\n",
       "      <td>14.0</td>\n",
       "      <td>Integrated Graphics</td>\n",
       "      <td>Intel</td>\n",
       "      <td>64</td>\n",
       "      <td>1</td>\n",
       "      <td>65</td>\n",
       "      <td>DOS</td>\n",
       "      <td>11699700</td>\n",
       "      <td>0</td>\n",
       "    </tr>\n",
       "  </tbody>\n",
       "</table>\n",
       "</div>"
      ],
      "text/plain": [
       "      Unnamed: 0   Brand                 Name            Processor_Name  \\\n",
       "3599        4076  Lenovo  Lenovo ThinkBook 14  Intel Core i3 (10th Gen)   \n",
       "\n",
       "     Processor_Brand  RAM_Expandable  RAM   RAM_TYPE  Ghz Display_type  \\\n",
       "3599           Intel               0    4   DDR4 RAM  2.1          LED   \n",
       "\n",
       "      Display                  GPU GPU_Brand  SSD  HDD Adapter   OS  \\\n",
       "3599     14.0  Integrated Graphics     Intel   64    1      65  DOS   \n",
       "\n",
       "      Price_VND  VRAM  \n",
       "3599   11699700     0  "
      ]
     },
     "execution_count": 161,
     "metadata": {},
     "output_type": "execute_result"
    }
   ],
   "source": [
    "# xem dữ liệu có HDD là 1\n",
    "df[df['HDD'] == 1]"
   ]
  },
  {
   "cell_type": "markdown",
   "metadata": {},
   "source": [
    "Ta thấy rằng dòng máy này đã có SSD là 64, vì vậy ta sẽ chuyển 1 HDD thành 0\n"
   ]
  },
  {
   "cell_type": "code",
   "execution_count": 162,
   "metadata": {},
   "outputs": [
    {
     "data": {
      "text/plain": [
       "HDD\n",
       "0       2968\n",
       "1024     886\n",
       "500       43\n",
       "2048      19\n",
       "Name: count, dtype: int64"
      ]
     },
     "execution_count": 162,
     "metadata": {},
     "output_type": "execute_result"
    }
   ],
   "source": [
    "df['HDD'] = df['HDD'].replace(1,0)\n",
    "df['HDD'].value_counts()"
   ]
  },
  {
   "cell_type": "code",
   "execution_count": 163,
   "metadata": {},
   "outputs": [
    {
     "data": {
      "text/plain": [
       "array(['45', '65', '56', 'no', '150', '170', '230', '135', '41', '100',\n",
       "       '90', '120', '96', '180', '63', '30', '54', '33', '46', '57', '43',\n",
       "       '48', '70', '37', '24', '67', '42', '330', '200', '58', '240',\n",
       "       '50', '280', '60', '80', '35', '51', '61', '38', '86', '66', '210',\n",
       "       '39', '97', '83', '59', '53', '71', '75', '74', '49', '300', '140',\n",
       "       '76', '68', '52', '40', '36', '32', '15', '26', '47', '64', '130',\n",
       "       '87', '72', '95', '69'], dtype=object)"
      ]
     },
     "execution_count": 163,
     "metadata": {},
     "output_type": "execute_result"
    }
   ],
   "source": [
    "# Xem giá trị của cột Adapter\n",
    "df['Adapter'].unique()"
   ]
  },
  {
   "cell_type": "code",
   "execution_count": 164,
   "metadata": {},
   "outputs": [
    {
     "data": {
      "text/html": [
       "<div>\n",
       "<style scoped>\n",
       "    .dataframe tbody tr th:only-of-type {\n",
       "        vertical-align: middle;\n",
       "    }\n",
       "\n",
       "    .dataframe tbody tr th {\n",
       "        vertical-align: top;\n",
       "    }\n",
       "\n",
       "    .dataframe thead th {\n",
       "        text-align: right;\n",
       "    }\n",
       "</style>\n",
       "<table border=\"1\" class=\"dataframe\">\n",
       "  <thead>\n",
       "    <tr style=\"text-align: right;\">\n",
       "      <th></th>\n",
       "      <th>Unnamed: 0</th>\n",
       "      <th>Brand</th>\n",
       "      <th>Name</th>\n",
       "      <th>Processor_Name</th>\n",
       "      <th>Processor_Brand</th>\n",
       "      <th>RAM_Expandable</th>\n",
       "      <th>RAM</th>\n",
       "      <th>RAM_TYPE</th>\n",
       "      <th>Ghz</th>\n",
       "      <th>Display_type</th>\n",
       "      <th>Display</th>\n",
       "      <th>GPU</th>\n",
       "      <th>GPU_Brand</th>\n",
       "      <th>SSD</th>\n",
       "      <th>HDD</th>\n",
       "      <th>Adapter</th>\n",
       "      <th>OS</th>\n",
       "      <th>Price_VND</th>\n",
       "      <th>VRAM</th>\n",
       "    </tr>\n",
       "  </thead>\n",
       "  <tbody>\n",
       "    <tr>\n",
       "      <th>3</th>\n",
       "      <td>4</td>\n",
       "      <td>HP</td>\n",
       "      <td>HP 15s-fy5007TU</td>\n",
       "      <td>Intel Core i5 (12th Gen)</td>\n",
       "      <td>Intel</td>\n",
       "      <td>8</td>\n",
       "      <td>8</td>\n",
       "      <td>DDR4 RAM</td>\n",
       "      <td>4.2</td>\n",
       "      <td>LCD</td>\n",
       "      <td>15.6</td>\n",
       "      <td>Integrated Graphics</td>\n",
       "      <td>Intel</td>\n",
       "      <td>512</td>\n",
       "      <td>0</td>\n",
       "      <td>no</td>\n",
       "      <td>Windows 11</td>\n",
       "      <td>16647000</td>\n",
       "      <td>0</td>\n",
       "    </tr>\n",
       "    <tr>\n",
       "      <th>15</th>\n",
       "      <td>18</td>\n",
       "      <td>Dell</td>\n",
       "      <td>Dell Vostro 3420</td>\n",
       "      <td>Intel Core i5 (12th Gen)</td>\n",
       "      <td>Intel</td>\n",
       "      <td>16</td>\n",
       "      <td>8</td>\n",
       "      <td>DDR4 RAM</td>\n",
       "      <td>3.3</td>\n",
       "      <td>LCD</td>\n",
       "      <td>14.0</td>\n",
       "      <td>Integrated Graphics</td>\n",
       "      <td>Intel</td>\n",
       "      <td>512</td>\n",
       "      <td>0</td>\n",
       "      <td>no</td>\n",
       "      <td>Windows 11</td>\n",
       "      <td>15840000</td>\n",
       "      <td>0</td>\n",
       "    </tr>\n",
       "    <tr>\n",
       "      <th>19</th>\n",
       "      <td>22</td>\n",
       "      <td>Lenovo</td>\n",
       "      <td>Lenovo Ideapad Gaming 3 15IHU6</td>\n",
       "      <td>Intel Core i5 (11th Gen)</td>\n",
       "      <td>Intel</td>\n",
       "      <td>16</td>\n",
       "      <td>8</td>\n",
       "      <td>DDR4 RAM</td>\n",
       "      <td>3.1</td>\n",
       "      <td>LCD</td>\n",
       "      <td>15.6</td>\n",
       "      <td>GeForce RTX 2050</td>\n",
       "      <td>NVIDIA</td>\n",
       "      <td>512</td>\n",
       "      <td>0</td>\n",
       "      <td>no</td>\n",
       "      <td>Windows 11</td>\n",
       "      <td>14970000</td>\n",
       "      <td>4</td>\n",
       "    </tr>\n",
       "    <tr>\n",
       "      <th>20</th>\n",
       "      <td>23</td>\n",
       "      <td>HP</td>\n",
       "      <td>HP Pavilion 14-dv2153TU</td>\n",
       "      <td>Intel Core i5 (12th Gen)</td>\n",
       "      <td>Intel</td>\n",
       "      <td>16</td>\n",
       "      <td>16</td>\n",
       "      <td>DDR4 RAM</td>\n",
       "      <td>4.2</td>\n",
       "      <td>LCD</td>\n",
       "      <td>14.0</td>\n",
       "      <td>Integrated Graphics</td>\n",
       "      <td>Intel</td>\n",
       "      <td>1024</td>\n",
       "      <td>0</td>\n",
       "      <td>no</td>\n",
       "      <td>Windows 11</td>\n",
       "      <td>20999700</td>\n",
       "      <td>0</td>\n",
       "    </tr>\n",
       "    <tr>\n",
       "      <th>24</th>\n",
       "      <td>27</td>\n",
       "      <td>Lenovo</td>\n",
       "      <td>Lenovo Ideapad Slim 3 15ITL6</td>\n",
       "      <td>Intel Core i5 (11th Gen)</td>\n",
       "      <td>Intel</td>\n",
       "      <td>16</td>\n",
       "      <td>16</td>\n",
       "      <td>DDR4 RAM</td>\n",
       "      <td>2.5</td>\n",
       "      <td>LCD</td>\n",
       "      <td>15.6</td>\n",
       "      <td>Integrated Graphics</td>\n",
       "      <td>Intel</td>\n",
       "      <td>512</td>\n",
       "      <td>0</td>\n",
       "      <td>no</td>\n",
       "      <td>Windows 11</td>\n",
       "      <td>12297000</td>\n",
       "      <td>0</td>\n",
       "    </tr>\n",
       "    <tr>\n",
       "      <th>...</th>\n",
       "      <td>...</td>\n",
       "      <td>...</td>\n",
       "      <td>...</td>\n",
       "      <td>...</td>\n",
       "      <td>...</td>\n",
       "      <td>...</td>\n",
       "      <td>...</td>\n",
       "      <td>...</td>\n",
       "      <td>...</td>\n",
       "      <td>...</td>\n",
       "      <td>...</td>\n",
       "      <td>...</td>\n",
       "      <td>...</td>\n",
       "      <td>...</td>\n",
       "      <td>...</td>\n",
       "      <td>...</td>\n",
       "      <td>...</td>\n",
       "      <td>...</td>\n",
       "      <td>...</td>\n",
       "    </tr>\n",
       "    <tr>\n",
       "      <th>3885</th>\n",
       "      <td>4377</td>\n",
       "      <td>ASUS</td>\n",
       "      <td>ASUS VivoBook Ultra K513EA-BQ501TS</td>\n",
       "      <td>Intel Core i5 (11th Gen)</td>\n",
       "      <td>Intel</td>\n",
       "      <td>0</td>\n",
       "      <td>8</td>\n",
       "      <td>DDR4 RAM</td>\n",
       "      <td>2.4</td>\n",
       "      <td>LED</td>\n",
       "      <td>15.6</td>\n",
       "      <td>Integrated Graphics</td>\n",
       "      <td>Intel</td>\n",
       "      <td>512</td>\n",
       "      <td>0</td>\n",
       "      <td>no</td>\n",
       "      <td>Windows 10</td>\n",
       "      <td>13799700</td>\n",
       "      <td>0</td>\n",
       "    </tr>\n",
       "    <tr>\n",
       "      <th>3889</th>\n",
       "      <td>4381</td>\n",
       "      <td>Microsoft</td>\n",
       "      <td>Microsoft Surface Book</td>\n",
       "      <td>Intel Core i5 (7th Gen)</td>\n",
       "      <td>Intel</td>\n",
       "      <td>0</td>\n",
       "      <td>8</td>\n",
       "      <td>DDR3 RAM</td>\n",
       "      <td>2.6</td>\n",
       "      <td>LED</td>\n",
       "      <td>13.5</td>\n",
       "      <td>Integrated Graphics</td>\n",
       "      <td>Intel</td>\n",
       "      <td>256</td>\n",
       "      <td>0</td>\n",
       "      <td>no</td>\n",
       "      <td>Windows 10</td>\n",
       "      <td>34499700</td>\n",
       "      <td>0</td>\n",
       "    </tr>\n",
       "    <tr>\n",
       "      <th>3895</th>\n",
       "      <td>4387</td>\n",
       "      <td>Dell</td>\n",
       "      <td>Dell G7 15 7590</td>\n",
       "      <td>Intel Core i7 (9th Gen)</td>\n",
       "      <td>Intel</td>\n",
       "      <td>32</td>\n",
       "      <td>16</td>\n",
       "      <td>DDR4 RAM</td>\n",
       "      <td>2.6</td>\n",
       "      <td>LED</td>\n",
       "      <td>15.6</td>\n",
       "      <td>GeForce RTX 2060</td>\n",
       "      <td>NVIDIA</td>\n",
       "      <td>512</td>\n",
       "      <td>0</td>\n",
       "      <td>no</td>\n",
       "      <td>Windows 10</td>\n",
       "      <td>41997000</td>\n",
       "      <td>6</td>\n",
       "    </tr>\n",
       "    <tr>\n",
       "      <th>3905</th>\n",
       "      <td>4397</td>\n",
       "      <td>ASUS</td>\n",
       "      <td>ASUS ROG Strix Scar 17 G732LXS-HG010T</td>\n",
       "      <td>Intel Core i7 (10th Gen)</td>\n",
       "      <td>Intel</td>\n",
       "      <td>0</td>\n",
       "      <td>16</td>\n",
       "      <td>DDR4 RAM</td>\n",
       "      <td>2.3</td>\n",
       "      <td>LED</td>\n",
       "      <td>17.3</td>\n",
       "      <td>GeForce RTX 2080 Super</td>\n",
       "      <td>NVIDIA</td>\n",
       "      <td>1024</td>\n",
       "      <td>0</td>\n",
       "      <td>no</td>\n",
       "      <td>Windows 10</td>\n",
       "      <td>54297000</td>\n",
       "      <td>8</td>\n",
       "    </tr>\n",
       "    <tr>\n",
       "      <th>3910</th>\n",
       "      <td>4402</td>\n",
       "      <td>MSI</td>\n",
       "      <td>MSI GE73VR 7RF-086IN</td>\n",
       "      <td>Intel Core i7 (7th Gen)</td>\n",
       "      <td>Intel</td>\n",
       "      <td>32</td>\n",
       "      <td>16</td>\n",
       "      <td>DDR4 RAM</td>\n",
       "      <td>2.8</td>\n",
       "      <td>LED</td>\n",
       "      <td>17.3</td>\n",
       "      <td>GeForce GTX 1070</td>\n",
       "      <td>NVIDIA</td>\n",
       "      <td>256</td>\n",
       "      <td>1024</td>\n",
       "      <td>no</td>\n",
       "      <td>Windows 10</td>\n",
       "      <td>55797000</td>\n",
       "      <td>8</td>\n",
       "    </tr>\n",
       "  </tbody>\n",
       "</table>\n",
       "<p>773 rows × 19 columns</p>\n",
       "</div>"
      ],
      "text/plain": [
       "      Unnamed: 0      Brand                                   Name  \\\n",
       "3              4         HP                        HP 15s-fy5007TU   \n",
       "15            18       Dell                       Dell Vostro 3420   \n",
       "19            22     Lenovo         Lenovo Ideapad Gaming 3 15IHU6   \n",
       "20            23         HP                HP Pavilion 14-dv2153TU   \n",
       "24            27     Lenovo           Lenovo Ideapad Slim 3 15ITL6   \n",
       "...          ...        ...                                    ...   \n",
       "3885        4377       ASUS     ASUS VivoBook Ultra K513EA-BQ501TS   \n",
       "3889        4381  Microsoft                 Microsoft Surface Book   \n",
       "3895        4387       Dell                        Dell G7 15 7590   \n",
       "3905        4397       ASUS  ASUS ROG Strix Scar 17 G732LXS-HG010T   \n",
       "3910        4402        MSI                   MSI GE73VR 7RF-086IN   \n",
       "\n",
       "                Processor_Name Processor_Brand  RAM_Expandable  RAM  \\\n",
       "3     Intel Core i5 (12th Gen)           Intel               8    8   \n",
       "15    Intel Core i5 (12th Gen)           Intel              16    8   \n",
       "19    Intel Core i5 (11th Gen)           Intel              16    8   \n",
       "20    Intel Core i5 (12th Gen)           Intel              16   16   \n",
       "24    Intel Core i5 (11th Gen)           Intel              16   16   \n",
       "...                        ...             ...             ...  ...   \n",
       "3885  Intel Core i5 (11th Gen)           Intel               0    8   \n",
       "3889   Intel Core i5 (7th Gen)           Intel               0    8   \n",
       "3895   Intel Core i7 (9th Gen)           Intel              32   16   \n",
       "3905  Intel Core i7 (10th Gen)           Intel               0   16   \n",
       "3910   Intel Core i7 (7th Gen)           Intel              32   16   \n",
       "\n",
       "        RAM_TYPE  Ghz Display_type  Display                     GPU GPU_Brand  \\\n",
       "3      DDR4 RAM   4.2          LCD     15.6     Integrated Graphics     Intel   \n",
       "15     DDR4 RAM   3.3          LCD     14.0     Integrated Graphics     Intel   \n",
       "19     DDR4 RAM   3.1          LCD     15.6        GeForce RTX 2050    NVIDIA   \n",
       "20     DDR4 RAM   4.2          LCD     14.0     Integrated Graphics     Intel   \n",
       "24     DDR4 RAM   2.5          LCD     15.6     Integrated Graphics     Intel   \n",
       "...          ...  ...          ...      ...                     ...       ...   \n",
       "3885    DDR4 RAM  2.4          LED     15.6     Integrated Graphics     Intel   \n",
       "3889    DDR3 RAM  2.6          LED     13.5     Integrated Graphics     Intel   \n",
       "3895   DDR4 RAM   2.6          LED     15.6        GeForce RTX 2060    NVIDIA   \n",
       "3905    DDR4 RAM  2.3          LED     17.3  GeForce RTX 2080 Super    NVIDIA   \n",
       "3910   DDR4 RAM   2.8          LED     17.3        GeForce GTX 1070    NVIDIA   \n",
       "\n",
       "       SSD   HDD Adapter          OS  Price_VND  VRAM  \n",
       "3      512     0      no  Windows 11   16647000     0  \n",
       "15     512     0      no  Windows 11   15840000     0  \n",
       "19     512     0      no  Windows 11   14970000     4  \n",
       "20    1024     0      no  Windows 11   20999700     0  \n",
       "24     512     0      no  Windows 11   12297000     0  \n",
       "...    ...   ...     ...         ...        ...   ...  \n",
       "3885   512     0      no  Windows 10   13799700     0  \n",
       "3889   256     0      no  Windows 10   34499700     0  \n",
       "3895   512     0      no  Windows 10   41997000     6  \n",
       "3905  1024     0      no  Windows 10   54297000     8  \n",
       "3910   256  1024      no  Windows 10   55797000     8  \n",
       "\n",
       "[773 rows x 19 columns]"
      ]
     },
     "execution_count": 164,
     "metadata": {},
     "output_type": "execute_result"
    }
   ],
   "source": [
    "# xem dữ liệu có Adapter là no\n",
    "df[df['Adapter']=='no']"
   ]
  },
  {
   "cell_type": "code",
   "execution_count": 165,
   "metadata": {},
   "outputs": [],
   "source": [
    "# chuyển các dòng có giá trị là no thành nan\n",
    "df['Adapter'] = df['Adapter'].replace('no', np.nan)"
   ]
  },
  {
   "cell_type": "code",
   "execution_count": 166,
   "metadata": {},
   "outputs": [],
   "source": [
    "# Chuyển cột 'Adapter' thành số, bỏ qua NaN\n",
    "df['Adapter'] = pd.to_numeric(df['Adapter'], errors='coerce')"
   ]
  },
  {
   "cell_type": "code",
   "execution_count": 167,
   "metadata": {},
   "outputs": [
    {
     "data": {
      "text/plain": [
       "Adapter\n",
       "65.0     1428\n",
       "45.0      462\n",
       "41.0      155\n",
       "150.0      91\n",
       "135.0      80\n",
       "         ... \n",
       "97.0        1\n",
       "15.0        1\n",
       "47.0        1\n",
       "26.0        1\n",
       "69.0        1\n",
       "Name: count, Length: 67, dtype: int64"
      ]
     },
     "execution_count": 167,
     "metadata": {},
     "output_type": "execute_result"
    }
   ],
   "source": [
    "df['Adapter'].value_counts()"
   ]
  },
  {
   "cell_type": "code",
   "execution_count": 168,
   "metadata": {},
   "outputs": [
    {
     "data": {
      "text/plain": [
       "count    3143.000000\n",
       "mean       80.473115\n",
       "std        55.477372\n",
       "min        15.000000\n",
       "25%        45.000000\n",
       "50%        65.000000\n",
       "75%        65.000000\n",
       "max       330.000000\n",
       "Name: Adapter, dtype: float64"
      ]
     },
     "execution_count": 168,
     "metadata": {},
     "output_type": "execute_result"
    }
   ],
   "source": [
    "df['Adapter'].describe()"
   ]
  },
  {
   "cell_type": "markdown",
   "metadata": {},
   "source": [
    "Ta thấy rằng giá trị trung vị là 65W, và độ lệch chuẩn là 55W, tức là khoảng phân tán là từ 10W đến 120W. tuy nhiên, giá trị lớn nhất lại là 330W, có nghĩa là phân phối của biến này không đều, điền bằng giá trị trung vị sẽ thích hợp hơn. Thêm vào đó, 65W cũng là giá trị phổ biến nhất, vì vậy điền giá trị khuyết bằng 65 sẽ là thích hợp trong trường hợp này.\n"
   ]
  },
  {
   "cell_type": "code",
   "execution_count": 169,
   "metadata": {},
   "outputs": [],
   "source": [
    "mode_value = df['Adapter'].mode()[0]\n",
    "df['Adapter'] = df['Adapter'].fillna(mode_value)"
   ]
  },
  {
   "cell_type": "code",
   "execution_count": 170,
   "metadata": {},
   "outputs": [
    {
     "data": {
      "text/plain": [
       "OS\n",
       "Windows 11           2110\n",
       "Windows 10           1508\n",
       "DOS                   187\n",
       "Google Chrome          31\n",
       "Linux                  23\n",
       "Windows 8.1            19\n",
       "macOS Mojave           15\n",
       "Ubuntu                  7\n",
       "macOS Catalina          6\n",
       "macOS High Sierra       3\n",
       "macOS Sierra            3\n",
       "macOS Big Sur           2\n",
       "macOS Monterey          2\n",
       "Name: count, dtype: int64"
      ]
     },
     "execution_count": 170,
     "metadata": {},
     "output_type": "execute_result"
    }
   ],
   "source": [
    "# xem giá trị của cột OS\n",
    "df['OS'].value_counts()"
   ]
  },
  {
   "cell_type": "code",
   "execution_count": 171,
   "metadata": {},
   "outputs": [
    {
     "data": {
      "text/plain": [
       "VRAM\n",
       "0     2455\n",
       "4      684\n",
       "6      281\n",
       "2      269\n",
       "8      181\n",
       "16      24\n",
       "12      14\n",
       "3        6\n",
       "1        2\n",
       "Name: count, dtype: int64"
      ]
     },
     "execution_count": 171,
     "metadata": {},
     "output_type": "execute_result"
    }
   ],
   "source": [
    "# xem giá trị của cột VRAM\n",
    "df['VRAM'].value_counts()"
   ]
  },
  {
   "cell_type": "code",
   "execution_count": 172,
   "metadata": {},
   "outputs": [],
   "source": [
    "# Chuyển Price_VND về thành cột cuối cùng vì đây là biến mục tiêu\n",
    "column_to_move = df.pop('Price_VND')\n",
    "df['Price_VND'] = column_to_move"
   ]
  },
  {
   "cell_type": "code",
   "execution_count": 173,
   "metadata": {},
   "outputs": [],
   "source": [
    "# loại bỏ cột đầu tiên không có ý nghĩa\n",
    "df.drop(columns=['Unnamed: 0'], inplace=True)"
   ]
  },
  {
   "cell_type": "code",
   "execution_count": 174,
   "metadata": {},
   "outputs": [
    {
     "name": "stdout",
     "output_type": "stream",
     "text": [
      "<class 'pandas.core.frame.DataFrame'>\n",
      "RangeIndex: 3916 entries, 0 to 3915\n",
      "Data columns (total 18 columns):\n",
      " #   Column           Non-Null Count  Dtype  \n",
      "---  ------           --------------  -----  \n",
      " 0   Brand            3916 non-null   object \n",
      " 1   Name             3916 non-null   object \n",
      " 2   Processor_Name   3916 non-null   object \n",
      " 3   Processor_Brand  3916 non-null   object \n",
      " 4   RAM_Expandable   3916 non-null   int64  \n",
      " 5   RAM              3916 non-null   int64  \n",
      " 6   RAM_TYPE         3916 non-null   object \n",
      " 7   Ghz              3916 non-null   float64\n",
      " 8   Display_type     3916 non-null   object \n",
      " 9   Display          3916 non-null   float64\n",
      " 10  GPU              3916 non-null   object \n",
      " 11  GPU_Brand        3916 non-null   object \n",
      " 12  SSD              3916 non-null   int64  \n",
      " 13  HDD              3916 non-null   int64  \n",
      " 14  Adapter          3916 non-null   float64\n",
      " 15  OS               3916 non-null   object \n",
      " 16  VRAM             3916 non-null   int64  \n",
      " 17  Price_VND        3916 non-null   int64  \n",
      "dtypes: float64(3), int64(6), object(9)\n",
      "memory usage: 550.8+ KB\n"
     ]
    }
   ],
   "source": [
    "df.info()"
   ]
  },
  {
   "cell_type": "markdown",
   "metadata": {},
   "source": [
    "Vì chỉ có duy nhất 1 giá trị có Brand là Razer nên chúng tôi loại bỏ giá trị này"
   ]
  },
  {
   "cell_type": "code",
   "execution_count": 175,
   "metadata": {},
   "outputs": [
    {
     "data": {
      "text/html": [
       "<div>\n",
       "<style scoped>\n",
       "    .dataframe tbody tr th:only-of-type {\n",
       "        vertical-align: middle;\n",
       "    }\n",
       "\n",
       "    .dataframe tbody tr th {\n",
       "        vertical-align: top;\n",
       "    }\n",
       "\n",
       "    .dataframe thead th {\n",
       "        text-align: right;\n",
       "    }\n",
       "</style>\n",
       "<table border=\"1\" class=\"dataframe\">\n",
       "  <thead>\n",
       "    <tr style=\"text-align: right;\">\n",
       "      <th></th>\n",
       "      <th>Brand</th>\n",
       "      <th>Name</th>\n",
       "      <th>Processor_Name</th>\n",
       "      <th>Processor_Brand</th>\n",
       "      <th>RAM_Expandable</th>\n",
       "      <th>RAM</th>\n",
       "      <th>RAM_TYPE</th>\n",
       "      <th>Ghz</th>\n",
       "      <th>Display_type</th>\n",
       "      <th>Display</th>\n",
       "      <th>GPU</th>\n",
       "      <th>GPU_Brand</th>\n",
       "      <th>SSD</th>\n",
       "      <th>HDD</th>\n",
       "      <th>Adapter</th>\n",
       "      <th>OS</th>\n",
       "      <th>VRAM</th>\n",
       "      <th>Price_VND</th>\n",
       "    </tr>\n",
       "  </thead>\n",
       "  <tbody>\n",
       "    <tr>\n",
       "      <th>559</th>\n",
       "      <td>Razer</td>\n",
       "      <td>Razer Blade 15 RZ09-0421NEC3-R3U1</td>\n",
       "      <td>Intel Core i7 (12th Gen)</td>\n",
       "      <td>Intel</td>\n",
       "      <td>64</td>\n",
       "      <td>16</td>\n",
       "      <td>DDR5 RAM</td>\n",
       "      <td>1.8</td>\n",
       "      <td>LCD</td>\n",
       "      <td>15.6</td>\n",
       "      <td>GeForce RTX 3070 Ti</td>\n",
       "      <td>NVIDIA</td>\n",
       "      <td>1024</td>\n",
       "      <td>0</td>\n",
       "      <td>45.0</td>\n",
       "      <td>Windows 10</td>\n",
       "      <td>8</td>\n",
       "      <td>107699700</td>\n",
       "    </tr>\n",
       "  </tbody>\n",
       "</table>\n",
       "</div>"
      ],
      "text/plain": [
       "     Brand                               Name            Processor_Name  \\\n",
       "559  Razer  Razer Blade 15 RZ09-0421NEC3-R3U1  Intel Core i7 (12th Gen)   \n",
       "\n",
       "    Processor_Brand  RAM_Expandable  RAM    RAM_TYPE  Ghz Display_type  \\\n",
       "559           Intel              64   16   DDR5 RAM   1.8          LCD   \n",
       "\n",
       "     Display                  GPU GPU_Brand   SSD  HDD  Adapter          OS  \\\n",
       "559     15.6  GeForce RTX 3070 Ti    NVIDIA  1024    0     45.0  Windows 10   \n",
       "\n",
       "     VRAM  Price_VND  \n",
       "559     8  107699700  "
      ]
     },
     "execution_count": 175,
     "metadata": {},
     "output_type": "execute_result"
    }
   ],
   "source": [
    "df[df['Brand'] == 'Razer']"
   ]
  },
  {
   "cell_type": "code",
   "execution_count": 176,
   "metadata": {},
   "outputs": [],
   "source": [
    "# Remove if brand is 'Razer'\n",
    "df = df[~ (df['Brand'] == 'Razer')]"
   ]
  },
  {
   "cell_type": "code",
   "execution_count": 177,
   "metadata": {},
   "outputs": [],
   "source": [
    "# Lưu data lại thành file csv mới\n",
    "df.to_csv('../Data/processed_data.csv', index=False)"
   ]
  }
 ],
 "metadata": {
  "kernelspec": {
   "display_name": "Python 3",
   "language": "python",
   "name": "python3"
  },
  "language_info": {
   "codemirror_mode": {
    "name": "ipython",
    "version": 3
   },
   "file_extension": ".py",
   "mimetype": "text/x-python",
   "name": "python",
   "nbconvert_exporter": "python",
   "pygments_lexer": "ipython3",
   "version": "3.12.2"
  }
 },
 "nbformat": 4,
 "nbformat_minor": 2
}
