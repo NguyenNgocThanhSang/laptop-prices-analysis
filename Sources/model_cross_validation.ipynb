{
 "cells": [
  {
   "cell_type": "markdown",
   "metadata": {},
   "source": [
    "#### Import Lib\n"
   ]
  },
  {
   "cell_type": "code",
   "execution_count": 20,
   "metadata": {},
   "outputs": [],
   "source": [
    "import ast\n",
    "import pandas as pd\n",
    "import numpy as np\n",
    "import matplotlib.pyplot as plt\n",
    "from sklearn.metrics import accuracy_score\n",
    "\n",
    "from sklearn.pipeline import Pipeline\n",
    "from sklearn.compose import ColumnTransformer\n",
    "from sklearn.preprocessing import RobustScaler, OneHotEncoder\n",
    "\n",
    "from xgboost import XGBRegressor\n",
    "from sklearn.tree import DecisionTreeRegressor\n",
    "from sklearn.ensemble import RandomForestRegressor\n",
    "from sklearn.linear_model import LinearRegression, Ridge\n",
    "from sklearn.neighbors import KNeighborsRegressor\n",
    "\n",
    "from sklearn.model_selection import StratifiedKFold, train_test_split, GridSearchCV\n",
    "\n",
    "from sklearn.metrics import mean_absolute_error, mean_squared_error, r2_score"
   ]
  },
  {
   "cell_type": "markdown",
   "metadata": {},
   "source": [
    "#### Đọc dữ liệu\n"
   ]
  },
  {
   "cell_type": "code",
   "execution_count": 21,
   "metadata": {},
   "outputs": [],
   "source": [
    "df_real = pd.read_csv('../Data/input_data.csv')\n",
    "df = df_real.copy()"
   ]
  },
  {
   "cell_type": "code",
   "execution_count": 22,
   "metadata": {},
   "outputs": [],
   "source": [
    "# Hàm loại bỏ giá trị ngoại lai\n",
    "def remove_outliers(df, columns=None):\n",
    "    \"\"\"\n",
    "    Loại bỏ giá trị ngoại lai khỏi các cột được chỉ định trong DataFrame.\n",
    "    - df: DataFrame đầu vào\n",
    "    - columns: Danh sách các cột cần kiểm tra (nếu None, sẽ kiểm tra tất cả các cột số)\n",
    "    \"\"\"\n",
    "    if columns is None:\n",
    "        columns = df.select_dtypes(include=['float', 'int']).columns  # Chỉ lấy các cột số\n",
    "\n",
    "    for col in columns:\n",
    "        # Tính IQR (Interquartile Range)\n",
    "        Q1 = df[col].quantile(0.25)\n",
    "        Q3 = df[col].quantile(0.75)\n",
    "        IQR = Q3 - Q1\n",
    "        # Xác định phạm vi hợp lệ\n",
    "        lower_bound = Q1 - 1.5 * IQR\n",
    "        upper_bound = Q3 + 1.5 * IQR\n",
    "        # Loại bỏ ngoại lai\n",
    "        df = df[(df[col] >= lower_bound) & (df[col] <= upper_bound)]\n",
    "    \n",
    "    return df\n",
    "\n",
    "# Áp dụng hàm\n",
    "df = remove_outliers(df)"
   ]
  },
  {
   "cell_type": "code",
   "execution_count": 23,
   "metadata": {},
   "outputs": [
    {
     "data": {
      "text/plain": [
       "Index(['Brand', 'Processor_Name', 'Processor_Brand', 'RAM', 'RAM_TYPE',\n",
       "       'Display_type', 'GPU', 'GPU_Brand', 'SSD', 'OS', 'VRAM', 'Price_VND'],\n",
       "      dtype='object')"
      ]
     },
     "execution_count": 23,
     "metadata": {},
     "output_type": "execute_result"
    }
   ],
   "source": [
    "df.columns"
   ]
  },
  {
   "cell_type": "code",
   "execution_count": 24,
   "metadata": {},
   "outputs": [
    {
     "name": "stdout",
     "output_type": "stream",
     "text": [
      "<class 'pandas.core.frame.DataFrame'>\n",
      "Index: 3034 entries, 0 to 3915\n",
      "Data columns (total 12 columns):\n",
      " #   Column           Non-Null Count  Dtype \n",
      "---  ------           --------------  ----- \n",
      " 0   Brand            3034 non-null   object\n",
      " 1   Processor_Name   3034 non-null   object\n",
      " 2   Processor_Brand  3034 non-null   object\n",
      " 3   RAM              3034 non-null   int64 \n",
      " 4   RAM_TYPE         3034 non-null   object\n",
      " 5   Display_type     3034 non-null   object\n",
      " 6   GPU              3034 non-null   object\n",
      " 7   GPU_Brand        3034 non-null   object\n",
      " 8   SSD              3034 non-null   int64 \n",
      " 9   OS               3034 non-null   object\n",
      " 10  VRAM             3034 non-null   int64 \n",
      " 11  Price_VND        3034 non-null   int64 \n",
      "dtypes: int64(4), object(8)\n",
      "memory usage: 308.1+ KB\n"
     ]
    }
   ],
   "source": [
    "df.info()"
   ]
  },
  {
   "cell_type": "markdown",
   "metadata": {},
   "source": [
    "#### Train - Test Split\n"
   ]
  },
  {
   "cell_type": "code",
   "execution_count": 25,
   "metadata": {},
   "outputs": [],
   "source": [
    "# Giả sử dữ liệu của bạn có tên là df\n",
    "X = df.drop('Price_VND', axis=1)  # Các biến độc lập\n",
    "y = df['Price_VND']  # Biến mục tiêu\n",
    "\n",
    "# Chia dữ liệu thành tập huấn luyện và tập kiểm tra\n",
    "X_train, X_test, y_train, y_test = train_test_split(X, y, test_size=0.2, random_state=42)"
   ]
  },
  {
   "cell_type": "code",
   "execution_count": 26,
   "metadata": {},
   "outputs": [],
   "source": [
    "# Xác định biến số và biến phân loại\n",
    "# Xác định các biến số và biến phân loại\n",
    "numeric_features = X.select_dtypes(include=['int64', 'float64']).columns\n",
    "categorical_features = X.select_dtypes(include=['object']).columns"
   ]
  },
  {
   "cell_type": "markdown",
   "metadata": {},
   "source": [
    "#### Tạo Pipeline tiền xử lý\n"
   ]
  },
  {
   "cell_type": "code",
   "execution_count": 27,
   "metadata": {},
   "outputs": [],
   "source": [
    "# Tạo pipeline cho tiền xử lý\n",
    "numeric_transformer = Pipeline(steps=[\n",
    "    ('scaler', RobustScaler())\n",
    "])\n",
    "\n",
    "categorical_transformer = Pipeline(steps=[\n",
    "    ('onehot', OneHotEncoder(handle_unknown='ignore'))\n",
    "])\n",
    "\n",
    "# Kết hợp các bước tiền xử lý vào ColumnTransformer\n",
    "preprocessor = ColumnTransformer(\n",
    "    transformers=[\n",
    "        ('num', numeric_transformer, numeric_features),\n",
    "        ('cat', categorical_transformer, categorical_features)\n",
    "    ])"
   ]
  },
  {
   "cell_type": "markdown",
   "metadata": {},
   "source": [
    "#### Xây dựng Pipeline cho mô hình hồi quy\n"
   ]
  },
  {
   "cell_type": "code",
   "execution_count": 28,
   "metadata": {},
   "outputs": [
    {
     "data": {
      "text/html": [
       "<div>\n",
       "<style scoped>\n",
       "    .dataframe tbody tr th:only-of-type {\n",
       "        vertical-align: middle;\n",
       "    }\n",
       "\n",
       "    .dataframe tbody tr th {\n",
       "        vertical-align: top;\n",
       "    }\n",
       "\n",
       "    .dataframe thead th {\n",
       "        text-align: right;\n",
       "    }\n",
       "</style>\n",
       "<table border=\"1\" class=\"dataframe\">\n",
       "  <thead>\n",
       "    <tr style=\"text-align: right;\">\n",
       "      <th></th>\n",
       "      <th>MAE</th>\n",
       "      <th>MSE</th>\n",
       "      <th>R2</th>\n",
       "    </tr>\n",
       "  </thead>\n",
       "  <tbody>\n",
       "    <tr>\n",
       "      <th>XGBRegressor</th>\n",
       "      <td>2.207033e+06</td>\n",
       "      <td>9.270887e+12</td>\n",
       "      <td>0.770631</td>\n",
       "    </tr>\n",
       "    <tr>\n",
       "      <th>DecisionTreeRegressor</th>\n",
       "      <td>2.716211e+06</td>\n",
       "      <td>1.538571e+13</td>\n",
       "      <td>0.619346</td>\n",
       "    </tr>\n",
       "    <tr>\n",
       "      <th>RandomForestRegressor</th>\n",
       "      <td>2.365790e+06</td>\n",
       "      <td>1.087625e+13</td>\n",
       "      <td>0.730913</td>\n",
       "    </tr>\n",
       "    <tr>\n",
       "      <th>LinearRegression</th>\n",
       "      <td>2.317085e+06</td>\n",
       "      <td>9.790896e+12</td>\n",
       "      <td>0.757766</td>\n",
       "    </tr>\n",
       "    <tr>\n",
       "      <th>Ridge</th>\n",
       "      <td>2.308289e+06</td>\n",
       "      <td>9.788094e+12</td>\n",
       "      <td>0.757835</td>\n",
       "    </tr>\n",
       "    <tr>\n",
       "      <th>KNeighborsRegressor</th>\n",
       "      <td>2.676205e+06</td>\n",
       "      <td>1.397831e+13</td>\n",
       "      <td>0.654166</td>\n",
       "    </tr>\n",
       "  </tbody>\n",
       "</table>\n",
       "</div>"
      ],
      "text/plain": [
       "                                MAE           MSE        R2\n",
       "XGBRegressor           2.207033e+06  9.270887e+12  0.770631\n",
       "DecisionTreeRegressor  2.716211e+06  1.538571e+13  0.619346\n",
       "RandomForestRegressor  2.365790e+06  1.087625e+13  0.730913\n",
       "LinearRegression       2.317085e+06  9.790896e+12  0.757766\n",
       "Ridge                  2.308289e+06  9.788094e+12  0.757835\n",
       "KNeighborsRegressor    2.676205e+06  1.397831e+13  0.654166"
      ]
     },
     "execution_count": 28,
     "metadata": {},
     "output_type": "execute_result"
    }
   ],
   "source": [
    "# Danh sách các mô hình hồi quy\n",
    "models = {\n",
    "    'XGBRegressor': XGBRegressor(),\n",
    "    'DecisionTreeRegressor': DecisionTreeRegressor(),\n",
    "    'RandomForestRegressor': RandomForestRegressor(),\n",
    "    'LinearRegression': LinearRegression(),\n",
    "    'Ridge': Ridge(),\n",
    "    'KNeighborsRegressor': KNeighborsRegressor()\n",
    "}\n",
    "\n",
    "# Huấn luyện và đánh giá mô hình\n",
    "results = {}\n",
    "\n",
    "for model_name, model in models.items():\n",
    "    # Tạo pipeline cho mô hình\n",
    "    pipeline = Pipeline(steps=[('preprocessor', preprocessor),\n",
    "                               ('regressor', model)])\n",
    "    \n",
    "    # Huấn luyện mô hình\n",
    "    pipeline.fit(X_train, y_train)\n",
    "    \n",
    "    # Dự đoán trên tập train và tập test\n",
    "    y_train_pred = pipeline.predict(X_train)\n",
    "    y_test_pred = pipeline.predict(X_test)\n",
    "    \n",
    "    # # Đánh giá mô hình trên tập train\n",
    "    # train_mae = mean_absolute_error(y_train, y_train_pred)\n",
    "    # train_mse = mean_squared_error(y_train, y_train_pred)\n",
    "    # train_r2 = r2_score(y_train, y_train_pred)\n",
    "    \n",
    "    # Đánh giá mô hình trên tập test\n",
    "    test_mae = mean_absolute_error(y_test, y_test_pred)\n",
    "    test_mse = mean_squared_error(y_test, y_test_pred)\n",
    "    test_r2 = r2_score(y_test, y_test_pred)\n",
    "    \n",
    "    # # Lưu kết quả đánh giá\n",
    "    # results[model_name] = {\n",
    "    #     'Train MAE': train_mae, 'Test MAE': test_mae,\n",
    "    #     'Train MSE': train_mse, 'Test MSE': test_mse,\n",
    "    #     'Train R2': train_r2,   'Test R2': test_r2\n",
    "    # }\n",
    "    results[model_name] = {\n",
    "        'MAE': test_mae,\n",
    "        'MSE': test_mse,\n",
    "        'R2': test_r2\n",
    "    }\n",
    "\n",
    "# Hiển thị kết quả\n",
    "results_df = pd.DataFrame(results).T\n",
    "results_df\n"
   ]
  },
  {
   "cell_type": "code",
   "execution_count": 29,
   "metadata": {},
   "outputs": [],
   "source": [
    "# # Danh sách các mô hình hồi quy\n",
    "# models = {\n",
    "#     'XGBRegressor': XGBRegressor(),\n",
    "#     'DecisionTreeRegressor': DecisionTreeRegressor(),\n",
    "#     'RandomForestRegressor': RandomForestRegressor(),\n",
    "#     'LinearRegression': LinearRegression(),\n",
    "#     'Ridge': Ridge(),\n",
    "#     'KNeighborsRegressor': KNeighborsRegressor()\n",
    "# }\n",
    "\n",
    "# # Huấn luyện và đánh giá mô hình\n",
    "# results = {}\n",
    "\n",
    "# for model_name, model in models.items():\n",
    "#     # Tạo pipeline cho mô hình\n",
    "#     pipeline = Pipeline(steps=[('preprocessor', preprocessor),\n",
    "#                                ('regressor', model)])\n",
    "    \n",
    "#     # Huấn luyện mô hình\n",
    "#     pipeline.fit(X_train, y_train)\n",
    "    \n",
    "#     # Dự đoán trên tập kiểm tra\n",
    "#     y_pred = pipeline.predict(X_test)\n",
    "    \n",
    "#     # Đánh giá mô hình\n",
    "#     mae = mean_absolute_error(y_test, y_pred)\n",
    "#     mse = mean_squared_error(y_test, y_pred)\n",
    "#     r2 = r2_score(y_test, y_pred)\n",
    "    \n",
    "#     # Lưu kết quả đánh giá\n",
    "#     results[model_name] = {'MAE': mae, 'MSE': mse, 'R2': r2}\n",
    "\n",
    "# # Hiển thị kết quả\n",
    "# results_df = pd.DataFrame(results).T\n",
    "# results_df\n"
   ]
  },
  {
   "cell_type": "markdown",
   "metadata": {},
   "source": [
    "Kết quả:\n",
    "\n",
    "- Mô hình tốt nhất: XGBRegressor có R² cao nhất (81.8%) và MAE thấp, làm cho nó trở thành mô hình tốt nhất trong bộ so sánh này.\n",
    "- Mô hình kém nhất: KNeighborsRegressor có R² thấp nhất (78.4%) và MSE cao nhất, cho thấy nó không phù hợp với dữ liệu này so với các mô hình khác.\n",
    "\n",
    "Hướng phát triển:\n",
    "\n",
    "- Tối ưu tham số cho mô hình XGBRegressor\n"
   ]
  },
  {
   "cell_type": "markdown",
   "metadata": {},
   "source": [
    "#### Tối ưu tham số cho mô hình XGBRegressor\n"
   ]
  },
  {
   "cell_type": "code",
   "execution_count": 30,
   "metadata": {},
   "outputs": [],
   "source": [
    "# Danh sách một số param cần lưu ý\n",
    "xgb_params = {\n",
    "    'n_estimators',        # Số lượng cây quyết định\n",
    "    'learning_rate',       # Tốc độ học (eta)\n",
    "    'max_depth',             # Độ sâu tối đa của cây\n",
    "    'min_child_weight',      # Trọng số tối thiểu của mỗi nút lá\n",
    "    'subsample',           # Tỷ lệ mẫu huấn luyện mỗi cây\n",
    "    'colsample_bytree',    # Tỷ lệ đặc trưng được chọn để huấn luyện mỗi cây\n",
    "    'gamma',                 # Mức độ phạt để ngừng tạo nhánh\n",
    "    'scale_pos_weight',      # Tỷ lệ giữa các lớp trong bài toán mất cân bằng\n",
    "    'objective',  # Mục tiêu hồi quy\n",
    "    'eval_metric',      # Chỉ số đánh giá\n",
    "    'tree_method',      # Phương pháp xây dựng cây\n",
    "    'lambda',              # Regularization L2 (Ridge)\n",
    "    'alpha'               # Regularization L1 (Lasso)\n",
    "}\n"
   ]
  },
  {
   "cell_type": "code",
   "execution_count": 31,
   "metadata": {},
   "outputs": [
    {
     "name": "stdout",
     "output_type": "stream",
     "text": [
      "Kết quả đánh giá với tham số mặc định:\n",
      "MAE: 2207033.0366556835\n",
      "MSE: 9270887279339.035\n",
      "R²: 0.7706311941146851\n",
      "\n",
      "Các tham số của XGBRegressor trong danh sách cần lưu ý:\n",
      "min_child_weight: None\n",
      "n_estimators: None\n",
      "tree_method: None\n",
      "objective: reg:squarederror\n",
      "colsample_bytree: None\n",
      "max_depth: None\n",
      "gamma: None\n",
      "learning_rate: None\n",
      "eval_metric: None\n",
      "scale_pos_weight: None\n",
      "subsample: None\n"
     ]
    }
   ],
   "source": [
    "# Xây dựng Pipeline riêng cho mô hình XGBRegressor\n",
    "XGB_pipeline = Pipeline(\n",
    "    steps=[\n",
    "        ('preprocessor', preprocessor),\n",
    "        ('regressor', XGBRegressor())  # Mô hình XGBRegressor\n",
    "    ]\n",
    ")\n",
    "\n",
    "# Huấn luyện lại mô hình với tham số mặc định\n",
    "XGB_pipeline.fit(X_train, y_train)\n",
    "\n",
    "# Dự đoán và đánh giá mô hình với tham số mặc định\n",
    "y_pred = XGB_pipeline.predict(X_test)\n",
    "mae = mean_absolute_error(y_test, y_pred)\n",
    "mse = mean_squared_error(y_test, y_pred)\n",
    "r2 = r2_score(y_test, y_pred)\n",
    "\n",
    "# In ra các kết quả đánh giá và tham số mặc định\n",
    "print(\"Kết quả đánh giá với tham số mặc định:\")\n",
    "print(f\"MAE: {mae}\")\n",
    "print(f\"MSE: {mse}\")\n",
    "print(f\"R²: {r2}\")\n",
    "# XGB_pipeline.named_steps['regressor'].get_params()\n",
    "\n",
    "# Tạo DataFrame từ y_test và y_pred\n",
    "results_df = pd.DataFrame({\n",
    "    'Actual': y_test,\n",
    "    'Predicted': y_pred\n",
    "})\n",
    "\n",
    "\n",
    "# In ra các tham số có trong danh sách xgb_params\n",
    "print(\"\\nCác tham số của XGBRegressor trong danh sách cần lưu ý:\")\n",
    "xgb_model_params = XGB_pipeline.named_steps['regressor'].get_params()\n",
    "\n",
    "for param in xgb_params:\n",
    "    if param in xgb_model_params:\n",
    "        print(f\"{param}: {xgb_model_params[param]}\")\n"
   ]
  },
  {
   "cell_type": "code",
   "execution_count": 32,
   "metadata": {},
   "outputs": [
    {
     "name": "stdout",
     "output_type": "stream",
     "text": [
      "Giá bán dự đoán của laptop là: 21275050.0 VND\n"
     ]
    }
   ],
   "source": [
    "# Hàm dự đoán giá bán laptop\n",
    "def predict_laptop_price(brand, processor_name, processor_brand, ram, ram_type, display_type, gpu, gpu_brand, ssd, os, vram):\n",
    "    # Tạo DataFrame cho dữ liệu nhập\n",
    "    input_data = pd.DataFrame({\n",
    "        'Brand': [brand],\n",
    "        'Processor_Name': [processor_name],\n",
    "        'Processor_Brand': [processor_brand],\n",
    "        'RAM': [ram],\n",
    "        'RAM_TYPE': [ram_type],\n",
    "        'Display_type': [display_type],\n",
    "        'GPU': [gpu],\n",
    "        'GPU_Brand': [gpu_brand],\n",
    "        'SSD': [ssd],\n",
    "        'OS': [os],\n",
    "        'VRAM': [vram]\n",
    "    })\n",
    "    \n",
    "    # Dự đoán giá bán\n",
    "    predicted_price = XGB_pipeline.predict(input_data)\n",
    "    return predicted_price[0]\n",
    "\n",
    "# Ví dụ sử dụng hàm\n",
    "predicted_price = predict_laptop_price(\n",
    "    brand='Lenovo', processor_name='AMD Octa-Core Ryzen 7', processor_brand='AMD', ram=16, ram_type='DDR5', \n",
    "    display_type='LCD', gpu='Geforce RTX 4060', gpu_brand='NVIDIA', ssd=512, os='Windows 11', vram=8\n",
    ")\n",
    "\n",
    "print(f\"Giá bán dự đoán của laptop là: {predicted_price} VND\")"
   ]
  },
  {
   "cell_type": "code",
   "execution_count": 33,
   "metadata": {},
   "outputs": [
    {
     "data": {
      "text/plain": [
       "array(['AMD Octa-Core Ryzen 7', 'AMD Octa-Core Ryzen 7 Processor',\n",
       "       'AMD Quad-Core Ryzen 7', 'AMD Octa-Core Ryzen 7 Pro'], dtype=object)"
      ]
     },
     "execution_count": 33,
     "metadata": {},
     "output_type": "execute_result"
    }
   ],
   "source": [
    "df[df['Processor_Name'].str.contains('Ryzen 7')]['Processor_Name'].unique()\n"
   ]
  },
  {
   "cell_type": "code",
   "execution_count": 34,
   "metadata": {},
   "outputs": [
    {
     "data": {
      "text/html": [
       "<div>\n",
       "<style scoped>\n",
       "    .dataframe tbody tr th:only-of-type {\n",
       "        vertical-align: middle;\n",
       "    }\n",
       "\n",
       "    .dataframe tbody tr th {\n",
       "        vertical-align: top;\n",
       "    }\n",
       "\n",
       "    .dataframe thead th {\n",
       "        text-align: right;\n",
       "    }\n",
       "</style>\n",
       "<table border=\"1\" class=\"dataframe\">\n",
       "  <thead>\n",
       "    <tr style=\"text-align: right;\">\n",
       "      <th></th>\n",
       "      <th>Actual</th>\n",
       "      <th>Predicted</th>\n",
       "    </tr>\n",
       "  </thead>\n",
       "  <tbody>\n",
       "    <tr>\n",
       "      <th>3699</th>\n",
       "      <td>24897000</td>\n",
       "      <td>21028382.0</td>\n",
       "    </tr>\n",
       "    <tr>\n",
       "      <th>2903</th>\n",
       "      <td>10267500</td>\n",
       "      <td>10410747.0</td>\n",
       "    </tr>\n",
       "    <tr>\n",
       "      <th>3105</th>\n",
       "      <td>24120000</td>\n",
       "      <td>18003924.0</td>\n",
       "    </tr>\n",
       "    <tr>\n",
       "      <th>490</th>\n",
       "      <td>11610000</td>\n",
       "      <td>13445709.0</td>\n",
       "    </tr>\n",
       "    <tr>\n",
       "      <th>1079</th>\n",
       "      <td>17697000</td>\n",
       "      <td>17854176.0</td>\n",
       "    </tr>\n",
       "    <tr>\n",
       "      <th>...</th>\n",
       "      <td>...</td>\n",
       "      <td>...</td>\n",
       "    </tr>\n",
       "    <tr>\n",
       "      <th>3442</th>\n",
       "      <td>11817000</td>\n",
       "      <td>13825256.0</td>\n",
       "    </tr>\n",
       "    <tr>\n",
       "      <th>3520</th>\n",
       "      <td>24297000</td>\n",
       "      <td>18837386.0</td>\n",
       "    </tr>\n",
       "    <tr>\n",
       "      <th>3176</th>\n",
       "      <td>13052100</td>\n",
       "      <td>17303804.0</td>\n",
       "    </tr>\n",
       "    <tr>\n",
       "      <th>799</th>\n",
       "      <td>12075000</td>\n",
       "      <td>14382863.0</td>\n",
       "    </tr>\n",
       "    <tr>\n",
       "      <th>3333</th>\n",
       "      <td>7185600</td>\n",
       "      <td>7444005.5</td>\n",
       "    </tr>\n",
       "  </tbody>\n",
       "</table>\n",
       "<p>607 rows × 2 columns</p>\n",
       "</div>"
      ],
      "text/plain": [
       "        Actual   Predicted\n",
       "3699  24897000  21028382.0\n",
       "2903  10267500  10410747.0\n",
       "3105  24120000  18003924.0\n",
       "490   11610000  13445709.0\n",
       "1079  17697000  17854176.0\n",
       "...        ...         ...\n",
       "3442  11817000  13825256.0\n",
       "3520  24297000  18837386.0\n",
       "3176  13052100  17303804.0\n",
       "799   12075000  14382863.0\n",
       "3333   7185600   7444005.5\n",
       "\n",
       "[607 rows x 2 columns]"
      ]
     },
     "execution_count": 34,
     "metadata": {},
     "output_type": "execute_result"
    }
   ],
   "source": [
    "results_df"
   ]
  },
  {
   "cell_type": "code",
   "execution_count": 35,
   "metadata": {},
   "outputs": [
    {
     "name": "stderr",
     "output_type": "stream",
     "text": [
      "c:\\Users\\ME\\AppData\\Local\\Programs\\Python\\Python312\\Lib\\site-packages\\sklearn\\model_selection\\_split.py:776: UserWarning: The least populated class in y has only 1 members, which is less than n_splits=5.\n",
      "  warnings.warn(\n"
     ]
    },
    {
     "name": "stdout",
     "output_type": "stream",
     "text": [
      "MAE của các fold: [np.float64(2305017.1256177924), np.float64(2282111.1116144974), np.float64(2238267.601317957), np.float64(2215548.644151565), np.float64(2342674.5969471945)]\n",
      "MAE trung bình: 2276723.815929801\n",
      "MSE của các fold: [np.float64(10115230802821.014), np.float64(9116828838102.896), np.float64(9448447219801.31), np.float64(9815679278304.12), np.float64(11350938850093.977)]\n",
      "MSE trung bình: 9969424997824.662\n",
      "R2 của các fold: [0.7405433058738708, 0.7714547514915466, 0.7585083246231079, 0.7438485622406006, 0.7135012149810791]\n",
      "R2 trung bình: 0.745571231842041\n"
     ]
    }
   ],
   "source": [
    "# Cross-validation bằng Stratified K-Fold với 5 folds\n",
    "num_folds = 5\n",
    "skf = StratifiedKFold(n_splits=num_folds, shuffle=True, random_state=42)\n",
    "mae_scores = []\n",
    "mse_scores = []\n",
    "r2_scores = []\n",
    "\n",
    "for train_index, test_index in skf.split(X, y):\n",
    "    X_train, X_test = X.iloc[train_index], X.iloc[test_index]\n",
    "    y_train, y_test = y.iloc[train_index], y.iloc[test_index]\n",
    "    XGB_pipeline.fit(X_train, y_train)\n",
    "    y_pred = XGB_pipeline.predict(X_test)\n",
    "    mae_scores.append(mean_absolute_error(y_test, y_pred))\n",
    "    mse_scores.append(mean_squared_error(y_test, y_pred))\n",
    "    r2_scores.append(r2_score(y_test, y_pred))\n",
    "\n",
    "print(\"MAE của các fold:\", mae_scores)\n",
    "print(\"MAE trung bình:\", np.mean(mae_scores))\n",
    "print(\"MSE của các fold:\", mse_scores)\n",
    "print(\"MSE trung bình:\", np.mean(mse_scores))\n",
    "print(\"R2 của các fold:\", r2_scores)\n",
    "print(\"R2 trung bình:\", np.mean(r2_scores))"
   ]
  },
  {
   "cell_type": "code",
   "execution_count": 36,
   "metadata": {},
   "outputs": [
    {
     "name": "stderr",
     "output_type": "stream",
     "text": [
      "c:\\Users\\ME\\AppData\\Local\\Programs\\Python\\Python312\\Lib\\site-packages\\sklearn\\model_selection\\_split.py:776: UserWarning: The least populated class in y has only 1 members, which is less than n_splits=10.\n",
      "  warnings.warn(\n"
     ]
    },
    {
     "name": "stdout",
     "output_type": "stream",
     "text": [
      "MAE của các fold: [np.float64(2502645.208881579), np.float64(2371425.193256579), np.float64(2133481.4021381577), np.float64(2266159.5822368423), np.float64(2238507.8836633665), np.float64(2277445.021452145), np.float64(2131609.405940594), np.float64(2250998.004950495), np.float64(2279397.0495049506), np.float64(2154286.3044554456)]\n",
      "MAE trung bình: 2260595.5056480155\n",
      "MSE của các fold: [np.float64(11154400185230.9), np.float64(10306521056305.877), np.float64(8806007882122.416), np.float64(10514067531022.9), np.float64(9977808730193.814), np.float64(8907102108153.684), np.float64(7644140773766.689), np.float64(9136482190695.346), np.float64(10539579643800.152), np.float64(9737775679978.158)]\n",
      "MSE trung bình: 9672388578126.994\n",
      "R2 của các fold: [0.7410118579864502, 0.7549107074737549, 0.7663607597351074, 0.7053282260894775, 0.7383351922035217, 0.7429229617118835, 0.7958922386169434, 0.7747670412063599, 0.7427266836166382, 0.7631112337112427]\n",
      "R2 trung bình: 0.7525366902351379\n"
     ]
    }
   ],
   "source": [
    "# Cross-validation bằng Stratified K-Fold với 10 folds\n",
    "num_folds = 10\n",
    "skf = StratifiedKFold(n_splits=num_folds, shuffle=True, random_state=42)\n",
    "mae_scores = []\n",
    "mse_scores = []\n",
    "r2_scores = []\n",
    "\n",
    "for train_index, test_index in skf.split(X, y):\n",
    "    X_train, X_test = X.iloc[train_index], X.iloc[test_index]\n",
    "    y_train, y_test = y.iloc[train_index], y.iloc[test_index]\n",
    "    XGB_pipeline.fit(X_train, y_train)\n",
    "    y_pred = XGB_pipeline.predict(X_test)\n",
    "    mae_scores.append(mean_absolute_error(y_test, y_pred))\n",
    "    mse_scores.append(mean_squared_error(y_test, y_pred))\n",
    "    r2_scores.append(r2_score(y_test, y_pred))\n",
    "\n",
    "print(\"MAE của các fold:\", mae_scores)\n",
    "print(\"MAE trung bình:\", np.mean(mae_scores))\n",
    "print(\"MSE của các fold:\", mse_scores)\n",
    "print(\"MSE trung bình:\", np.mean(mse_scores))\n",
    "print(\"R2 của các fold:\", r2_scores)\n",
    "print(\"R2 trung bình:\", np.mean(r2_scores))"
   ]
  }
 ],
 "metadata": {
  "kernelspec": {
   "display_name": "Python 3",
   "language": "python",
   "name": "python3"
  },
  "language_info": {
   "codemirror_mode": {
    "name": "ipython",
    "version": 3
   },
   "file_extension": ".py",
   "mimetype": "text/x-python",
   "name": "python",
   "nbconvert_exporter": "python",
   "pygments_lexer": "ipython3",
   "version": "3.12.6"
  }
 },
 "nbformat": 4,
 "nbformat_minor": 2
}
